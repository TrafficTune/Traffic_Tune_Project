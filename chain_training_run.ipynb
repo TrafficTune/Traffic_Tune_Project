{
 "cells": [
  {
   "cell_type": "markdown",
   "id": "2476f7866dc519ab",
   "metadata": {
    "collapsed": false
   },
   "source": [
    "# Setup and Installations"
   ]
  },
  {
   "metadata": {
    "ExecuteTime": {
     "end_time": "2024-07-29T19:57:33.753120Z",
     "start_time": "2024-07-29T19:57:31.357892Z"
    }
   },
   "cell_type": "code",
   "source": [
    "import utils\n",
    "import visualizations_and_metrics as vm\n",
    "import env_manager as env_manager\n",
    "import algo_trainer as algo_trainer\n",
    "from typing import SupportsIndex"
   ],
   "id": "325ce834970de795",
   "outputs": [],
   "execution_count": 1
  },
  {
   "metadata": {
    "ExecuteTime": {
     "end_time": "2024-07-29T19:57:33.758606Z",
     "start_time": "2024-07-29T19:57:33.754066Z"
    }
   },
   "cell_type": "code",
   "source": [
    "def chain_training(manager: env_manager, generator: env_manager.EnvManager.env_generator, algo_agent, running_result: list):\n",
    "    if len(running_result) != 0: \n",
    "        # take the best config from the previous training \n",
    "        best = running_result[-1].get_best_result(\"env_runners/episode_reward_max\", \"max\")\n",
    "        \n",
    "        # Initialize the environment manager with new route file\n",
    "        rou, csv = next(generator)\n",
    "        manager.initialize_env(rou, csv)\n",
    "        \n",
    "        # continue the training with the best config\n",
    "        algo_agent.config = best.config\n",
    "        algo_agent.build_config()\n",
    "    \n",
    "    result = algo_agent.train()\n",
    "    \n",
    "    return result\n",
    "\n",
    "def training(num_intersection: int, experiment_type: str, algo_config: str, env_config: str, num_training: SupportsIndex):\n",
    "    running_result = []\n",
    "    sumo_type = \"SingleAgent\"\n",
    "    algo_type = experiment_type.split(\"_\")\n",
    "     \n",
    "    if experiment_type.__contains__(\"Multi\"):\n",
    "        sumo_type = \"MultiAgent\"\n",
    "    \n",
    "    # Initialize the environment manager\n",
    "    manager = env_manager.EnvManager(f\"{sumo_type}Environment\", env_config, intersection_id=f\"intersection_{num_intersection}\")\n",
    "    generator = manager.env_generator(f\"Nets/intersection_{num_intersection}/route_xml_path_intersection_{num_intersection}.txt\", algo_name=algo_type[0])\n",
    "    \n",
    "    # Initialize the environment manager with new route file\n",
    "    rou, csv = next(generator)\n",
    "    manager.initialize_env(rou, csv)\n",
    "    \n",
    "    algo_agent = algo_trainer.ALGOTrainer(config_path=algo_config, env_manager=manager, experiment_type=experiment_type)\n",
    "    algo_agent.build_config()\n",
    "\n",
    "    for i in range(num_training):\n",
    "        chain_result = chain_training(manager=manager, generator=generator, algo_agent=algo_agent, running_result=running_result)\n",
    "        if chain_result is not None:\n",
    "            running_result.append(chain_result)\n",
    "    \n",
    "    return running_result"
   ],
   "id": "57e8fffd58eb2107",
   "outputs": [],
   "execution_count": 2
  },
  {
   "metadata": {
    "ExecuteTime": {
     "end_time": "2024-07-29T19:57:34.097506Z",
     "start_time": "2024-07-29T19:57:34.093690Z"
    }
   },
   "cell_type": "code",
   "source": [
    "num_intersection_to_train = 4  # Choose which intersection you want to train\n",
    "\n",
    "# Choose the experiment_type:\n",
    "# PPO_SingleAgent | DQN_SingleAgent | DDQN_SingleAgent | PPO_MultiAgent | DQN_MultiAgent | DDQN_MultiAgent\n",
    "experiment_type = \"PPO_SingleAgent\"  \n",
    "\n",
    "num_training_cycles = 1\n",
    "\n",
    "env_config_file_path = \"env_config.json\"\n",
    "\n",
    "ppo_config_file_path = \"ppo_config.json\"\n",
    "\n",
    "dqn_config_file_path = \"dqn_config.json\""
   ],
   "id": "c1aea9551bb990a7",
   "outputs": [],
   "execution_count": 3
  },
  {
   "metadata": {},
   "cell_type": "code",
   "source": "results = training(num_intersection=num_intersection_to_train, experiment_type=experiment_type, algo_config=ppo_config_file_path, env_config=env_config_file_path, num_training=num_training_cycles)",
   "id": "63800ac021cb3fc2",
   "execution_count": 4,
   "outputs": [
    {
     "name": "stderr",
     "output_type": "stream",
     "text": [
      "2024-07-29 22:57:43,380\tWARNING deprecation.py:50 -- DeprecationWarning: `AlgorithmConfig.num_cpus_per_worker` has been deprecated. Use `AlgorithmConfig.num_cpus_per_env_runner` instead. This will raise an error in the future!\n",
      "2024-07-29 22:57:43,380\tWARNING deprecation.py:50 -- DeprecationWarning: `AlgorithmConfig.num_gpus_per_worker` has been deprecated. Use `AlgorithmConfig.num_gpus_per_env_runner` instead. This will raise an error in the future!\n",
      "2024-07-29 22:57:43,381\tWARNING deprecation.py:50 -- DeprecationWarning: `AlgorithmConfig.num_learner_workers` has been deprecated. Use `AlgorithmConfig.num_learners` instead. This will raise an error in the future!\n",
      "2024-07-29 22:57:43,381\tWARNING deprecation.py:50 -- DeprecationWarning: `AlgorithmConfig.num_cpus_per_learner_worker` has been deprecated. Use `AlgorithmConfig.num_cpus_per_learner` instead. This will raise an error in the future!\n",
      "2024-07-29 22:57:43,381\tWARNING deprecation.py:50 -- DeprecationWarning: `AlgorithmConfig.num_gpus_per_learner_worker` has been deprecated. Use `AlgorithmConfig.num_gpus_per_learner` instead. This will raise an error in the future!\n"
     ]
    },
    {
     "data": {
      "text/plain": [
       "<IPython.core.display.HTML object>"
      ],
      "text/html": [
       "<div class=\"tuneStatus\">\n",
       "  <div style=\"display: flex;flex-direction: row\">\n",
       "    <div style=\"display: flex;flex-direction: column;\">\n",
       "      <h3>Tune Status</h3>\n",
       "      <table>\n",
       "<tbody>\n",
       "<tr><td>Current time:</td><td>2024-07-29 22:59:42</td></tr>\n",
       "<tr><td>Running for: </td><td>00:01:59.28        </td></tr>\n",
       "<tr><td>Memory:      </td><td>11.7/16.0 GiB      </td></tr>\n",
       "</tbody>\n",
       "</table>\n",
       "    </div>\n",
       "    <div class=\"vDivider\"></div>\n",
       "    <div class=\"systemInfo\">\n",
       "      <h3>System Info</h3>\n",
       "      Using FIFO scheduling algorithm.<br>Logical resource usage: 3.0/8 CPUs, 0/0 GPUs\n",
       "    </div>\n",
       "    \n",
       "  </div>\n",
       "  <div class=\"hDivider\"></div>\n",
       "  <div class=\"trialStatus\">\n",
       "    <h3>Trial Status</h3>\n",
       "    <table>\n",
       "<thead>\n",
       "<tr><th>Trial name         </th><th>status    </th><th>loc            </th><th style=\"text-align: right;\">  clip_param</th><th style=\"text-align: right;\">  entropy_coeff</th><th style=\"text-align: right;\">   gamma</th><th style=\"text-align: right;\">  lambda_</th><th style=\"text-align: right;\">        lr</th><th style=\"text-align: right;\">  num_sgd_iter</th><th style=\"text-align: right;\">  sgd_minibatch_size</th><th style=\"text-align: right;\">  train_batch_size</th><th style=\"text-align: right;\">  iter</th><th style=\"text-align: right;\">  total time (s)</th><th style=\"text-align: right;\">  ts</th><th style=\"text-align: right;\">  num_healthy_workers</th><th style=\"text-align: right;\">  num_in_flight_async_\n",
       "sample_reqs</th><th style=\"text-align: right;\">  num_remote_worker_re\n",
       "starts</th></tr>\n",
       "</thead>\n",
       "<tbody>\n",
       "<tr><td>PPO_PPO_d171f_00000</td><td>TERMINATED</td><td>127.0.0.1:84591</td><td style=\"text-align: right;\">    0.280609</td><td style=\"text-align: right;\">      0.0186549</td><td style=\"text-align: right;\">0.925649</td><td style=\"text-align: right;\"> 0.925862</td><td style=\"text-align: right;\">0.00136161</td><td style=\"text-align: right;\">             6</td><td style=\"text-align: right;\">                 128</td><td style=\"text-align: right;\">              1024</td><td style=\"text-align: right;\">     4</td><td style=\"text-align: right;\">         107.513</td><td style=\"text-align: right;\">4096</td><td style=\"text-align: right;\">                    1</td><td style=\"text-align: right;\">0</td><td style=\"text-align: right;\">0</td></tr>\n",
       "</tbody>\n",
       "</table>\n",
       "  </div>\n",
       "</div>\n",
       "<style>\n",
       ".tuneStatus {\n",
       "  color: var(--jp-ui-font-color1);\n",
       "}\n",
       ".tuneStatus .systemInfo {\n",
       "  display: flex;\n",
       "  flex-direction: column;\n",
       "}\n",
       ".tuneStatus td {\n",
       "  white-space: nowrap;\n",
       "}\n",
       ".tuneStatus .trialStatus {\n",
       "  display: flex;\n",
       "  flex-direction: column;\n",
       "}\n",
       ".tuneStatus h3 {\n",
       "  font-weight: bold;\n",
       "}\n",
       ".tuneStatus .hDivider {\n",
       "  border-bottom-width: var(--jp-border-width);\n",
       "  border-bottom-color: var(--jp-border-color0);\n",
       "  border-bottom-style: solid;\n",
       "}\n",
       ".tuneStatus .vDivider {\n",
       "  border-left-width: var(--jp-border-width);\n",
       "  border-left-color: var(--jp-border-color0);\n",
       "  border-left-style: solid;\n",
       "  margin: 0.5em 1em 0.5em 1em;\n",
       "}\n",
       "</style>\n"
      ]
     },
     "metadata": {},
     "output_type": "display_data"
    },
    {
     "name": "stderr",
     "output_type": "stream",
     "text": [
      "\u001B[36m(PPO pid=84591)\u001B[0m 2024-07-29 22:57:45,604\tWARNING deprecation.py:50 -- DeprecationWarning: `AlgorithmConfig.num_cpus_per_worker` has been deprecated. Use `AlgorithmConfig.num_cpus_per_env_runner` instead. This will raise an error in the future!\n",
      "\u001B[36m(PPO pid=84591)\u001B[0m 2024-07-29 22:57:45,604\tWARNING deprecation.py:50 -- DeprecationWarning: `AlgorithmConfig.num_gpus_per_worker` has been deprecated. Use `AlgorithmConfig.num_gpus_per_env_runner` instead. This will raise an error in the future!\n",
      "\u001B[36m(PPO pid=84591)\u001B[0m 2024-07-29 22:57:45,604\tWARNING deprecation.py:50 -- DeprecationWarning: `AlgorithmConfig.num_learner_workers` has been deprecated. Use `AlgorithmConfig.num_learners` instead. This will raise an error in the future!\n",
      "\u001B[36m(PPO pid=84591)\u001B[0m 2024-07-29 22:57:45,604\tWARNING deprecation.py:50 -- DeprecationWarning: `AlgorithmConfig.num_cpus_per_learner_worker` has been deprecated. Use `AlgorithmConfig.num_cpus_per_learner` instead. This will raise an error in the future!\n",
      "\u001B[36m(PPO pid=84591)\u001B[0m 2024-07-29 22:57:45,604\tWARNING deprecation.py:50 -- DeprecationWarning: `AlgorithmConfig.num_gpus_per_learner_worker` has been deprecated. Use `AlgorithmConfig.num_gpus_per_learner` instead. This will raise an error in the future!\n"
     ]
    },
    {
     "name": "stdout",
     "output_type": "stream",
     "text": [
      "\u001B[36m(RolloutWorker pid=84594)\u001B[0m  Retrying in 1 seconds\n",
      "\u001B[36m(RolloutWorker pid=84594)\u001B[0m Step #0.00 (0ms ?*RT. ?UPS, TraCI: 5ms, vehicles TOT 0 ACT 0 BUF 0)                      \n",
      "\u001B[36m(RolloutWorker pid=84599)\u001B[0m  Retrying in 1 seconds\u001B[32m [repeated 2x across cluster] (Ray deduplicates logs by default. Set RAY_DEDUP_LOGS=0 to disable log deduplication, or see https://docs.ray.io/en/master/ray-observability/user-guides/configure-logging.html#log-deduplication for more options.)\u001B[0m\n",
      "\u001B[36m(RolloutWorker pid=84599)\u001B[0m Step #0.00 (0ms ?*RT. ?UPS, TraCI: 3ms, vehicles TOT 0 ACT 0 BUF 0)                      \u001B[32m [repeated 2x across cluster]\u001B[0m\n"
     ]
    },
    {
     "name": "stderr",
     "output_type": "stream",
     "text": [
      "\u001B[36m(PPO pid=84591)\u001B[0m Install gputil for GPU system monitoring.\n"
     ]
    },
    {
     "name": "stdout",
     "output_type": "stream",
     "text": [
      "Step #3600.00 (1ms ~= 1000.00*RT, ~180000.00UPS, TraCI: 42ms, vehicles TOT 4509 ACT 180 BU, vehicles TOT 1 ACT 1 BUF 0)      \n",
      "\u001B[36m(RolloutWorker pid=84594)\u001B[0m  Retrying in 1 seconds\u001B[32m [repeated 3x across cluster]\u001B[0m\n",
      "\u001B[36m(PPO pid=84591)\u001B[0m Step #0.00 (0ms ?*RT. ?UPS, TraCI: 4ms, vehicles TOT 0 ACT 0 BUF 0)                      \n",
      "\u001B[36m(RolloutWorker pid=84599)\u001B[0m  Retrying in 1 seconds\n",
      "Step #3600.00 (1ms ~= 1000.00*RT, ~137000.00UPS, TraCI: 35ms, vehicles TOT 4465 ACT 137 BU ACT 3 BUF 0)                      \n",
      "\u001B[36m(RolloutWorker pid=84599)\u001B[0m  Retrying in 1 seconds\n"
     ]
    },
    {
     "name": "stderr",
     "output_type": "stream",
     "text": [
      "\u001B[36m(PPO pid=84591)\u001B[0m Checkpoint successfully created at: Checkpoint(filesystem=local, path=/Users/md/Desktop/Traffic_Tune_Project/Outputs/Training/intersection_4/saved_agent/PPO_2024-07-29_22-57-43/PPO_PPO_d171f_00000_0_clip_param=0.2806,entropy_coeff=0.0187,gamma=0.9256,lambda=0.9259,lr=0.0014,num_sgd_iter=6,sgd_minibatch_siz_2024-07-29_22-57-43/checkpoint_000000)\n"
     ]
    },
    {
     "name": "stdout",
     "output_type": "stream",
     "text": [
      "Step #3600.00 (1ms ~= 1000.00*RT, ~185000.00UPS, TraCI: 39ms, vehicles TOT 4613 ACT 185 BU, vehicles TOT 1 ACT 1 BUF 0)      \n",
      "\u001B[36m(RolloutWorker pid=84594)\u001B[0m  Retrying in 1 seconds\n",
      "Step #3600.00 (1ms ~= 1000.00*RT, ~170000.00UPS, TraCI: 44ms, vehicles TOT 4478 ACT 170 BU ACT 1 BUF 0)                      \n",
      "\u001B[36m(RolloutWorker pid=84599)\u001B[0m  Retrying in 1 seconds\n"
     ]
    },
    {
     "name": "stderr",
     "output_type": "stream",
     "text": [
      "\u001B[36m(PPO pid=84591)\u001B[0m Checkpoint successfully created at: Checkpoint(filesystem=local, path=/Users/md/Desktop/Traffic_Tune_Project/Outputs/Training/intersection_4/saved_agent/PPO_2024-07-29_22-57-43/PPO_PPO_d171f_00000_0_clip_param=0.2806,entropy_coeff=0.0187,gamma=0.9256,lambda=0.9259,lr=0.0014,num_sgd_iter=6,sgd_minibatch_siz_2024-07-29_22-57-43/checkpoint_000001)\n"
     ]
    },
    {
     "name": "stdout",
     "output_type": "stream",
     "text": [
      "Step #3600.00 (1ms ~= 1000.00*RT, ~143000.00UPS, TraCI: 25ms, vehicles TOT 4528 ACT 143 BUACT 2 BUF 0)                       \n",
      "\u001B[36m(RolloutWorker pid=84594)\u001B[0m  Retrying in 1 seconds\n",
      "Step #3600.00 (0ms ?*RT. ?UPS, TraCI: 40ms, vehicles TOT 4456 ACT 128 BUF 497)            ACT 1 BUF 0)                       \n",
      "\u001B[36m(RolloutWorker pid=84599)\u001B[0m  Retrying in 1 seconds\n",
      "Step #3600.00 (0ms ?*RT. ?UPS, TraCI: 42ms, vehicles TOT 4454 ACT 170 BUF 601)            ACT 2 BUF 0)                       \n"
     ]
    },
    {
     "name": "stderr",
     "output_type": "stream",
     "text": [
      "\u001B[36m(PPO pid=84591)\u001B[0m Checkpoint successfully created at: Checkpoint(filesystem=local, path=/Users/md/Desktop/Traffic_Tune_Project/Outputs/Training/intersection_4/saved_agent/PPO_2024-07-29_22-57-43/PPO_PPO_d171f_00000_0_clip_param=0.2806,entropy_coeff=0.0187,gamma=0.9256,lambda=0.9259,lr=0.0014,num_sgd_iter=6,sgd_minibatch_siz_2024-07-29_22-57-43/checkpoint_000002)\n"
     ]
    },
    {
     "name": "stdout",
     "output_type": "stream",
     "text": [
      "Step #3600.00 (1ms ~= 1000.00*RT, ~127000.00UPS, TraCI: 40ms, vehicles TOT 4462 ACT 127 BU ACT 2 BUF 0)                      \n",
      "\u001B[36m(RolloutWorker pid=84594)\u001B[0m  Retrying in 1 seconds\u001B[32m [repeated 2x across cluster]\u001B[0m\n",
      "Step #3600.00 (0ms ?*RT. ?UPS, TraCI: 41ms, vehicles TOT 4611 ACT 130 BUF 467)            ACT 0 BUF 0)                       \n"
     ]
    },
    {
     "name": "stderr",
     "output_type": "stream",
     "text": [
      "\u001B[36m(PPO pid=84591)\u001B[0m Checkpoint successfully created at: Checkpoint(filesystem=local, path=/Users/md/Desktop/Traffic_Tune_Project/Outputs/Training/intersection_4/saved_agent/PPO_2024-07-29_22-57-43/PPO_PPO_d171f_00000_0_clip_param=0.2806,entropy_coeff=0.0187,gamma=0.9256,lambda=0.9259,lr=0.0014,num_sgd_iter=6,sgd_minibatch_siz_2024-07-29_22-57-43/checkpoint_000003)\n",
      "2024-07-29 22:59:42,656\tINFO tune.py:1009 -- Wrote the latest version of all result files and experiment state to '/Users/md/Desktop/Traffic_Tune_Project/Outputs/Training/intersection_4/saved_agent/PPO_2024-07-29_22-57-43' in 0.0114s.\n"
     ]
    },
    {
     "name": "stdout",
     "output_type": "stream",
     "text": [
      "Step #2485.00 (0ms ?*RT. ?UPS, TraCI: 857ms, vehicles TOT 3151 ACT 183 BUF 328)            vehicles TOT 3 ACT 3 BUF 0)       \n",
      "\u001B[36m(RolloutWorker pid=84599)\u001B[0m  Retrying in 1 seconds\n"
     ]
    },
    {
     "name": "stderr",
     "output_type": "stream",
     "text": [
      "2024-07-29 22:59:52,682\tINFO tune.py:1041 -- Total run time: 129.34 seconds (119.27 seconds for the tuning loop).\n",
      "\u001B[36m(RolloutWorker pid=84599)\u001B[0m Error: tcpip::Socket::recvAndCheck @ recv: Connection reset by peer\n",
      "\u001B[36m(RolloutWorker pid=84599)\u001B[0m Quitting (on error).\n"
     ]
    },
    {
     "name": "stdout",
     "output_type": "stream",
     "text": [
      "Step #2900.00 (0ms ?*RT. ?UPS, TraCI: 15ms, vehicles TOT 3797 ACT 124 BUF 333)            ACT 2 BUF 0)                       \n",
      "\u001B[36m(RolloutWorker pid=84670)\u001B[0m  Retrying in 1 seconds\n",
      "\u001B[36m(RolloutWorker pid=84670)\u001B[0m Step #0.00 (0ms ?*RT. ?UPS, TraCI: 5ms, vehicles TOT 0 ACT 0 BUF 0)                      \n",
      "\u001B[36m(RolloutWorker pid=84676)\u001B[0m  Retrying in 1 seconds\n",
      "\u001B[36m(RolloutWorker pid=84679)\u001B[0m  Retrying in 1 seconds\n",
      "\u001B[36m(RolloutWorker pid=84676)\u001B[0m Step #0.00 (0ms ?*RT. ?UPS, TraCI: 6ms, vehicles TOT 0 ACT 0 BUF 0)                      \n",
      "\u001B[36m(RolloutWorker pid=84679)\u001B[0m Step #0.00 (0ms ?*RT. ?UPS, TraCI: 5ms, vehicles TOT 0 ACT 0 BUF 0)                      \n",
      "\u001B[36m(RolloutWorker pid=84684)\u001B[0m  Retrying in 1 seconds\n",
      "\u001B[36m(RolloutWorker pid=84684)\u001B[0m  Retrying in 1 seconds\n",
      "\u001B[36m(RolloutWorker pid=84684)\u001B[0m Step #0.00 (0ms ?*RT. ?UPS, TraCI: 6ms, vehicles TOT 0 ACT 0 BUF 0)                      \n",
      "Step #3600.00 (1ms ~= 1000.00*RT, ~183000.00UPS, TraCI: 36ms, vehicles TOT 4637 ACT 183 BU ACT 2 BUF 0)                      \n",
      "\u001B[36m(RolloutWorker pid=84684)\u001B[0m  Retrying in 1 seconds\n",
      "Step #3600.00 (1ms ~= 1000.00*RT, ~172000.00UPS, TraCI: 36ms, vehicles TOT 4579 ACT 172 BU, vehicles TOT 2 ACT 2 BUF 0)      \n",
      "\u001B[36m(RolloutWorker pid=84684)\u001B[0m  Retrying in 1 seconds\n",
      "Step #3600.00 (1ms ~= 1000.00*RT, ~191000.00UPS, TraCI: 36ms, vehicles TOT 4461 ACT 191 BU ACT 1 BUF 0)                      \n",
      "\u001B[36m(RolloutWorker pid=84684)\u001B[0m  Retrying in 1 seconds\n"
     ]
    }
   ]
  },
  {
   "metadata": {
    "ExecuteTime": {
     "end_time": "2024-07-29T20:00:41.702814Z",
     "start_time": "2024-07-29T19:59:52.696520Z"
    }
   },
   "cell_type": "code",
   "source": [
    "result = results[-1]\n",
    "from ray.rllib.algorithms.algorithm import Algorithm\n",
    "\n",
    "best_result = result.get_best_result(\"env_runners/episode_reward_max\", \"max\")\n",
    "checkpoint_path = best_result.checkpoint.path\n",
    "print(f'Best checkpoint path: {checkpoint_path}')\n",
    "\n",
    "# Load the Algorithm from the checkpoint\n",
    "algo = Algorithm.from_checkpoint(checkpoint_path)\n",
    "\n",
    "# Retrieve the current configuration\n",
    "new_config = algo.config.copy()\n",
    "new_config[\"evaluation_duration\"] = 2 # Define as many evaluation episodes as you want\n",
    "\n",
    "\n",
    "# Re-create the algorithm instance with the updated configuration\n",
    "algo = Algorithm.from_checkpoint(checkpoint_path)\n",
    "algo.config = new_config\n",
    "\n",
    "# Evaluate the Algorithm\n",
    "eval_results = algo.evaluate()\n",
    "print(eval_results)"
   ],
   "id": "b969ba9404d829af",
   "outputs": [
    {
     "name": "stderr",
     "output_type": "stream",
     "text": [
      "2024-07-29 22:59:52,704\tWARNING deprecation.py:50 -- DeprecationWarning: `_enable_new_api_stack` has been deprecated. Use `AlgorithmConfig._enable_new_api_stack` instead. This will raise an error in the future!\n",
      "2024-07-29 22:59:52,704\tWARNING deprecation.py:50 -- DeprecationWarning: `AlgorithmConfig.num_cpus_per_worker` has been deprecated. Use `AlgorithmConfig.num_cpus_per_env_runner` instead. This will raise an error in the future!\n",
      "2024-07-29 22:59:52,705\tWARNING deprecation.py:50 -- DeprecationWarning: `AlgorithmConfig.num_gpus_per_worker` has been deprecated. Use `AlgorithmConfig.num_gpus_per_env_runner` instead. This will raise an error in the future!\n",
      "2024-07-29 22:59:52,705\tWARNING deprecation.py:50 -- DeprecationWarning: `AlgorithmConfig.num_learner_workers` has been deprecated. Use `AlgorithmConfig.num_learners` instead. This will raise an error in the future!\n",
      "2024-07-29 22:59:52,705\tWARNING deprecation.py:50 -- DeprecationWarning: `AlgorithmConfig.num_cpus_per_learner_worker` has been deprecated. Use `AlgorithmConfig.num_cpus_per_learner` instead. This will raise an error in the future!\n",
      "2024-07-29 22:59:52,705\tWARNING deprecation.py:50 -- DeprecationWarning: `AlgorithmConfig.num_gpus_per_learner_worker` has been deprecated. Use `AlgorithmConfig.num_gpus_per_learner` instead. This will raise an error in the future!\n",
      "/Users/md/Desktop/Traffic_Tune_Project/.venv/lib/python3.10/site-packages/ray/rllib/algorithms/algorithm.py:516: RayDeprecationWarning: This API is deprecated and may be removed in future Ray releases. You could suppress this warning by setting env variable PYTHONWARNINGS=\"ignore::DeprecationWarning\"\n",
      "`UnifiedLogger` will be removed in Ray 2.7.\n",
      "  return UnifiedLogger(config, logdir, loggers=None)\n",
      "/Users/md/Desktop/Traffic_Tune_Project/.venv/lib/python3.10/site-packages/ray/tune/logger/unified.py:53: RayDeprecationWarning: This API is deprecated and may be removed in future Ray releases. You could suppress this warning by setting env variable PYTHONWARNINGS=\"ignore::DeprecationWarning\"\n",
      "The `JsonLogger interface is deprecated in favor of the `ray.tune.json.JsonLoggerCallback` interface and will be removed in Ray 2.7.\n",
      "  self._loggers.append(cls(self.config, self.logdir, self.trial))\n",
      "/Users/md/Desktop/Traffic_Tune_Project/.venv/lib/python3.10/site-packages/ray/tune/logger/unified.py:53: RayDeprecationWarning: This API is deprecated and may be removed in future Ray releases. You could suppress this warning by setting env variable PYTHONWARNINGS=\"ignore::DeprecationWarning\"\n",
      "The `CSVLogger interface is deprecated in favor of the `ray.tune.csv.CSVLoggerCallback` interface and will be removed in Ray 2.7.\n",
      "  self._loggers.append(cls(self.config, self.logdir, self.trial))\n",
      "/Users/md/Desktop/Traffic_Tune_Project/.venv/lib/python3.10/site-packages/ray/tune/logger/unified.py:53: RayDeprecationWarning: This API is deprecated and may be removed in future Ray releases. You could suppress this warning by setting env variable PYTHONWARNINGS=\"ignore::DeprecationWarning\"\n",
      "The `TBXLogger interface is deprecated in favor of the `ray.tune.tensorboardx.TBXLoggerCallback` interface and will be removed in Ray 2.7.\n",
      "  self._loggers.append(cls(self.config, self.logdir, self.trial))\n"
     ]
    },
    {
     "name": "stdout",
     "output_type": "stream",
     "text": [
      "Best checkpoint path: /Users/md/Desktop/Traffic_Tune_Project/Outputs/Training/intersection_4/saved_agent/PPO_2024-07-29_22-57-43/PPO_PPO_d171f_00000_0_clip_param=0.2806,entropy_coeff=0.0187,gamma=0.9256,lambda=0.9259,lr=0.0014,num_sgd_iter=6,sgd_minibatch_siz_2024-07-29_22-57-43/checkpoint_000003\n",
      " Retrying in 1 seconds\n",
      "Step #0.00 (0ms ?*RT. ?UPS, TraCI: 6ms, vehicles TOT 0 ACT 0 BUF 0)                      \r\n",
      " Retrying in 1 seconds\n"
     ]
    },
    {
     "name": "stderr",
     "output_type": "stream",
     "text": [
      "2024-07-29 23:00:02,092\tWARNING util.py:61 -- Install gputil for GPU system monitoring.\n"
     ]
    },
    {
     "name": "stdout",
     "output_type": "stream",
     "text": [
      "Step #0.00 (0ms ?*RT. ?UPS, TraCI: 5ms, vehicles TOT 0 ACT 0 BUF 0)                      \r\n"
     ]
    },
    {
     "name": "stderr",
     "output_type": "stream",
     "text": [
      "/Users/md/Desktop/Traffic_Tune_Project/.venv/lib/python3.10/site-packages/ray/rllib/algorithms/algorithm.py:516: RayDeprecationWarning: This API is deprecated and may be removed in future Ray releases. You could suppress this warning by setting env variable PYTHONWARNINGS=\"ignore::DeprecationWarning\"\n",
      "`UnifiedLogger` will be removed in Ray 2.7.\n",
      "  return UnifiedLogger(config, logdir, loggers=None)\n",
      "/Users/md/Desktop/Traffic_Tune_Project/.venv/lib/python3.10/site-packages/ray/tune/logger/unified.py:53: RayDeprecationWarning: This API is deprecated and may be removed in future Ray releases. You could suppress this warning by setting env variable PYTHONWARNINGS=\"ignore::DeprecationWarning\"\n",
      "The `JsonLogger interface is deprecated in favor of the `ray.tune.json.JsonLoggerCallback` interface and will be removed in Ray 2.7.\n",
      "  self._loggers.append(cls(self.config, self.logdir, self.trial))\n",
      "/Users/md/Desktop/Traffic_Tune_Project/.venv/lib/python3.10/site-packages/ray/tune/logger/unified.py:53: RayDeprecationWarning: This API is deprecated and may be removed in future Ray releases. You could suppress this warning by setting env variable PYTHONWARNINGS=\"ignore::DeprecationWarning\"\n",
      "The `CSVLogger interface is deprecated in favor of the `ray.tune.csv.CSVLoggerCallback` interface and will be removed in Ray 2.7.\n",
      "  self._loggers.append(cls(self.config, self.logdir, self.trial))\n",
      "/Users/md/Desktop/Traffic_Tune_Project/.venv/lib/python3.10/site-packages/ray/tune/logger/unified.py:53: RayDeprecationWarning: This API is deprecated and may be removed in future Ray releases. You could suppress this warning by setting env variable PYTHONWARNINGS=\"ignore::DeprecationWarning\"\n",
      "The `TBXLogger interface is deprecated in favor of the `ray.tune.tensorboardx.TBXLoggerCallback` interface and will be removed in Ray 2.7.\n",
      "  self._loggers.append(cls(self.config, self.logdir, self.trial))\n"
     ]
    },
    {
     "name": "stdout",
     "output_type": "stream",
     "text": [
      " Retrying in 1 seconds\n",
      "Step #0.00 (0ms ?*RT. ?UPS, TraCI: 6ms, vehicles TOT 0 ACT 0 BUF 0)                      \r\n",
      " Retrying in 1 seconds\n"
     ]
    },
    {
     "name": "stderr",
     "output_type": "stream",
     "text": [
      "2024-07-29 23:00:10,097\tWARNING util.py:61 -- Install gputil for GPU system monitoring.\n"
     ]
    },
    {
     "name": "stdout",
     "output_type": "stream",
     "text": [
      "Step #0.00 (0ms ?*RT. ?UPS, TraCI: 6ms, vehicles TOT 0 ACT 0 BUF 0)                      \r\n",
      "{'env_runners': {'episode_reward_max': -16.73, 'episode_reward_min': -21.12, 'episode_reward_mean': -18.925, 'episode_len_mean': 720.0, 'episode_media': {}, 'episodes_timesteps_total': 1440, 'policy_reward_min': {}, 'policy_reward_max': {}, 'policy_reward_mean': {}, 'custom_metrics': {'4_tls_total_waiting_time_mean': 310.0, '4_tls_total_waiting_time_min': 125.0, '4_tls_total_waiting_time_max': 495.0, '4_tls_lane_count_mean': 15.0, '4_tls_lane_count_min': 15, '4_tls_lane_count_max': 15, '4_tls_episode_total_waiting_time_mean': 310.0, '4_tls_episode_total_waiting_time_min': 125.0, '4_tls_episode_total_waiting_time_max': 495.0}, 'hist_stats': {'episode_reward': [-21.12, -16.73], 'episode_lengths': [720, 720]}, 'sampler_perf': {'mean_raw_obs_processing_ms': 1.6401943707210465, 'mean_inference_ms': 0.4818916155117744, 'mean_action_processing_ms': 0.0489270800430928, 'mean_env_wait_ms': 20.037911316559537, 'mean_env_render_ms': 0.0}, 'num_faulty_episodes': 0, 'connector_metrics': {'ObsPreprocessorConnector_ms': 0.004315376281738281, 'StateBufferConnector_ms': 0.0025033950805664062, 'ViewRequirementAgentConnector_ms': 0.07410049438476562}, 'num_episodes': 2, 'episode_return_max': -16.73, 'episode_return_min': -21.12, 'episode_return_mean': -18.925, 'episodes_this_iter': 2}, 'num_agent_steps_sampled_this_iter': 1440, 'num_env_steps_sampled_this_iter': 1440, 'timesteps_this_iter': 1440}\n"
     ]
    }
   ],
   "execution_count": 5
  },
  {
   "metadata": {
    "ExecuteTime": {
     "end_time": "2024-07-29T20:01:45.663994Z",
     "start_time": "2024-07-29T20:01:45.474332Z"
    }
   },
   "cell_type": "code",
   "source": [
    "# Notify when done\n",
    "experiment_date = env_manager.datetime.now().strftime(\"%m.%d-%H:%M:%S\")\n",
    "message = f'Training for intersection {num_intersection_to_train} with {experiment_type} from {experiment_date} is done!'  # Replace with your message\n",
    "recipient = 'matand94@icloud.com'  # Replace with your iCloud email\n",
    "utils.send_imessage(message, recipient)"
   ],
   "id": "94ed8a9c699744d4",
   "outputs": [],
   "execution_count": 7
  },
  {
   "metadata": {},
   "cell_type": "code",
   "source": [
    "# Save the results to a CSV file\n",
    "utils.save_custom_metrics_to_csv(results, num_intersection_to_train, experiment_type, cycle_index=2)\n"
   ],
   "id": "4941fe2a1ffc0e09",
   "outputs": [],
   "execution_count": null
  }
 ],
 "metadata": {
  "kernelspec": {
   "display_name": "Python 3 (ipykernel)",
   "language": "python",
   "name": "python3"
  },
  "language_info": {
   "codemirror_mode": {
    "name": "ipython",
    "version": 3
   },
   "file_extension": ".py",
   "mimetype": "text/x-python",
   "name": "python",
   "nbconvert_exporter": "python",
   "pygments_lexer": "ipython3",
   "version": "3.11.9"
  }
 },
 "nbformat": 4,
 "nbformat_minor": 5
}
