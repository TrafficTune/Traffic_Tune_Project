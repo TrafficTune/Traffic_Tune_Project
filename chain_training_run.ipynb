{
 "cells": [
  {
   "cell_type": "markdown",
   "id": "98a145c81c2dbf7b",
   "metadata": {
    "collapsed": false
   },
   "source": [
    "# Traffic Tune - Optimizing Traffic Signals with Reinforcement Learning\n",
    "\n",
    "## Introduction\n",
    "\n",
    "Welcome to the Traffic Tune POC notebook. Our project focused on optimizing traffic signal control using reinforcement learning. Traffic congestion is a major problem in urban areas, leading to increased travel times, fuel consumption, and pollution. Traditional traffic signal control systems often struggle to adapt to dynamic traffic conditions, resulting in suboptimal traffic flow.\n",
    "\n",
    "Traffic Tune is a recommendation system that leverages reinforcement learning to dynamically adjust traffic signals at intersections. By learning from traffic patterns in real-time, Traffic Tune aims to improve traffic flow, reduce congestion, and enhance overall transportation efficiency.\n",
    "\n",
    "In this POC, we will demonstrate how to train a reinforcement learning agent to optimize traffic signal control in a simulated environment. We will use the SUMO (Simulation of Urban MObility) traffic simulation tool and the Stable Baselines3 library to train a Deep Q-Network (DQN) agent to learn an optimal traffic signal control policy.\n"
   ]
  },
  {
   "cell_type": "markdown",
   "id": "2476f7866dc519ab",
   "metadata": {
    "collapsed": false
   },
   "source": [
    "# Setup and Installations"
   ]
  },
  {
   "metadata": {
    "ExecuteTime": {
     "end_time": "2024-07-24T19:33:46.420008Z",
     "start_time": "2024-07-24T19:33:44.663434Z"
    }
   },
   "cell_type": "code",
   "source": [
    "import env_manager as env_manager\n",
    "import ppo_trainer as ppo_trainer\n",
    "import dqn_trainer as dqn_trainer"
   ],
   "id": "325ce834970de795",
   "outputs": [],
   "execution_count": 1
  },
  {
   "metadata": {
    "ExecuteTime": {
     "end_time": "2024-07-24T19:33:46.424900Z",
     "start_time": "2024-07-24T19:33:46.420923Z"
    }
   },
   "cell_type": "code",
   "source": [
    "def chain_training(manager: env_manager, generator: env_manager.EnvManager.env_generator, algo_agent, running_result: list):\n",
    "    if len(running_result) != 0: \n",
    "        # take the best config from the previous training \n",
    "        best = running_result[-1].get_best_result(\"env_runners/episode_reward_max\", \"max\")\n",
    "        \n",
    "        # Initialize the environment manager with new route file\n",
    "        rou, csv = next(generator)\n",
    "        manager.initialize_env(rou, csv)\n",
    "        \n",
    "        # continue the training with the best config\n",
    "        algo_agent.config = best.config\n",
    "        algo_agent.build_config()\n",
    "    \n",
    "    result = algo_agent.train()\n",
    "    \n",
    "    return result\n",
    "\n",
    "def training(num_intersection: int, experiment_type: str, algo_config: str, env_config: str, num_training_cycles: int):\n",
    "    running_result = []\n",
    "    algo_agent = None\n",
    "    sumo_type = \"SingleAgent\"\n",
    "    algo_type = experiment_type.split(\"_\")\n",
    "    \n",
    "    if experiment_type.__contains__(\"Multi\"):\n",
    "        sumo_type = \"MultiAgent\"\n",
    "    \n",
    "    # Initialize the environment manager\n",
    "    manager = env_manager.EnvManager(f\"{sumo_type}Environment\", env_config, json_id=f\"intersection_{num_intersection}\")\n",
    "    generator = manager.env_generator(f\"Nets/intersection_{num_intersection}/route_xml_path_intersection_{num_intersection}.txt\", algo_name=algo_type[0])\n",
    "    \n",
    "    # Initialize the environment manager with new route file\n",
    "    rou, csv = next(generator)\n",
    "    manager.initialize_env(rou, csv)\n",
    "    \n",
    "    # Initialize the Algo agent\n",
    "    if algo_config.startswith(\"ppo\"):\n",
    "        ppo_agent = ppo_trainer.PPOTrainer(config_path=algo_config, env_manager=manager, experiment_type=experiment_type)\n",
    "        ppo_agent.build_config()\n",
    "        algo_agent = ppo_agent\n",
    "        \n",
    "    elif algo_config.startswith(\"dqn\"):\n",
    "        dqn_agent = dqn_trainer.DQNTrainer(config_path=algo_config, env_manager=manager, experiment_type=experiment_type)\n",
    "        dqn_agent.build_config()\n",
    "        algo_agent = dqn_agent\n",
    "\n",
    "    for i in range(num_training_cycles):\n",
    "        chain_result = chain_training(manager=manager, generator=generator, algo_agent=algo_agent, running_result=running_result)\n",
    "        if chain_result is not None:\n",
    "            running_result.append(chain_result)\n",
    "    \n",
    "    return running_result"
   ],
   "id": "57e8fffd58eb2107",
   "outputs": [],
   "execution_count": 2
  },
  {
   "metadata": {
    "ExecuteTime": {
     "end_time": "2024-07-24T19:35:06.324353Z",
     "start_time": "2024-07-24T19:35:06.320691Z"
    }
   },
   "cell_type": "code",
   "source": [
    "num_intersection_to_train = 1  # Choose which intersection you want to train\n",
    "\n",
    "# Choose the experiment_type:\n",
    "# PPO_SingleAgent | PPO_MultiAgent | DQN_SingleAgent | DDQN_SingleAgent | DQN_MultiAgent | DDQN_MultiAgent\n",
    "experiment_type = \"PPO_SingleAgent\"  \n",
    "\n",
    "num_training_cycles = 1\n",
    "\n",
    "env_config_file_path = \"env_config.json\"\n",
    "\n",
    "ppo_config_file_path = \"ppo_config.json\"\n",
    "\n",
    "dqn_config_file_path = \"dqn_config.json\""
   ],
   "id": "c1aea9551bb990a7",
   "outputs": [],
   "execution_count": 5
  },
  {
   "metadata": {},
   "cell_type": "code",
   "source": "results = training(num_intersection=num_intersection_to_train, experiment_type=experiment_type, algo_config=ppo_config_file_path, env_config=env_config_file_path, num_training_cycles=num_training_cycles)",
   "id": "63800ac021cb3fc2",
   "execution_count": 6,
   "outputs": [
    {
     "name": "stderr",
     "output_type": "stream",
     "text": [
      "2024-07-24 22:35:08,874\tWARNING deprecation.py:50 -- DeprecationWarning: `AlgorithmConfig.num_cpus_per_worker` has been deprecated. Use `AlgorithmConfig.num_cpus_per_env_runner` instead. This will raise an error in the future!\n",
      "2024-07-24 22:35:08,875\tWARNING deprecation.py:50 -- DeprecationWarning: `AlgorithmConfig.num_gpus_per_worker` has been deprecated. Use `AlgorithmConfig.num_gpus_per_env_runner` instead. This will raise an error in the future!\n",
      "2024-07-24 22:35:08,875\tWARNING deprecation.py:50 -- DeprecationWarning: `AlgorithmConfig.num_learner_workers` has been deprecated. Use `AlgorithmConfig.num_learners` instead. This will raise an error in the future!\n",
      "2024-07-24 22:35:08,875\tWARNING deprecation.py:50 -- DeprecationWarning: `AlgorithmConfig.num_cpus_per_learner_worker` has been deprecated. Use `AlgorithmConfig.num_cpus_per_learner` instead. This will raise an error in the future!\n",
      "2024-07-24 22:35:08,875\tWARNING deprecation.py:50 -- DeprecationWarning: `AlgorithmConfig.num_gpus_per_learner_worker` has been deprecated. Use `AlgorithmConfig.num_gpus_per_learner` instead. This will raise an error in the future!\n"
     ]
    },
    {
     "data": {
      "text/plain": [
       "<IPython.core.display.HTML object>"
      ],
      "text/html": [
       "<div class=\"tuneStatus\">\n",
       "  <div style=\"display: flex;flex-direction: row\">\n",
       "    <div style=\"display: flex;flex-direction: column;\">\n",
       "      <h3>Tune Status</h3>\n",
       "      <table>\n",
       "<tbody>\n",
       "<tr><td>Current time:</td><td>2024-07-24 22:37:30</td></tr>\n",
       "<tr><td>Running for: </td><td>00:02:21.13        </td></tr>\n",
       "<tr><td>Memory:      </td><td>10.4/16.0 GiB      </td></tr>\n",
       "</tbody>\n",
       "</table>\n",
       "    </div>\n",
       "    <div class=\"vDivider\"></div>\n",
       "    <div class=\"systemInfo\">\n",
       "      <h3>System Info</h3>\n",
       "      Using FIFO scheduling algorithm.<br>Logical resource usage: 3.0/10 CPUs, 0/0 GPUs\n",
       "    </div>\n",
       "    \n",
       "  </div>\n",
       "  <div class=\"hDivider\"></div>\n",
       "  <div class=\"trialStatus\">\n",
       "    <h3>Trial Status</h3>\n",
       "    <table>\n",
       "<thead>\n",
       "<tr><th>Trial name         </th><th>status    </th><th>loc           </th><th style=\"text-align: right;\">  iter</th><th style=\"text-align: right;\">  total time (s)</th><th style=\"text-align: right;\">  ts</th><th style=\"text-align: right;\">  num_healthy_workers</th><th style=\"text-align: right;\">  num_in_flight_async_\n",
       "sample_reqs</th><th style=\"text-align: right;\">  num_remote_worker_re\n",
       "starts</th></tr>\n",
       "</thead>\n",
       "<tbody>\n",
       "<tr><td>PPO_PPO_d609e_00000</td><td>TERMINATED</td><td>127.0.0.1:3996</td><td style=\"text-align: right;\">     3</td><td style=\"text-align: right;\">         132.504</td><td style=\"text-align: right;\">2160</td><td style=\"text-align: right;\">                    1</td><td style=\"text-align: right;\">0</td><td style=\"text-align: right;\">0</td></tr>\n",
       "</tbody>\n",
       "</table>\n",
       "  </div>\n",
       "</div>\n",
       "<style>\n",
       ".tuneStatus {\n",
       "  color: var(--jp-ui-font-color1);\n",
       "}\n",
       ".tuneStatus .systemInfo {\n",
       "  display: flex;\n",
       "  flex-direction: column;\n",
       "}\n",
       ".tuneStatus td {\n",
       "  white-space: nowrap;\n",
       "}\n",
       ".tuneStatus .trialStatus {\n",
       "  display: flex;\n",
       "  flex-direction: column;\n",
       "}\n",
       ".tuneStatus h3 {\n",
       "  font-weight: bold;\n",
       "}\n",
       ".tuneStatus .hDivider {\n",
       "  border-bottom-width: var(--jp-border-width);\n",
       "  border-bottom-color: var(--jp-border-color0);\n",
       "  border-bottom-style: solid;\n",
       "}\n",
       ".tuneStatus .vDivider {\n",
       "  border-left-width: var(--jp-border-width);\n",
       "  border-left-color: var(--jp-border-color0);\n",
       "  border-left-style: solid;\n",
       "  margin: 0.5em 1em 0.5em 1em;\n",
       "}\n",
       "</style>\n"
      ]
     },
     "metadata": {},
     "output_type": "display_data"
    },
    {
     "name": "stderr",
     "output_type": "stream",
     "text": [
      "\u001B[36m(PPO pid=3996)\u001B[0m 2024-07-24 22:35:10,794\tWARNING deprecation.py:50 -- DeprecationWarning: `AlgorithmConfig.num_cpus_per_worker` has been deprecated. Use `AlgorithmConfig.num_cpus_per_env_runner` instead. This will raise an error in the future!\n",
      "\u001B[36m(PPO pid=3996)\u001B[0m 2024-07-24 22:35:10,795\tWARNING deprecation.py:50 -- DeprecationWarning: `AlgorithmConfig.num_gpus_per_worker` has been deprecated. Use `AlgorithmConfig.num_gpus_per_env_runner` instead. This will raise an error in the future!\n",
      "\u001B[36m(PPO pid=3996)\u001B[0m 2024-07-24 22:35:10,795\tWARNING deprecation.py:50 -- DeprecationWarning: `AlgorithmConfig.num_learner_workers` has been deprecated. Use `AlgorithmConfig.num_learners` instead. This will raise an error in the future!\n",
      "\u001B[36m(PPO pid=3996)\u001B[0m 2024-07-24 22:35:10,795\tWARNING deprecation.py:50 -- DeprecationWarning: `AlgorithmConfig.num_cpus_per_learner_worker` has been deprecated. Use `AlgorithmConfig.num_cpus_per_learner` instead. This will raise an error in the future!\n",
      "\u001B[36m(PPO pid=3996)\u001B[0m 2024-07-24 22:35:10,795\tWARNING deprecation.py:50 -- DeprecationWarning: `AlgorithmConfig.num_gpus_per_learner_worker` has been deprecated. Use `AlgorithmConfig.num_gpus_per_learner` instead. This will raise an error in the future!\n"
     ]
    },
    {
     "name": "stdout",
     "output_type": "stream",
     "text": [
      "\u001B[36m(RolloutWorker pid=3998)\u001B[0m  Retrying in 1 seconds\n"
     ]
    },
    {
     "name": "stderr",
     "output_type": "stream",
     "text": [
      "\u001B[36m(RolloutWorker pid=3998)\u001B[0m 2024-07-24 22:35:13,541\tINFO policy.py:1272 -- Policy (worker=1) running on CPU.\n",
      "\u001B[36m(RolloutWorker pid=3998)\u001B[0m 2024-07-24 22:35:13,541\tINFO torch_policy_v2.py:111 -- Found 0 visible cuda devices.\n"
     ]
    },
    {
     "name": "stdout",
     "output_type": "stream",
     "text": [
      "\u001B[36m(RolloutWorker pid=3998)\u001B[0m Step #0.00 (0ms ?*RT. ?UPS, TraCI: 5ms, vehicles TOT 0 ACT 0 BUF 0)                      \n"
     ]
    },
    {
     "name": "stderr",
     "output_type": "stream",
     "text": [
      "\u001B[36m(PPO pid=3996)\u001B[0m 2024-07-24 22:35:14,018\tINFO env_runner_group.py:333 -- Inferred observation/action spaces from remote worker (local worker has no env): {'default_policy': (Box(0.0, 1.0, (27,), float32), Discrete(4)), '__env__': (Box(0.0, 1.0, (27,), float32), Discrete(4))}\n",
      "\u001B[36m(PPO pid=3996)\u001B[0m 2024-07-24 22:35:14,023\tINFO policy.py:1272 -- Policy (worker=local) running on CPU.\n",
      "\u001B[36m(RolloutWorker pid=3998)\u001B[0m 2024-07-24 22:35:14,014\tINFO util.py:118 -- Using connectors:\n",
      "\u001B[36m(RolloutWorker pid=3998)\u001B[0m 2024-07-24 22:35:14,014\tINFO util.py:119 --     AgentConnectorPipeline\n",
      "\u001B[36m(RolloutWorker pid=3998)\u001B[0m         ObsPreprocessorConnector\n",
      "\u001B[36m(RolloutWorker pid=3998)\u001B[0m         StateBufferConnector\n",
      "\u001B[36m(RolloutWorker pid=3998)\u001B[0m         ViewRequirementAgentConnector\n",
      "\u001B[36m(RolloutWorker pid=3998)\u001B[0m 2024-07-24 22:35:14,014\tINFO util.py:120 --     ActionConnectorPipeline\n",
      "\u001B[36m(RolloutWorker pid=3998)\u001B[0m         ConvertToNumpyConnector\n",
      "\u001B[36m(RolloutWorker pid=3998)\u001B[0m         NormalizeActionsConnector\n",
      "\u001B[36m(RolloutWorker pid=3998)\u001B[0m         ImmutableActionsConnector\n",
      "\u001B[36m(PPO pid=3996)\u001B[0m 2024-07-24 22:35:14,415\tINFO rollout_worker.py:1752 -- Built policy map: <PolicyMap lru-caching-capacity=100 policy-IDs=['default_policy']>\n",
      "\u001B[36m(PPO pid=3996)\u001B[0m 2024-07-24 22:35:14,415\tINFO rollout_worker.py:1753 -- Built preprocessor map: {'default_policy': None}\n",
      "\u001B[36m(PPO pid=3996)\u001B[0m 2024-07-24 22:35:14,415\tINFO rollout_worker.py:557 -- Built filter map: defaultdict(<class 'ray.rllib.utils.filter.NoFilter'>, {})\n",
      "\u001B[36m(PPO pid=3996)\u001B[0m 2024-07-24 22:35:17,416\tINFO env_runner_group.py:333 -- Inferred observation/action spaces from remote worker (local worker has no env): {'default_policy': (Box(0.0, 1.0, (27,), float32), Discrete(4)), '__env__': (Box(0.0, 1.0, (27,), float32), Discrete(4))}\n",
      "\u001B[36m(PPO pid=3996)\u001B[0m 2024-07-24 22:35:17,420\tINFO policy.py:1272 -- Policy (worker=local) running on CPU.\n",
      "\u001B[36m(PPO pid=3996)\u001B[0m 2024-07-24 22:35:17,422\tINFO rollout_worker.py:1752 -- Built policy map: <PolicyMap lru-caching-capacity=100 policy-IDs=['default_policy']>\n",
      "\u001B[36m(PPO pid=3996)\u001B[0m 2024-07-24 22:35:17,422\tINFO rollout_worker.py:1753 -- Built preprocessor map: {'default_policy': None}\n",
      "\u001B[36m(PPO pid=3996)\u001B[0m 2024-07-24 22:35:17,422\tINFO rollout_worker.py:557 -- Built filter map: defaultdict(<class 'ray.rllib.utils.filter.NoFilter'>, {})\n",
      "\u001B[36m(PPO pid=3996)\u001B[0m Install gputil for GPU system monitoring.\n",
      "\u001B[36m(RolloutWorker pid=3998)\u001B[0m 2024-07-24 22:35:17,437\tINFO rollout_worker.py:679 -- Generating sample batch of size 720\n"
     ]
    },
    {
     "name": "stdout",
     "output_type": "stream",
     "text": [
      "\u001B[36m(RolloutWorker pid=3998)\u001B[0m  Retrying in 1 seconds\u001B[32m [repeated 2x across cluster] (Ray deduplicates logs by default. Set RAY_DEDUP_LOGS=0 to disable log deduplication, or see https://docs.ray.io/en/master/ray-observability/user-guides/configure-logging.html#log-deduplication for more options.)\u001B[0m\n"
     ]
    },
    {
     "name": "stderr",
     "output_type": "stream",
     "text": [
      "\u001B[36m(RolloutWorker pid=3998)\u001B[0m Warning: Vehicle 'f_10.2' performs emergency braking on lane '244869371#1_2' with decel=9.00, wished=4.50, severity=1.00, time=22.00.\n",
      "\u001B[36m(RolloutWorker pid=4000)\u001B[0m 2024-07-24 22:35:17,020\tINFO policy.py:1272 -- Policy (worker=1) running on CPU.\n",
      "\u001B[36m(PPO pid=3996)\u001B[0m 2024-07-24 22:35:17,420\tINFO torch_policy_v2.py:111 -- Found 0 visible cuda devices.\u001B[32m [repeated 3x across cluster]\u001B[0m\n",
      "\u001B[36m(RolloutWorker pid=3998)\u001B[0m Warning: Vehicle 'f_10.5' performs emergency braking on lane '244869371#1_2' with decel=9.00, wished=4.50, severity=1.00, time=42.00.\n"
     ]
    },
    {
     "name": "stdout",
     "output_type": "stream",
     "text": [
      "\u001B[36m(RolloutWorker pid=3998)\u001B[0m Step #0.00 (1ms ~= 1000.00*RT, ~3000.00UPS, TraCI: 17ms, vehicles TOT 3 ACT 3 BUF 0)      \n",
      "\u001B[36m(RolloutWorker pid=4000)\u001B[0m Step #0.00 (0ms ?*RT. ?UPS, TraCI: 6ms, vehicles TOT 0 ACT 0 BUF 0)                      \n"
     ]
    },
    {
     "name": "stderr",
     "output_type": "stream",
     "text": [
      "\u001B[36m(RolloutWorker pid=3998)\u001B[0m Warning: Vehicle 'f_10.223' performs emergency braking on lane '244869371#1_2' with decel=9.00, wished=4.50, severity=1.00, time=1177.00.\n",
      "\u001B[36m(RolloutWorker pid=3998)\u001B[0m Warning: Vehicle 'f_10.223' performs emergency stop at the end of lane '244869371#1_2' because of a red traffic light (decel=-11.44, offset=1.67), time=1177.00.\n",
      "\u001B[36m(RolloutWorker pid=4000)\u001B[0m 2024-07-24 22:35:17,412\tINFO util.py:118 -- Using connectors:\u001B[32m [repeated 3x across cluster]\u001B[0m\n",
      "\u001B[36m(RolloutWorker pid=4000)\u001B[0m 2024-07-24 22:35:17,412\tINFO util.py:119 --     AgentConnectorPipeline\u001B[32m [repeated 3x across cluster]\u001B[0m\n",
      "\u001B[36m(RolloutWorker pid=4000)\u001B[0m         ObsPreprocessorConnector\u001B[32m [repeated 3x across cluster]\u001B[0m\n",
      "\u001B[36m(RolloutWorker pid=4000)\u001B[0m         StateBufferConnector\u001B[32m [repeated 3x across cluster]\u001B[0m\n",
      "\u001B[36m(RolloutWorker pid=4000)\u001B[0m         ViewRequirementAgentConnector\u001B[32m [repeated 3x across cluster]\u001B[0m\n",
      "\u001B[36m(RolloutWorker pid=4000)\u001B[0m 2024-07-24 22:35:17,412\tINFO util.py:120 --     ActionConnectorPipeline\u001B[32m [repeated 3x across cluster]\u001B[0m\n",
      "\u001B[36m(RolloutWorker pid=4000)\u001B[0m         ConvertToNumpyConnector\u001B[32m [repeated 3x across cluster]\u001B[0m\n",
      "\u001B[36m(RolloutWorker pid=4000)\u001B[0m         NormalizeActionsConnector\u001B[32m [repeated 3x across cluster]\u001B[0m\n",
      "\u001B[36m(RolloutWorker pid=4000)\u001B[0m         ImmutableActionsConnector\u001B[32m [repeated 3x across cluster]\u001B[0m\n"
     ]
    },
    {
     "name": "stdout",
     "output_type": "stream",
     "text": [
      "Step #1100.00 (1ms ~= 1000.00*RT, ~249000.00UPS, TraCI: 20ms, vehicles TOT 1724 ACT 249 BU5ms, vehicles TOT 214 ACT 120 BUF \n"
     ]
    },
    {
     "name": "stderr",
     "output_type": "stream",
     "text": [
      "\u001B[36m(RolloutWorker pid=3998)\u001B[0m Warning: Vehicle 'f_1.200' performs emergency braking on lane ':8081633236_1_1' with decel=9.00, wished=4.50, severity=1.00, time=1896.00.\n"
     ]
    },
    {
     "name": "stdout",
     "output_type": "stream",
     "text": [
      "Step #1800.00 (0ms ?*RT. ?UPS, TraCI: 22ms, vehicles TOT 2651 ACT 256 BUF 1475)            1829 ACT 214 BUF 914)            \n",
      "Step #3600.00 (0ms ?*RT. ?UPS, TraCI: 44ms, vehicles TOT 5100 ACT 251 BUF 3165)           23ms, vehicles TOT 2799 ACT 258 BU\n",
      "\u001B[36m(RolloutWorker pid=3998)\u001B[0m  Retrying in 1 seconds\n"
     ]
    },
    {
     "name": "stderr",
     "output_type": "stream",
     "text": [
      "\u001B[36m(PPO pid=3996)\u001B[0m 2024-07-24 22:35:38,196\tWARNING deprecation.py:50 -- DeprecationWarning: `ray.rllib.execution.train_ops.multi_gpu_train_one_step` has been deprecated. This will raise an error in the future!\n",
      "\u001B[36m(RolloutWorker pid=3998)\u001B[0m 2024-07-24 22:35:38,189\tINFO rollout_worker.py:721 -- Completed sample batch:\n",
      "\u001B[36m(RolloutWorker pid=3998)\u001B[0m \n",
      "\u001B[36m(RolloutWorker pid=3998)\u001B[0m { 'count': 720,\n",
      "\u001B[36m(RolloutWorker pid=3998)\u001B[0m   'policy_batches': { 'default_policy': { 'action_dist_inputs': np.ndarray((720, 4), dtype=float32, min=-0.013, max=0.008, mean=-0.001),\n",
      "\u001B[36m(RolloutWorker pid=3998)\u001B[0m                                           'action_logp': np.ndarray((720,), dtype=float32, min=-1.397, max=-1.377, mean=-1.386),\n",
      "\u001B[36m(RolloutWorker pid=3998)\u001B[0m                                           'actions': np.ndarray((720,), dtype=int32, min=0.0, max=3.0, mean=1.536),\n",
      "\u001B[36m(RolloutWorker pid=3998)\u001B[0m                                           'advantages': np.ndarray((720,), dtype=float32, min=-28.521, max=35.274, mean=-0.409),\n",
      "\u001B[36m(RolloutWorker pid=3998)\u001B[0m                                           'agent_index': np.ndarray((720,), dtype=int64, min=0.0, max=0.0, mean=0.0),\n",
      "\u001B[36m(RolloutWorker pid=3998)\u001B[0m                                           'eps_id': np.ndarray((720,), dtype=int64, min=9.78896503311409e+16, max=9.78896503311409e+16, mean=9.788965033114086e+16),\n",
      "\u001B[36m(RolloutWorker pid=3998)\u001B[0m                                           'infos': np.ndarray((720,), dtype=object, head={'step': 0.0, 'system_total_stopped': 0, 'system_total_waiting_time': 0, 'system_mean_waiting_time': 0.0, 'system_mean_speed': 0.0, 'cluster8610962215_8610962216_cluster8610962211_8610962212_8610975624_8610975625_#1more_stopped': 0, 'cluster8610962215_8610962216_cluster8610962211_8610962212_8610975624_8610975625_#1more_accumulated_waiting_time': 0.0, 'cluster8610962215_8610962216_cluster8610962211_8610962212_8610975624_8610975625_#1more_average_speed': 1.0, 'agents_total_stopped': 0, 'agents_total_accumulated_waiting_time': 0.0}),\n",
      "\u001B[36m(RolloutWorker pid=3998)\u001B[0m                                           'new_obs': np.ndarray((720, 27), dtype=float32, min=0.0, max=1.0, mean=0.535),\n",
      "\u001B[36m(RolloutWorker pid=3998)\u001B[0m                                           'obs': np.ndarray((720, 27), dtype=float32, min=0.0, max=1.0, mean=0.534),\n",
      "\u001B[36m(RolloutWorker pid=3998)\u001B[0m                                           'rewards': np.ndarray((720,), dtype=float32, min=-12.76, max=24.35, mean=-0.062),\n",
      "\u001B[36m(RolloutWorker pid=3998)\u001B[0m                                           't': np.ndarray((720,), dtype=int64, min=0.0, max=719.0, mean=359.5),\n",
      "\u001B[36m(RolloutWorker pid=3998)\u001B[0m                                           'terminateds': np.ndarray((720,), dtype=bool, min=0.0, max=0.0, mean=0.0),\n",
      "\u001B[36m(RolloutWorker pid=3998)\u001B[0m                                           'truncateds': np.ndarray((720,), dtype=bool, min=0.0, max=1.0, mean=0.001),\n",
      "\u001B[36m(RolloutWorker pid=3998)\u001B[0m                                           'unroll_id': np.ndarray((720,), dtype=int64, min=1.0, max=1.0, mean=1.0),\n",
      "\u001B[36m(RolloutWorker pid=3998)\u001B[0m                                           'value_targets': np.ndarray((720,), dtype=float32, min=-28.519, max=35.269, mean=-0.411),\n",
      "\u001B[36m(RolloutWorker pid=3998)\u001B[0m                                           'values_bootstrapped': np.ndarray((720,), dtype=float32, min=-0.008, max=0.005, mean=-0.002),\n",
      "\u001B[36m(RolloutWorker pid=3998)\u001B[0m                                           'vf_preds': np.ndarray((720,), dtype=float32, min=-0.008, max=0.005, mean=-0.002)}},\n",
      "\u001B[36m(RolloutWorker pid=3998)\u001B[0m   'type': 'MultiAgentBatch'}\n",
      "\u001B[36m(RolloutWorker pid=3998)\u001B[0m \n",
      "\u001B[36m(PPO pid=3996)\u001B[0m Checkpoint successfully created at: Checkpoint(filesystem=local, path=/Users/eviat/Desktop/Final_Project/Traffic_Tune_Project/Outputs/Training/intersection_1/saved_agent/PPO_2024-07-24_22-35-08/PPO_PPO_d609e_00000_0_2024-07-24_22-35-08/checkpoint_000000)\n",
      "\u001B[36m(RolloutWorker pid=3998)\u001B[0m Warning: Vehicle 'f_8.47' performs emergency braking on lane 'E1_1' with decel=9.00, wished=4.50, severity=1.00, time=452.00.\n",
      "\u001B[36m(RolloutWorker pid=3998)\u001B[0m Warning: Vehicle 'f_8.47' performs emergency stop at the end of lane 'E1_1' because of a red traffic light (decel=-12.60, offset=3.60), time=452.00.\n"
     ]
    },
    {
     "name": "stdout",
     "output_type": "stream",
     "text": [
      "Step #400.00 (1ms ~= 1000.00*RT, ~262000.00UPS, TraCI: 21ms, vehicles TOT 775 ACT 262 BUF ACT 2 BUF 2)                      \n"
     ]
    },
    {
     "name": "stderr",
     "output_type": "stream",
     "text": [
      "\u001B[36m(RolloutWorker pid=3998)\u001B[0m Warning: Vehicle 'f_1.139' performs emergency braking on lane ':8081633236_1_1' with decel=9.00, wished=4.50, severity=1.00, time=1492.00.\n"
     ]
    },
    {
     "name": "stdout",
     "output_type": "stream",
     "text": [
      "Step #1400.00 (1ms ~= 1000.00*RT, ~334000.00UPS, TraCI: 29ms, vehicles TOT 2163 ACT 334 BU6ms, vehicles TOT 908 ACT 275 BUF \n"
     ]
    },
    {
     "name": "stderr",
     "output_type": "stream",
     "text": [
      "\u001B[36m(RolloutWorker pid=3998)\u001B[0m Warning: Vehicle 'f_1.221' performs emergency braking on lane ':8081633236_1_1' with decel=9.00, wished=4.50, severity=1.00, time=2481.00.\n"
     ]
    },
    {
     "name": "stdout",
     "output_type": "stream",
     "text": [
      "Step #2400.00 (1ms ~= 1000.00*RT, ~307000.00UPS, TraCI: 26ms, vehicles TOT 3443 ACT 307 BU26ms, vehicles TOT 2260 ACT 307 BU\n",
      "Step #3600.00 (1ms ~= 1000.00*RT, ~316000.00UPS, TraCI: 48ms, vehicles TOT 4995 ACT 316 BU28ms, vehicles TOT 3602 ACT 320 BU\n",
      "\u001B[36m(RolloutWorker pid=3998)\u001B[0m  Retrying in 1 seconds\n"
     ]
    },
    {
     "name": "stderr",
     "output_type": "stream",
     "text": [
      "\u001B[36m(RolloutWorker pid=4000)\u001B[0m 2024-07-24 22:36:00,955\tINFO rollout_worker.py:679 -- Generating sample batch of size 1\n",
      "\u001B[36m(RolloutWorker pid=4000)\u001B[0m Warning: Vehicle 'f_1.31' performs emergency braking on lane ':8081633236_1_1' with decel=9.00, wished=4.50, severity=1.00, time=271.00.\n"
     ]
    },
    {
     "name": "stdout",
     "output_type": "stream",
     "text": [
      "Step #200.00 (0ms ?*RT. ?UPS, TraCI: 19ms, vehicles TOT 419 ACT 214 BUF 47)                vehicles TOT 3 ACT 3 BUF 0)      \n"
     ]
    },
    {
     "name": "stderr",
     "output_type": "stream",
     "text": [
      "\u001B[36m(RolloutWorker pid=4000)\u001B[0m Warning: Vehicle 'f_9.67' performs emergency braking on lane '244869371#1_1' with decel=9.00, wished=4.50, severity=1.00, time=577.00.\n",
      "\u001B[36m(RolloutWorker pid=4000)\u001B[0m Warning: Vehicle 'f_9.67' performs emergency stop at the end of lane '244869371#1_1' because of a red traffic light (decel=-21.65, offset=10.59), time=577.00.\n"
     ]
    },
    {
     "name": "stdout",
     "output_type": "stream",
     "text": [
      "Step #500.00 (1ms ~= 1000.00*RT, ~248000.00UPS, TraCI: 20ms, vehicles TOT 870 ACT 248 BUF 9ms, vehicles TOT 544 ACT 215 BUF \n"
     ]
    },
    {
     "name": "stderr",
     "output_type": "stream",
     "text": [
      "\u001B[36m(RolloutWorker pid=4000)\u001B[0m Warning: Vehicle 'f_1.148' performs emergency braking on lane ':8081633236_1_1' with decel=9.00, wished=4.50, severity=1.00, time=1446.00.\n"
     ]
    },
    {
     "name": "stdout",
     "output_type": "stream",
     "text": [
      "Step #1400.00 (1ms ~= 1000.00*RT, ~246000.00UPS, TraCI: 24ms, vehicles TOT 2050 ACT 246 BU2ms, vehicles TOT 988 ACT 272 BUF \n",
      "\u001B[36m(RolloutWorker pid=4000)\u001B[0m  Retrying in 1 seconds\n"
     ]
    },
    {
     "name": "stderr",
     "output_type": "stream",
     "text": [
      "\u001B[36m(RolloutWorker pid=4000)\u001B[0m Warning: Vehicle 'f_1.279' performs emergency braking on lane ':8081633236_1_1' with decel=9.00, wished=4.50, severity=1.00, time=2756.00.\n"
     ]
    },
    {
     "name": "stdout",
     "output_type": "stream",
     "text": [
      "Step #2700.00 (1ms ~= 1000.00*RT, ~290000.00UPS, TraCI: 24ms, vehicles TOT 3759 ACT 290 BU42ms, vehicles TOT 2188 ACT 239 BU\n",
      "Step #3600.00 (0ms ?*RT. ?UPS, TraCI: 39ms, vehicles TOT 4872 ACT 255 BUF 3491)           5ms, vehicles TOT 3835 ACT 278 BUF\n",
      "\u001B[36m(RolloutWorker pid=4000)\u001B[0m  Retrying in 1 seconds\n"
     ]
    },
    {
     "name": "stderr",
     "output_type": "stream",
     "text": [
      "\u001B[36m(RolloutWorker pid=4000)\u001B[0m 2024-07-24 22:36:22,382\tINFO rollout_worker.py:721 -- Completed sample batch:\n",
      "\u001B[36m(RolloutWorker pid=4000)\u001B[0m \n",
      "\u001B[36m(RolloutWorker pid=4000)\u001B[0m { 'count': 720,\n",
      "\u001B[36m(RolloutWorker pid=4000)\u001B[0m   'policy_batches': { 'default_policy': { 'advantages': np.ndarray((720,), dtype=float32, min=-21.403, max=26.065, mean=-0.407),\n",
      "\u001B[36m(RolloutWorker pid=4000)\u001B[0m                                           'agent_index': np.ndarray((720,), dtype=int64, min=0.0, max=0.0, mean=0.0),\n",
      "\u001B[36m(RolloutWorker pid=4000)\u001B[0m                                           'eps_id': np.ndarray((720,), dtype=int64, min=5.6189537864363936e+17, max=5.6189537864363936e+17, mean=5.618953786436394e+17),\n",
      "\u001B[36m(RolloutWorker pid=4000)\u001B[0m                                           'infos': np.ndarray((720,), dtype=object, head={'step': 0.0, 'system_total_stopped': 0, 'system_total_waiting_time': 0, 'system_mean_waiting_time': 0.0, 'system_mean_speed': 0.0, 'cluster8610962215_8610962216_cluster8610962211_8610962212_8610975624_8610975625_#1more_stopped': 0, 'cluster8610962215_8610962216_cluster8610962211_8610962212_8610975624_8610975625_#1more_accumulated_waiting_time': 0.0, 'cluster8610962215_8610962216_cluster8610962211_8610962212_8610975624_8610975625_#1more_average_speed': 1.0, 'agents_total_stopped': 0, 'agents_total_accumulated_waiting_time': 0.0}),\n",
      "\u001B[36m(RolloutWorker pid=4000)\u001B[0m                                           'new_obs': np.ndarray((720, 27), dtype=float32, min=0.0, max=1.0, mean=0.51),\n",
      "\u001B[36m(RolloutWorker pid=4000)\u001B[0m                                           'obs': np.ndarray((720, 27), dtype=float32, min=0.0, max=1.0, mean=0.509),\n",
      "\u001B[36m(RolloutWorker pid=4000)\u001B[0m                                           'rewards': np.ndarray((720,), dtype=float32, min=-16.99, max=13.47, mean=-0.066),\n",
      "\u001B[36m(RolloutWorker pid=4000)\u001B[0m                                           't': np.ndarray((720,), dtype=int64, min=0.0, max=719.0, mean=359.5),\n",
      "\u001B[36m(RolloutWorker pid=4000)\u001B[0m                                           'terminateds': np.ndarray((720,), dtype=bool, min=0.0, max=0.0, mean=0.0),\n",
      "\u001B[36m(RolloutWorker pid=4000)\u001B[0m                                           'truncateds': np.ndarray((720,), dtype=bool, min=0.0, max=1.0, mean=0.001),\n",
      "\u001B[36m(RolloutWorker pid=4000)\u001B[0m                                           'unroll_id': np.ndarray((720,), dtype=int64, min=1.0, max=1.0, mean=1.0),\n",
      "\u001B[36m(RolloutWorker pid=4000)\u001B[0m                                           'value_targets': np.ndarray((720,), dtype=float32, min=-21.486, max=26.006, mean=-0.493),\n",
      "\u001B[36m(RolloutWorker pid=4000)\u001B[0m                                           'values_bootstrapped': np.ndarray((720,), dtype=float32, min=-0.115, max=-0.013, mean=-0.085),\n",
      "\u001B[36m(RolloutWorker pid=4000)\u001B[0m                                           'vf_preds': np.ndarray((720,), dtype=float32, min=-0.115, max=-0.009, mean=-0.085)}},\n",
      "\u001B[36m(RolloutWorker pid=4000)\u001B[0m   'type': 'MultiAgentBatch'}\n",
      "\u001B[36m(RolloutWorker pid=4000)\u001B[0m \n",
      "\u001B[36m(RolloutWorker pid=4000)\u001B[0m Warning: Vehicle 'f_1.79' performs emergency braking on lane ':8081633236_1_1' with decel=9.00, wished=4.50, severity=1.00, time=606.00.\n"
     ]
    },
    {
     "name": "stdout",
     "output_type": "stream",
     "text": [
      "Step #600.00 (1ms ~= 1000.00*RT, ~248000.00UPS, TraCI: 22ms, vehicles TOT 1055 ACT 248 BUFACT 2 BUF 0)                      \n",
      "Step #3600.00 (0ms ?*RT. ?UPS, TraCI: 39ms, vehicles TOT 4945 ACT 266 BUF 3441)           1ms, vehicles TOT 1192 ACT 245 BUF\n",
      "\u001B[36m(RolloutWorker pid=4000)\u001B[0m  Retrying in 1 seconds\n"
     ]
    },
    {
     "name": "stderr",
     "output_type": "stream",
     "text": [
      "\u001B[36m(RolloutWorker pid=4000)\u001B[0m Warning: Vehicle 'f_10.216' performs emergency braking on lane '244869371#1_2' with decel=9.00, wished=4.50, severity=1.00, time=1112.00.\n",
      "\u001B[36m(RolloutWorker pid=4000)\u001B[0m Warning: Vehicle 'f_10.216' performs emergency stop at the end of lane '244869371#1_2' because of a red traffic light (decel=-14.80, offset=5.80), time=1112.00.\n",
      "\u001B[36m(RolloutWorker pid=4000)\u001B[0m Warning: Teleporting vehicle 'f_10.213'; collision with vehicle 'f_10.216', lane='244869371#1_2', gap=-3.45, time=1112.00 stage=move.\n",
      "\u001B[36m(RolloutWorker pid=4000)\u001B[0m Warning: Vehicle 'f_10.213' ends teleporting on edge '225589910#2', time=1112.00.\n"
     ]
    },
    {
     "name": "stdout",
     "output_type": "stream",
     "text": [
      "Step #1100.00 (1ms ~= 1000.00*RT, ~250000.00UPS, TraCI: 22ms, vehicles TOT 1740 ACT 250 BUACT 4 BUF 0)                      \n",
      "Step #3600.00 (1ms ~= 1000.00*RT, ~287000.00UPS, TraCI: 40ms, vehicles TOT 4781 ACT 287 BU 1826 ACT 226 BUF 878)            \n",
      "\u001B[36m(RolloutWorker pid=4000)\u001B[0m  Retrying in 1 seconds\n"
     ]
    },
    {
     "name": "stderr",
     "output_type": "stream",
     "text": [
      "\u001B[36m(PPO pid=3996)\u001B[0m Checkpoint successfully created at: Checkpoint(filesystem=local, path=/Users/eviat/Desktop/Final_Project/Traffic_Tune_Project/Outputs/Training/intersection_1/saved_agent/PPO_2024-07-24_22-35-08/PPO_PPO_d609e_00000_0_2024-07-24_22-35-08/checkpoint_000001)\n",
      "\u001B[36m(RolloutWorker pid=3998)\u001B[0m Warning: Vehicle 'f_1.1' performs emergency braking on lane '12526870#3_2' with decel=9.00, wished=4.50, severity=1.00, time=27.00.\n",
      "\u001B[36m(RolloutWorker pid=3998)\u001B[0m Warning: Vehicle 'f_1.1' performs emergency stop at the end of lane '12526870#3_2' because of a red traffic light (decel=-13.04, offset=2.65), time=27.00.\n"
     ]
    },
    {
     "name": "stdout",
     "output_type": "stream",
     "text": [
      "\u001B[36m(RolloutWorker pid=3998)\u001B[0m Step #0.00 (0ms ?*RT. ?UPS, TraCI: 9ms, vehicles TOT 0 ACT 0 BUF 0)                       \n"
     ]
    },
    {
     "name": "stderr",
     "output_type": "stream",
     "text": [
      "\u001B[36m(RolloutWorker pid=3998)\u001B[0m Warning: Vehicle 'f_8.163' performs emergency braking on lane 'E1_1' with decel=9.00, wished=4.50, severity=1.00, time=1672.00.\n",
      "\u001B[36m(RolloutWorker pid=3998)\u001B[0m Warning: Vehicle 'f_8.163' performs emergency stop at the end of lane 'E1_1' because of a red traffic light (decel=-12.24, offset=3.24), time=1672.00.\n"
     ]
    },
    {
     "name": "stdout",
     "output_type": "stream",
     "text": [
      "Step #1600.00 (1ms ~= 1000.00*RT, ~290000.00UPS, TraCI: 31ms, vehicles TOT 2362 ACT 290 BU226 ACT 142 BUF 10)               \n",
      "Step #1900.00 (2ms ~= 500.00*RT, ~160500.00UPS, TraCI: 32ms, vehicles TOT 2739 ACT 321 BUF33ms, vehicles TOT 2472 ACT 303 BU\n"
     ]
    },
    {
     "name": "stderr",
     "output_type": "stream",
     "text": [
      "\u001B[36m(RolloutWorker pid=3998)\u001B[0m Warning: Vehicle 'f_1.189' performs emergency braking on lane ':8081633236_1_1' with decel=9.00, wished=4.50, severity=1.00, time=1971.00.\n",
      "\u001B[36m(RolloutWorker pid=3998)\u001B[0m Warning: Vehicle 'f_1.277' performs emergency braking on lane ':8081633236_1_1' with decel=9.00, wished=4.50, severity=1.00, time=2886.00.\n"
     ]
    },
    {
     "name": "stdout",
     "output_type": "stream",
     "text": [
      "Step #2800.00 (2ms ~= 500.00*RT, ~152000.00UPS, TraCI: 32ms, vehicles TOT 3834 ACT 304 BUF35ms, vehicles TOT 2823 ACT 314 BU\n"
     ]
    },
    {
     "name": "stderr",
     "output_type": "stream",
     "text": [
      "\u001B[36m(RolloutWorker pid=3998)\u001B[0m Warning: Vehicle 'f_1.308' performs emergency braking on lane ':8081633236_1_1' with decel=9.00, wished=4.50, severity=1.00, time=3166.00.\n"
     ]
    },
    {
     "name": "stdout",
     "output_type": "stream",
     "text": [
      "Step #3100.00 (1ms ~= 1000.00*RT, ~314000.00UPS, TraCI: 30ms, vehicles TOT 4253 ACT 314 BU0ms, vehicles TOT 3990 ACT 312 BUF\n",
      "Step #3600.00 (2ms ~= 500.00*RT, ~154500.00UPS, TraCI: 52ms, vehicles TOT 4944 ACT 309 BUFACT 1 BUF 0)                      \n",
      "\u001B[36m(RolloutWorker pid=4000)\u001B[0m  Retrying in 1 seconds\n",
      "Step #3600.00 (1ms ~= 1000.00*RT, ~338000.00UPS, TraCI: 44ms, vehicles TOT 5048 ACT 338 BU31ms, vehicles TOT 4383 ACT 313 BU\n"
     ]
    },
    {
     "name": "stderr",
     "output_type": "stream",
     "text": [
      "2024-07-24 22:37:30,001\tINFO tune.py:1009 -- Wrote the latest version of all result files and experiment state to '/Users/eviat/Desktop/Final_Project/Traffic_Tune_Project/Outputs/Training/intersection_1/saved_agent/PPO_2024-07-24_22-35-08' in 0.0068s.\n",
      "\u001B[36m(PPO pid=3996)\u001B[0m Checkpoint successfully created at: Checkpoint(filesystem=local, path=/Users/eviat/Desktop/Final_Project/Traffic_Tune_Project/Outputs/Training/intersection_1/saved_agent/PPO_2024-07-24_22-35-08/PPO_PPO_d609e_00000_0_2024-07-24_22-35-08/checkpoint_000002)\n",
      "2024-07-24 22:37:30,445\tINFO tune.py:1041 -- Total run time: 141.60 seconds (141.12 seconds for the tuning loop).\n"
     ]
    },
    {
     "name": "stdout",
     "output_type": "stream",
     "text": [
      "Step #5.00 (0ms ?*RT. ?UPS, TraCI: 656ms, vehicles TOT 9 ACT 9 BUF 1)                     ACT 1 BUF 0)                      \n"
     ]
    }
   ]
  },
  {
   "metadata": {},
   "cell_type": "code",
   "source": "print(results)",
   "id": "4941fe2a1ffc0e09",
   "outputs": [],
   "execution_count": null
  }
 ],
 "metadata": {
  "kernelspec": {
   "display_name": "Python 3 (ipykernel)",
   "language": "python",
   "name": "python3"
  },
  "language_info": {
   "codemirror_mode": {
    "name": "ipython",
    "version": 3
   },
   "file_extension": ".py",
   "mimetype": "text/x-python",
   "name": "python",
   "nbconvert_exporter": "python",
   "pygments_lexer": "ipython3",
   "version": "3.11.9"
  }
 },
 "nbformat": 4,
 "nbformat_minor": 5
}
