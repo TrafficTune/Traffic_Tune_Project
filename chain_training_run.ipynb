{
 "cells": [
  {
   "cell_type": "markdown",
   "id": "2476f7866dc519ab",
   "metadata": {
    "collapsed": false
   },
   "source": [
    "# Setup and Installations"
   ]
  },
  {
   "metadata": {
    "ExecuteTime": {
     "end_time": "2024-08-11T09:27:06.102793Z",
     "start_time": "2024-08-11T09:27:03.034184Z"
    }
   },
   "cell_type": "code",
   "source": [
    "import utils\n",
    "import visualizations_and_metrics as vm\n",
    "import env_manager as env_manager\n",
    "import algo_trainer as algo_trainer\n",
    "from typing import SupportsIndex"
   ],
   "id": "325ce834970de795",
   "outputs": [],
   "execution_count": 1
  },
  {
   "metadata": {
    "ExecuteTime": {
     "end_time": "2024-08-11T09:27:06.107777Z",
     "start_time": "2024-08-11T09:27:06.103812Z"
    }
   },
   "cell_type": "code",
   "source": [
    "def chain_training(manager: env_manager, generator: env_manager.EnvManager.env_generator, algo_agent, running_result_grid: list):\n",
    "    if len(running_result_grid) != 0: \n",
    "        # take the best config from the previous training \n",
    "        best = running_result_grid[-1].get_best_result(metric=\"env_runners/episode_reward_mean\", mode=\"max\")\n",
    "        \n",
    "        # Initialize the environment manager with new route file\n",
    "        rou, csv = next(generator)\n",
    "        manager.initialize_env(rou, csv)\n",
    "        \n",
    "        # continue the training with the best config\n",
    "        algo_agent.config = algo_agent.from_dict(best.config)\n",
    "        algo_agent.build_config(flag=True)\n",
    "        \n",
    "    result = algo_agent.train()\n",
    "    \n",
    "    return result\n",
    "\n",
    "def training(num_intersection: int, experiment_type: str, algo_config: str, env_config: str, num_training: SupportsIndex):\n",
    "    final_running_result = []\n",
    "    sumo_type = \"SingleAgent\"\n",
    "    algo_type = experiment_type.split(\"_\")\n",
    "     \n",
    "    if experiment_type.__contains__(\"Multi\"):\n",
    "        sumo_type = \"MultiAgent\"\n",
    "    \n",
    "    # Initialize the environment manager\n",
    "    manager = env_manager.EnvManager(f\"{sumo_type}Environment\", env_config, intersection_id=f\"intersection_{num_intersection}\")\n",
    "    generator = manager.env_generator(f\"Nets/intersection_{num_intersection}/route_xml_path_intersection_{num_intersection}.txt\", algo_name=algo_type[0])\n",
    "    \n",
    "    # Initialize the environment manager with new route file\n",
    "    rou, csv = next(generator)\n",
    "    manager.initialize_env(rou, csv)\n",
    "    \n",
    "    algo_agent = algo_trainer.ALGOTrainer(config_path=algo_config, env_manager=manager, experiment_type=experiment_type)\n",
    "    algo_agent.build_config()\n",
    "    for i in range(num_training):\n",
    "        chain_result = chain_training(manager=manager, generator=generator, algo_agent=algo_agent, running_result_grid=final_running_result)\n",
    "        if chain_result is not None:\n",
    "            final_running_result.append(chain_result)\n",
    "    \n",
    "    return final_running_result"
   ],
   "id": "57e8fffd58eb2107",
   "outputs": [],
   "execution_count": 2
  },
  {
   "metadata": {
    "ExecuteTime": {
     "end_time": "2024-08-11T09:27:06.816051Z",
     "start_time": "2024-08-11T09:27:06.811628Z"
    }
   },
   "cell_type": "code",
   "source": [
    "# Choose which intersection you want to train\n",
    "num_intersection_to_train = 1\n",
    "\n",
    "# Choose the experiment_type:\n",
    "# PPO_SingleAgent | DQN_SingleAgent | DDQN_SingleAgent | PPO_MultiAgent | DQN_MultiAgent | DDQN_MultiAgent\n",
    "experiment_type = \"DQN_SingleAgent\"  \n",
    "\n",
    "# Choose how many training cycles you want to run\n",
    "num_training_cycles = 2\n",
    "\n",
    "env_config_file_path = \"env_config.json\"\n",
    "\n",
    "ppo_config_file_path = \"ppo_config.json\"\n",
    "\n",
    "dqn_config_file_path = \"dqn_config.json\""
   ],
   "id": "37bc9c4d24c7df87",
   "outputs": [],
   "execution_count": 3
  },
  {
   "metadata": {},
   "cell_type": "code",
   "source": [
    "training(num_intersection=num_intersection_to_train, experiment_type=experiment_type, algo_config=dqn_config_file_path, env_config=env_config_file_path, num_training=num_training_cycles)\n",
    "\n",
    "print(f\"Finished training for intersection: {num_intersection_to_train} with {num_training_cycles} training rounds\")"
   ],
   "id": "f3a7770d49b9be8e",
   "execution_count": 4,
   "outputs": [
    {
     "name": "stderr",
     "output_type": "stream",
     "text": [
      "2024-08-11 12:27:10,744\tWARNING deprecation.py:50 -- DeprecationWarning: `AlgorithmConfig.num_cpus_per_worker` has been deprecated. Use `AlgorithmConfig.num_cpus_per_env_runner` instead. This will raise an error in the future!\n",
      "2024-08-11 12:27:10,744\tWARNING deprecation.py:50 -- DeprecationWarning: `AlgorithmConfig.num_gpus_per_worker` has been deprecated. Use `AlgorithmConfig.num_gpus_per_env_runner` instead. This will raise an error in the future!\n",
      "2024-08-11 12:27:10,744\tWARNING deprecation.py:50 -- DeprecationWarning: `AlgorithmConfig.num_learner_workers` has been deprecated. Use `AlgorithmConfig.num_learners` instead. This will raise an error in the future!\n",
      "2024-08-11 12:27:10,744\tWARNING deprecation.py:50 -- DeprecationWarning: `AlgorithmConfig.num_cpus_per_learner_worker` has been deprecated. Use `AlgorithmConfig.num_cpus_per_learner` instead. This will raise an error in the future!\n",
      "2024-08-11 12:27:10,745\tWARNING deprecation.py:50 -- DeprecationWarning: `AlgorithmConfig.num_gpus_per_learner_worker` has been deprecated. Use `AlgorithmConfig.num_gpus_per_learner` instead. This will raise an error in the future!\n",
      "2024-08-11 12:27:10,749\tWARNING deprecation.py:50 -- DeprecationWarning: `AlgorithmConfig.num_cpus_per_worker` has been deprecated. Use `AlgorithmConfig.num_cpus_per_env_runner` instead. This will raise an error in the future!\n",
      "2024-08-11 12:27:10,749\tWARNING deprecation.py:50 -- DeprecationWarning: `AlgorithmConfig.num_gpus_per_worker` has been deprecated. Use `AlgorithmConfig.num_gpus_per_env_runner` instead. This will raise an error in the future!\n",
      "2024-08-11 12:27:10,749\tWARNING deprecation.py:50 -- DeprecationWarning: `AlgorithmConfig.num_learner_workers` has been deprecated. Use `AlgorithmConfig.num_learners` instead. This will raise an error in the future!\n",
      "2024-08-11 12:27:10,749\tWARNING deprecation.py:50 -- DeprecationWarning: `AlgorithmConfig.num_cpus_per_learner_worker` has been deprecated. Use `AlgorithmConfig.num_cpus_per_learner` instead. This will raise an error in the future!\n",
      "2024-08-11 12:27:10,750\tWARNING deprecation.py:50 -- DeprecationWarning: `AlgorithmConfig.num_gpus_per_learner_worker` has been deprecated. Use `AlgorithmConfig.num_gpus_per_learner` instead. This will raise an error in the future!\n",
      "2024-08-11 12:27:10,753\tWARNING deprecation.py:50 -- DeprecationWarning: `AlgorithmConfig.num_cpus_per_worker` has been deprecated. Use `AlgorithmConfig.num_cpus_per_env_runner` instead. This will raise an error in the future!\n",
      "2024-08-11 12:27:10,754\tWARNING deprecation.py:50 -- DeprecationWarning: `AlgorithmConfig.num_gpus_per_worker` has been deprecated. Use `AlgorithmConfig.num_gpus_per_env_runner` instead. This will raise an error in the future!\n",
      "2024-08-11 12:27:10,754\tWARNING deprecation.py:50 -- DeprecationWarning: `AlgorithmConfig.num_learner_workers` has been deprecated. Use `AlgorithmConfig.num_learners` instead. This will raise an error in the future!\n",
      "2024-08-11 12:27:10,754\tWARNING deprecation.py:50 -- DeprecationWarning: `AlgorithmConfig.num_cpus_per_learner_worker` has been deprecated. Use `AlgorithmConfig.num_cpus_per_learner` instead. This will raise an error in the future!\n",
      "2024-08-11 12:27:10,755\tWARNING deprecation.py:50 -- DeprecationWarning: `AlgorithmConfig.num_gpus_per_learner_worker` has been deprecated. Use `AlgorithmConfig.num_gpus_per_learner` instead. This will raise an error in the future!\n"
     ]
    },
    {
     "data": {
      "text/plain": [
       "<IPython.core.display.HTML object>"
      ],
      "text/html": [
       "<div class=\"tuneStatus\">\n",
       "  <div style=\"display: flex;flex-direction: row\">\n",
       "    <div style=\"display: flex;flex-direction: column;\">\n",
       "      <h3>Tune Status</h3>\n",
       "      <table>\n",
       "<tbody>\n",
       "<tr><td>Current time:</td><td>2024-08-11 12:27:15</td></tr>\n",
       "<tr><td>Running for: </td><td>00:00:04.60        </td></tr>\n",
       "<tr><td>Memory:      </td><td>11.6/16.0 GiB      </td></tr>\n",
       "</tbody>\n",
       "</table>\n",
       "    </div>\n",
       "    <div class=\"vDivider\"></div>\n",
       "    <div class=\"systemInfo\">\n",
       "      <h3>System Info</h3>\n",
       "      Using AsyncHyperBand: num_stopped=0<br>Bracket: Iter 3.000: None<br>Logical resource usage: 6.0/10 CPUs, 0/0 GPUs\n",
       "    </div>\n",
       "    \n",
       "  </div>\n",
       "  <div class=\"hDivider\"></div>\n",
       "  <div class=\"trialStatus\">\n",
       "    <h3>Trial Status</h3>\n",
       "    <table>\n",
       "<thead>\n",
       "<tr><th>Trial name         </th><th>status  </th><th>loc  </th><th style=\"text-align: right;\">  adam_epsilon</th><th style=\"text-align: right;\">   gamma</th><th>hiddens   </th><th style=\"text-align: right;\">         lr</th><th style=\"text-align: right;\">  n_step</th><th style=\"text-align: right;\">     target_network_updat\n",
       "e_freq</th><th style=\"text-align: right;\">  train_batch_size</th></tr>\n",
       "</thead>\n",
       "<tbody>\n",
       "<tr><td>DQN_DQN_e2cf6_00000</td><td>PENDING </td><td>     </td><td style=\"text-align: right;\">   1.83108e-08</td><td style=\"text-align: right;\">0.981182</td><td>[64, 64]  </td><td style=\"text-align: right;\">2.38372e-05</td><td style=\"text-align: right;\">       7</td><td style=\"text-align: right;\">1000</td><td style=\"text-align: right;\">                64</td></tr>\n",
       "<tr><td>DQN_DQN_e2cf6_00001</td><td>PENDING </td><td>     </td><td style=\"text-align: right;\">   2.17168e-07</td><td style=\"text-align: right;\">0.989523</td><td>[64, 64]  </td><td style=\"text-align: right;\">2.10353e-05</td><td style=\"text-align: right;\">       5</td><td style=\"text-align: right;\"> 200</td><td style=\"text-align: right;\">                32</td></tr>\n",
       "<tr><td>DQN_DQN_e2cf6_00002</td><td>PENDING </td><td>     </td><td style=\"text-align: right;\">   3.3943e-07 </td><td style=\"text-align: right;\">0.986605</td><td>[128, 128]</td><td style=\"text-align: right;\">5.80424e-06</td><td style=\"text-align: right;\">       3</td><td style=\"text-align: right;\"> 200</td><td style=\"text-align: right;\">                64</td></tr>\n",
       "</tbody>\n",
       "</table>\n",
       "  </div>\n",
       "</div>\n",
       "<style>\n",
       ".tuneStatus {\n",
       "  color: var(--jp-ui-font-color1);\n",
       "}\n",
       ".tuneStatus .systemInfo {\n",
       "  display: flex;\n",
       "  flex-direction: column;\n",
       "}\n",
       ".tuneStatus td {\n",
       "  white-space: nowrap;\n",
       "}\n",
       ".tuneStatus .trialStatus {\n",
       "  display: flex;\n",
       "  flex-direction: column;\n",
       "}\n",
       ".tuneStatus h3 {\n",
       "  font-weight: bold;\n",
       "}\n",
       ".tuneStatus .hDivider {\n",
       "  border-bottom-width: var(--jp-border-width);\n",
       "  border-bottom-color: var(--jp-border-color0);\n",
       "  border-bottom-style: solid;\n",
       "}\n",
       ".tuneStatus .vDivider {\n",
       "  border-left-width: var(--jp-border-width);\n",
       "  border-left-color: var(--jp-border-color0);\n",
       "  border-left-style: solid;\n",
       "  margin: 0.5em 1em 0.5em 1em;\n",
       "}\n",
       "</style>\n"
      ]
     },
     "metadata": {},
     "output_type": "display_data"
    },
    {
     "name": "stderr",
     "output_type": "stream",
     "text": [
      "\u001B[36m(DQN pid=20196)\u001B[0m 2024-08-11 12:27:13,011\tWARNING deprecation.py:50 -- DeprecationWarning: `AlgorithmConfig.num_cpus_per_worker` has been deprecated. Use `AlgorithmConfig.num_cpus_per_env_runner` instead. This will raise an error in the future!\n",
      "\u001B[36m(DQN pid=20196)\u001B[0m 2024-08-11 12:27:13,011\tWARNING deprecation.py:50 -- DeprecationWarning: `AlgorithmConfig.num_gpus_per_worker` has been deprecated. Use `AlgorithmConfig.num_gpus_per_env_runner` instead. This will raise an error in the future!\n",
      "\u001B[36m(DQN pid=20196)\u001B[0m 2024-08-11 12:27:13,011\tWARNING deprecation.py:50 -- DeprecationWarning: `AlgorithmConfig.num_learner_workers` has been deprecated. Use `AlgorithmConfig.num_learners` instead. This will raise an error in the future!\n",
      "\u001B[36m(DQN pid=20196)\u001B[0m 2024-08-11 12:27:13,011\tWARNING deprecation.py:50 -- DeprecationWarning: `AlgorithmConfig.num_cpus_per_learner_worker` has been deprecated. Use `AlgorithmConfig.num_cpus_per_learner` instead. This will raise an error in the future!\n",
      "\u001B[36m(DQN pid=20196)\u001B[0m 2024-08-11 12:27:13,011\tWARNING deprecation.py:50 -- DeprecationWarning: `AlgorithmConfig.num_gpus_per_learner_worker` has been deprecated. Use `AlgorithmConfig.num_gpus_per_learner` instead. This will raise an error in the future!\n",
      "2024-08-11 12:27:15,332\tWARNING tune.py:219 -- Stop signal received (e.g. via SIGINT/Ctrl+C), ending Ray Tune run. This will try to checkpoint the experiment state one last time. Press CTRL+C (or send SIGINT/SIGKILL/SIGTERM) to skip. \n",
      "2024-08-11 12:27:15,335\tINFO tune.py:1009 -- Wrote the latest version of all result files and experiment state to '/Users/eviat/Desktop/Final_Project/Traffic_Tune_Project/Outputs/Training/intersection_1/saved_agent/DQN_2024-08-11_12-27-10' in 0.0022s.\n"
     ]
    },
    {
     "name": "stdout",
     "output_type": "stream",
     "text": [
      "\u001B[36m(RolloutWorker pid=20200)\u001B[0m  Retrying in 1 seconds\n",
      "\u001B[36m(RolloutWorker pid=20200)\u001B[0m Step #0.00 (0ms ?*RT. ?UPS, TraCI: 6ms, vehicles TOT 0 ACT 0 BUF 0)                      \n"
     ]
    },
    {
     "name": "stderr",
     "output_type": "stream",
     "text": [
      "\u001B[36m(DQN pid=20196)\u001B[0m Install gputil for GPU system monitoring.\n",
      "\u001B[36m(DQN pid=20197)\u001B[0m 2024-08-11 12:27:13,011\tWARNING deprecation.py:50 -- DeprecationWarning: `AlgorithmConfig.num_cpus_per_worker` has been deprecated. Use `AlgorithmConfig.num_cpus_per_env_runner` instead. This will raise an error in the future!\u001B[32m [repeated 2x across cluster] (Ray deduplicates logs by default. Set RAY_DEDUP_LOGS=0 to disable log deduplication, or see https://docs.ray.io/en/master/ray-observability/user-guides/configure-logging.html#log-deduplication for more options.)\u001B[0m\n",
      "\u001B[36m(DQN pid=20197)\u001B[0m 2024-08-11 12:27:13,011\tWARNING deprecation.py:50 -- DeprecationWarning: `AlgorithmConfig.num_gpus_per_worker` has been deprecated. Use `AlgorithmConfig.num_gpus_per_env_runner` instead. This will raise an error in the future!\u001B[32m [repeated 2x across cluster]\u001B[0m\n",
      "\u001B[36m(DQN pid=20197)\u001B[0m 2024-08-11 12:27:13,011\tWARNING deprecation.py:50 -- DeprecationWarning: `AlgorithmConfig.num_learner_workers` has been deprecated. Use `AlgorithmConfig.num_learners` instead. This will raise an error in the future!\u001B[32m [repeated 2x across cluster]\u001B[0m\n",
      "\u001B[36m(DQN pid=20197)\u001B[0m 2024-08-11 12:27:13,011\tWARNING deprecation.py:50 -- DeprecationWarning: `AlgorithmConfig.num_cpus_per_learner_worker` has been deprecated. Use `AlgorithmConfig.num_cpus_per_learner` instead. This will raise an error in the future!\u001B[32m [repeated 2x across cluster]\u001B[0m\n",
      "\u001B[36m(DQN pid=20197)\u001B[0m 2024-08-11 12:27:13,011\tWARNING deprecation.py:50 -- DeprecationWarning: `AlgorithmConfig.num_gpus_per_learner_worker` has been deprecated. Use `AlgorithmConfig.num_gpus_per_learner` instead. This will raise an error in the future!\u001B[32m [repeated 2x across cluster]\u001B[0m\n"
     ]
    },
    {
     "ename": "KeyboardInterrupt",
     "evalue": "",
     "output_type": "error",
     "traceback": [
      "\u001B[0;31m---------------------------------------------------------------------------\u001B[0m",
      "\u001B[0;31mKeyboardInterrupt\u001B[0m                         Traceback (most recent call last)",
      "Cell \u001B[0;32mIn[4], line 1\u001B[0m\n\u001B[0;32m----> 1\u001B[0m \u001B[43mtraining\u001B[49m\u001B[43m(\u001B[49m\u001B[43mnum_intersection\u001B[49m\u001B[38;5;241;43m=\u001B[39;49m\u001B[43mnum_intersection_to_train\u001B[49m\u001B[43m,\u001B[49m\u001B[43m \u001B[49m\u001B[43mexperiment_type\u001B[49m\u001B[38;5;241;43m=\u001B[39;49m\u001B[43mexperiment_type\u001B[49m\u001B[43m,\u001B[49m\u001B[43m \u001B[49m\u001B[43malgo_config\u001B[49m\u001B[38;5;241;43m=\u001B[39;49m\u001B[43mdqn_config_file_path\u001B[49m\u001B[43m,\u001B[49m\u001B[43m \u001B[49m\u001B[43menv_config\u001B[49m\u001B[38;5;241;43m=\u001B[39;49m\u001B[43menv_config_file_path\u001B[49m\u001B[43m,\u001B[49m\u001B[43m \u001B[49m\u001B[43mnum_training\u001B[49m\u001B[38;5;241;43m=\u001B[39;49m\u001B[43mnum_training_cycles\u001B[49m\u001B[43m)\u001B[49m\n\u001B[1;32m      3\u001B[0m \u001B[38;5;28mprint\u001B[39m(\u001B[38;5;124mf\u001B[39m\u001B[38;5;124m\"\u001B[39m\u001B[38;5;124mFinished training for intersection: \u001B[39m\u001B[38;5;132;01m{\u001B[39;00mnum_intersection_to_train\u001B[38;5;132;01m}\u001B[39;00m\u001B[38;5;124m with \u001B[39m\u001B[38;5;132;01m{\u001B[39;00mnum_training_cycles\u001B[38;5;132;01m}\u001B[39;00m\u001B[38;5;124m training rounds\u001B[39m\u001B[38;5;124m\"\u001B[39m)\n",
      "Cell \u001B[0;32mIn[2], line 37\u001B[0m, in \u001B[0;36mtraining\u001B[0;34m(num_intersection, experiment_type, algo_config, env_config, num_training)\u001B[0m\n\u001B[1;32m     35\u001B[0m algo_agent\u001B[38;5;241m.\u001B[39mbuild_config()\n\u001B[1;32m     36\u001B[0m \u001B[38;5;28;01mfor\u001B[39;00m i \u001B[38;5;129;01min\u001B[39;00m \u001B[38;5;28mrange\u001B[39m(num_training):\n\u001B[0;32m---> 37\u001B[0m     chain_result \u001B[38;5;241m=\u001B[39m \u001B[43mchain_training\u001B[49m\u001B[43m(\u001B[49m\u001B[43mmanager\u001B[49m\u001B[38;5;241;43m=\u001B[39;49m\u001B[43mmanager\u001B[49m\u001B[43m,\u001B[49m\u001B[43m \u001B[49m\u001B[43mgenerator\u001B[49m\u001B[38;5;241;43m=\u001B[39;49m\u001B[43mgenerator\u001B[49m\u001B[43m,\u001B[49m\u001B[43m \u001B[49m\u001B[43malgo_agent\u001B[49m\u001B[38;5;241;43m=\u001B[39;49m\u001B[43malgo_agent\u001B[49m\u001B[43m,\u001B[49m\u001B[43m \u001B[49m\u001B[43mrunning_result_grid\u001B[49m\u001B[38;5;241;43m=\u001B[39;49m\u001B[43mfinal_running_result\u001B[49m\u001B[43m)\u001B[49m\n\u001B[1;32m     38\u001B[0m     \u001B[38;5;28;01mif\u001B[39;00m chain_result \u001B[38;5;129;01mis\u001B[39;00m \u001B[38;5;129;01mnot\u001B[39;00m \u001B[38;5;28;01mNone\u001B[39;00m:\n\u001B[1;32m     39\u001B[0m         final_running_result\u001B[38;5;241m.\u001B[39mappend(chain_result)\n",
      "Cell \u001B[0;32mIn[2], line 14\u001B[0m, in \u001B[0;36mchain_training\u001B[0;34m(manager, generator, algo_agent, running_result_grid)\u001B[0m\n\u001B[1;32m     11\u001B[0m     algo_agent\u001B[38;5;241m.\u001B[39mconfig \u001B[38;5;241m=\u001B[39m algo_agent\u001B[38;5;241m.\u001B[39mfrom_dict(best\u001B[38;5;241m.\u001B[39mconfig)\n\u001B[1;32m     12\u001B[0m     algo_agent\u001B[38;5;241m.\u001B[39mbuild_config(flag\u001B[38;5;241m=\u001B[39m\u001B[38;5;28;01mTrue\u001B[39;00m)\n\u001B[0;32m---> 14\u001B[0m result \u001B[38;5;241m=\u001B[39m \u001B[43malgo_agent\u001B[49m\u001B[38;5;241;43m.\u001B[39;49m\u001B[43mtrain\u001B[49m\u001B[43m(\u001B[49m\u001B[43m)\u001B[49m\n\u001B[1;32m     16\u001B[0m \u001B[38;5;28;01mreturn\u001B[39;00m result\n",
      "File \u001B[0;32m~/Desktop/Final_Project/Traffic_Tune_Project/algo_trainer.py:219\u001B[0m, in \u001B[0;36mALGOTrainer.train\u001B[0;34m(self)\u001B[0m\n\u001B[1;32m    198\u001B[0m run_config \u001B[38;5;241m=\u001B[39m RunConfig(\n\u001B[1;32m    199\u001B[0m     storage_path\u001B[38;5;241m=\u001B[39m\u001B[38;5;28mself\u001B[39m\u001B[38;5;241m.\u001B[39mstorage_path,\n\u001B[1;32m    200\u001B[0m     checkpoint_config\u001B[38;5;241m=\u001B[39mCheckpointConfig(\n\u001B[0;32m   (...)\u001B[0m\n\u001B[1;32m    206\u001B[0m     stop\u001B[38;5;241m=\u001B[39m{\u001B[38;5;124m'\u001B[39m\u001B[38;5;124mtraining_iteration\u001B[39m\u001B[38;5;124m'\u001B[39m: \u001B[38;5;28mself\u001B[39m\u001B[38;5;241m.\u001B[39mnum_of_episodes \u001B[38;5;241m*\u001B[39m \u001B[38;5;28mself\u001B[39m\u001B[38;5;241m.\u001B[39mnum_env_runners}\n\u001B[1;32m    207\u001B[0m )\n\u001B[1;32m    209\u001B[0m tuner \u001B[38;5;241m=\u001B[39m tune\u001B[38;5;241m.\u001B[39mTuner(\n\u001B[1;32m    210\u001B[0m     \u001B[38;5;28mself\u001B[39m\u001B[38;5;241m.\u001B[39menv_name,\n\u001B[1;32m    211\u001B[0m     param_space\u001B[38;5;241m=\u001B[39mparam_space,\n\u001B[0;32m   (...)\u001B[0m\n\u001B[1;32m    216\u001B[0m     )\n\u001B[1;32m    217\u001B[0m )\n\u001B[0;32m--> 219\u001B[0m results \u001B[38;5;241m=\u001B[39m \u001B[43mtuner\u001B[49m\u001B[38;5;241;43m.\u001B[39;49m\u001B[43mfit\u001B[49m\u001B[43m(\u001B[49m\u001B[43m)\u001B[49m\n\u001B[1;32m    220\u001B[0m \u001B[38;5;28;01mreturn\u001B[39;00m results\n",
      "File \u001B[0;32m~/Desktop/Final_Project/Traffic_Tune_Project/venv/lib/python3.10/site-packages/ray/tune/tuner.py:377\u001B[0m, in \u001B[0;36mTuner.fit\u001B[0;34m(self)\u001B[0m\n\u001B[1;32m    345\u001B[0m \u001B[38;5;250m\u001B[39m\u001B[38;5;124;03m\"\"\"Executes hyperparameter tuning job as configured and returns result.\u001B[39;00m\n\u001B[1;32m    346\u001B[0m \n\u001B[1;32m    347\u001B[0m \u001B[38;5;124;03mFailure handling:\u001B[39;00m\n\u001B[0;32m   (...)\u001B[0m\n\u001B[1;32m    373\u001B[0m \u001B[38;5;124;03m    RayTaskError: If user-provided trainable raises an exception\u001B[39;00m\n\u001B[1;32m    374\u001B[0m \u001B[38;5;124;03m\"\"\"\u001B[39;00m\n\u001B[1;32m    376\u001B[0m \u001B[38;5;28;01mif\u001B[39;00m \u001B[38;5;129;01mnot\u001B[39;00m \u001B[38;5;28mself\u001B[39m\u001B[38;5;241m.\u001B[39m_is_ray_client:\n\u001B[0;32m--> 377\u001B[0m     \u001B[38;5;28;01mreturn\u001B[39;00m \u001B[38;5;28;43mself\u001B[39;49m\u001B[38;5;241;43m.\u001B[39;49m\u001B[43m_local_tuner\u001B[49m\u001B[38;5;241;43m.\u001B[39;49m\u001B[43mfit\u001B[49m\u001B[43m(\u001B[49m\u001B[43m)\u001B[49m\n\u001B[1;32m    378\u001B[0m \u001B[38;5;28;01melse\u001B[39;00m:\n\u001B[1;32m    379\u001B[0m     (\n\u001B[1;32m    380\u001B[0m         progress_reporter,\n\u001B[1;32m    381\u001B[0m         string_queue,\n\u001B[1;32m    382\u001B[0m     ) \u001B[38;5;241m=\u001B[39m \u001B[38;5;28mself\u001B[39m\u001B[38;5;241m.\u001B[39m_prepare_remote_tuner_for_jupyter_progress_reporting()\n",
      "File \u001B[0;32m~/Desktop/Final_Project/Traffic_Tune_Project/venv/lib/python3.10/site-packages/ray/tune/impl/tuner_internal.py:476\u001B[0m, in \u001B[0;36mTunerInternal.fit\u001B[0;34m(self)\u001B[0m\n\u001B[1;32m    474\u001B[0m param_space \u001B[38;5;241m=\u001B[39m copy\u001B[38;5;241m.\u001B[39mdeepcopy(\u001B[38;5;28mself\u001B[39m\u001B[38;5;241m.\u001B[39mparam_space)\n\u001B[1;32m    475\u001B[0m \u001B[38;5;28;01mif\u001B[39;00m \u001B[38;5;129;01mnot\u001B[39;00m \u001B[38;5;28mself\u001B[39m\u001B[38;5;241m.\u001B[39m_is_restored:\n\u001B[0;32m--> 476\u001B[0m     analysis \u001B[38;5;241m=\u001B[39m \u001B[38;5;28;43mself\u001B[39;49m\u001B[38;5;241;43m.\u001B[39;49m\u001B[43m_fit_internal\u001B[49m\u001B[43m(\u001B[49m\u001B[43mtrainable\u001B[49m\u001B[43m,\u001B[49m\u001B[43m \u001B[49m\u001B[43mparam_space\u001B[49m\u001B[43m)\u001B[49m\n\u001B[1;32m    477\u001B[0m \u001B[38;5;28;01melse\u001B[39;00m:\n\u001B[1;32m    478\u001B[0m     analysis \u001B[38;5;241m=\u001B[39m \u001B[38;5;28mself\u001B[39m\u001B[38;5;241m.\u001B[39m_fit_resume(trainable, param_space)\n",
      "File \u001B[0;32m~/Desktop/Final_Project/Traffic_Tune_Project/venv/lib/python3.10/site-packages/ray/tune/impl/tuner_internal.py:592\u001B[0m, in \u001B[0;36mTunerInternal._fit_internal\u001B[0;34m(self, trainable, param_space)\u001B[0m\n\u001B[1;32m    579\u001B[0m \u001B[38;5;250m\u001B[39m\u001B[38;5;124;03m\"\"\"Fitting for a fresh Tuner.\"\"\"\u001B[39;00m\n\u001B[1;32m    580\u001B[0m args \u001B[38;5;241m=\u001B[39m {\n\u001B[1;32m    581\u001B[0m     \u001B[38;5;241m*\u001B[39m\u001B[38;5;241m*\u001B[39m\u001B[38;5;28mself\u001B[39m\u001B[38;5;241m.\u001B[39m_get_tune_run_arguments(trainable),\n\u001B[1;32m    582\u001B[0m     \u001B[38;5;241m*\u001B[39m\u001B[38;5;241m*\u001B[39m\u001B[38;5;28mdict\u001B[39m(\n\u001B[0;32m   (...)\u001B[0m\n\u001B[1;32m    590\u001B[0m     \u001B[38;5;241m*\u001B[39m\u001B[38;5;241m*\u001B[39m\u001B[38;5;28mself\u001B[39m\u001B[38;5;241m.\u001B[39m_tuner_kwargs,\n\u001B[1;32m    591\u001B[0m }\n\u001B[0;32m--> 592\u001B[0m analysis \u001B[38;5;241m=\u001B[39m \u001B[43mrun\u001B[49m\u001B[43m(\u001B[49m\n\u001B[1;32m    593\u001B[0m \u001B[43m    \u001B[49m\u001B[38;5;241;43m*\u001B[39;49m\u001B[38;5;241;43m*\u001B[39;49m\u001B[43margs\u001B[49m\u001B[43m,\u001B[49m\n\u001B[1;32m    594\u001B[0m \u001B[43m\u001B[49m\u001B[43m)\u001B[49m\n\u001B[1;32m    595\u001B[0m \u001B[38;5;28mself\u001B[39m\u001B[38;5;241m.\u001B[39mclear_remote_string_queue()\n\u001B[1;32m    596\u001B[0m \u001B[38;5;28;01mreturn\u001B[39;00m analysis\n",
      "File \u001B[0;32m~/Desktop/Final_Project/Traffic_Tune_Project/venv/lib/python3.10/site-packages/ray/tune/tune.py:1026\u001B[0m, in \u001B[0;36mrun\u001B[0;34m(run_or_experiment, name, metric, mode, stop, time_budget_s, config, resources_per_trial, num_samples, storage_path, storage_filesystem, search_alg, scheduler, checkpoint_config, verbose, progress_reporter, log_to_file, trial_name_creator, trial_dirname_creator, sync_config, export_formats, max_failures, fail_fast, restore, resume, resume_config, reuse_actors, raise_on_failed_trial, callbacks, max_concurrent_trials, keep_checkpoints_num, checkpoint_score_attr, checkpoint_freq, checkpoint_at_end, chdir_to_trial_dir, local_dir, _remote, _remote_string_queue, _entrypoint)\u001B[0m\n\u001B[1;32m   1022\u001B[0m     _report_air_progress(runner, air_progress_reporter, force\u001B[38;5;241m=\u001B[39m\u001B[38;5;28;01mTrue\u001B[39;00m)\n\u001B[1;32m   1024\u001B[0m all_trials \u001B[38;5;241m=\u001B[39m runner\u001B[38;5;241m.\u001B[39mget_trials()\n\u001B[0;32m-> 1026\u001B[0m \u001B[43mrunner\u001B[49m\u001B[38;5;241;43m.\u001B[39;49m\u001B[43mcleanup\u001B[49m\u001B[43m(\u001B[49m\u001B[43m)\u001B[49m\n\u001B[1;32m   1028\u001B[0m incomplete_trials \u001B[38;5;241m=\u001B[39m []\n\u001B[1;32m   1029\u001B[0m \u001B[38;5;28;01mfor\u001B[39;00m trial \u001B[38;5;129;01min\u001B[39;00m all_trials:\n",
      "File \u001B[0;32m~/Desktop/Final_Project/Traffic_Tune_Project/venv/lib/python3.10/site-packages/ray/tune/execution/tune_controller.py:1975\u001B[0m, in \u001B[0;36mTuneController.cleanup\u001B[0;34m(self)\u001B[0m\n\u001B[1;32m   1973\u001B[0m \u001B[38;5;28;01mdef\u001B[39;00m \u001B[38;5;21mcleanup\u001B[39m(\u001B[38;5;28mself\u001B[39m):\n\u001B[1;32m   1974\u001B[0m \u001B[38;5;250m    \u001B[39m\u001B[38;5;124;03m\"\"\"Cleanup trials and callbacks.\"\"\"\u001B[39;00m\n\u001B[0;32m-> 1975\u001B[0m     \u001B[38;5;28;43mself\u001B[39;49m\u001B[38;5;241;43m.\u001B[39;49m\u001B[43m_cleanup_trials\u001B[49m\u001B[43m(\u001B[49m\u001B[43m)\u001B[49m\n\u001B[1;32m   1976\u001B[0m     \u001B[38;5;28mself\u001B[39m\u001B[38;5;241m.\u001B[39mend_experiment_callbacks()\n",
      "File \u001B[0;32m~/Desktop/Final_Project/Traffic_Tune_Project/venv/lib/python3.10/site-packages/ray/tune/execution/tune_controller.py:803\u001B[0m, in \u001B[0;36mTuneController._cleanup_trials\u001B[0;34m(self)\u001B[0m\n\u001B[1;32m    799\u001B[0m     \u001B[38;5;28;01mif\u001B[39;00m _dedup_logs(\u001B[38;5;124m\"\u001B[39m\u001B[38;5;124mactor_manager_cleanup\u001B[39m\u001B[38;5;124m\"\u001B[39m, \u001B[38;5;28mstr\u001B[39m(start)):\n\u001B[1;32m    800\u001B[0m         logger\u001B[38;5;241m.\u001B[39mdebug(\n\u001B[1;32m    801\u001B[0m             \u001B[38;5;124m\"\u001B[39m\u001B[38;5;124mWaiting for actor manager to clean up final state [dedup]\u001B[39m\u001B[38;5;124m\"\u001B[39m\n\u001B[1;32m    802\u001B[0m         )\n\u001B[0;32m--> 803\u001B[0m     \u001B[38;5;28;43mself\u001B[39;49m\u001B[38;5;241;43m.\u001B[39;49m\u001B[43m_actor_manager\u001B[49m\u001B[38;5;241;43m.\u001B[39;49m\u001B[43mnext\u001B[49m\u001B[43m(\u001B[49m\u001B[43mtimeout\u001B[49m\u001B[38;5;241;43m=\u001B[39;49m\u001B[38;5;241;43m1\u001B[39;49m\u001B[43m)\u001B[49m\n\u001B[1;32m    805\u001B[0m logger\u001B[38;5;241m.\u001B[39mdebug(\u001B[38;5;124m\"\u001B[39m\u001B[38;5;124mForce cleanup of remaining actors\u001B[39m\u001B[38;5;124m\"\u001B[39m)\n\u001B[1;32m    806\u001B[0m \u001B[38;5;28mself\u001B[39m\u001B[38;5;241m.\u001B[39m_cleanup_stopping_actors(force_all\u001B[38;5;241m=\u001B[39m\u001B[38;5;28;01mTrue\u001B[39;00m)\n",
      "File \u001B[0;32m~/Desktop/Final_Project/Traffic_Tune_Project/venv/lib/python3.10/site-packages/ray/air/execution/_internal/actor_manager.py:213\u001B[0m, in \u001B[0;36mRayActorManager.next\u001B[0;34m(self, timeout)\u001B[0m\n\u001B[1;32m    210\u001B[0m all_futures \u001B[38;5;241m=\u001B[39m resource_futures \u001B[38;5;241m+\u001B[39m shuffled_state_futures \u001B[38;5;241m+\u001B[39m shuffled_task_futures\n\u001B[1;32m    212\u001B[0m start_wait \u001B[38;5;241m=\u001B[39m time\u001B[38;5;241m.\u001B[39mmonotonic()\n\u001B[0;32m--> 213\u001B[0m ready, _ \u001B[38;5;241m=\u001B[39m \u001B[43mray\u001B[49m\u001B[38;5;241;43m.\u001B[39;49m\u001B[43mwait\u001B[49m\u001B[43m(\u001B[49m\u001B[43mall_futures\u001B[49m\u001B[43m,\u001B[49m\u001B[43m \u001B[49m\u001B[43mnum_returns\u001B[49m\u001B[38;5;241;43m=\u001B[39;49m\u001B[38;5;241;43m1\u001B[39;49m\u001B[43m,\u001B[49m\u001B[43m \u001B[49m\u001B[43mtimeout\u001B[49m\u001B[38;5;241;43m=\u001B[39;49m\u001B[43mtimeout\u001B[49m\u001B[43m)\u001B[49m\n\u001B[1;32m    215\u001B[0m \u001B[38;5;28;01mif\u001B[39;00m \u001B[38;5;129;01mnot\u001B[39;00m ready:\n\u001B[1;32m    216\u001B[0m     \u001B[38;5;28;01mreturn\u001B[39;00m \u001B[38;5;28;01mFalse\u001B[39;00m\n",
      "File \u001B[0;32m~/Desktop/Final_Project/Traffic_Tune_Project/venv/lib/python3.10/site-packages/ray/_private/auto_init_hook.py:21\u001B[0m, in \u001B[0;36mwrap_auto_init.<locals>.auto_init_wrapper\u001B[0;34m(*args, **kwargs)\u001B[0m\n\u001B[1;32m     18\u001B[0m \u001B[38;5;129m@wraps\u001B[39m(fn)\n\u001B[1;32m     19\u001B[0m \u001B[38;5;28;01mdef\u001B[39;00m \u001B[38;5;21mauto_init_wrapper\u001B[39m(\u001B[38;5;241m*\u001B[39margs, \u001B[38;5;241m*\u001B[39m\u001B[38;5;241m*\u001B[39mkwargs):\n\u001B[1;32m     20\u001B[0m     auto_init_ray()\n\u001B[0;32m---> 21\u001B[0m     \u001B[38;5;28;01mreturn\u001B[39;00m \u001B[43mfn\u001B[49m\u001B[43m(\u001B[49m\u001B[38;5;241;43m*\u001B[39;49m\u001B[43margs\u001B[49m\u001B[43m,\u001B[49m\u001B[43m \u001B[49m\u001B[38;5;241;43m*\u001B[39;49m\u001B[38;5;241;43m*\u001B[39;49m\u001B[43mkwargs\u001B[49m\u001B[43m)\u001B[49m\n",
      "File \u001B[0;32m~/Desktop/Final_Project/Traffic_Tune_Project/venv/lib/python3.10/site-packages/ray/_private/client_mode_hook.py:103\u001B[0m, in \u001B[0;36mclient_mode_hook.<locals>.wrapper\u001B[0;34m(*args, **kwargs)\u001B[0m\n\u001B[1;32m    101\u001B[0m     \u001B[38;5;28;01mif\u001B[39;00m func\u001B[38;5;241m.\u001B[39m\u001B[38;5;18m__name__\u001B[39m \u001B[38;5;241m!=\u001B[39m \u001B[38;5;124m\"\u001B[39m\u001B[38;5;124minit\u001B[39m\u001B[38;5;124m\"\u001B[39m \u001B[38;5;129;01mor\u001B[39;00m is_client_mode_enabled_by_default:\n\u001B[1;32m    102\u001B[0m         \u001B[38;5;28;01mreturn\u001B[39;00m \u001B[38;5;28mgetattr\u001B[39m(ray, func\u001B[38;5;241m.\u001B[39m\u001B[38;5;18m__name__\u001B[39m)(\u001B[38;5;241m*\u001B[39margs, \u001B[38;5;241m*\u001B[39m\u001B[38;5;241m*\u001B[39mkwargs)\n\u001B[0;32m--> 103\u001B[0m \u001B[38;5;28;01mreturn\u001B[39;00m \u001B[43mfunc\u001B[49m\u001B[43m(\u001B[49m\u001B[38;5;241;43m*\u001B[39;49m\u001B[43margs\u001B[49m\u001B[43m,\u001B[49m\u001B[43m \u001B[49m\u001B[38;5;241;43m*\u001B[39;49m\u001B[38;5;241;43m*\u001B[39;49m\u001B[43mkwargs\u001B[49m\u001B[43m)\u001B[49m\n",
      "File \u001B[0;32m~/Desktop/Final_Project/Traffic_Tune_Project/venv/lib/python3.10/site-packages/ray/_private/worker.py:2870\u001B[0m, in \u001B[0;36mwait\u001B[0;34m(ray_waitables, num_returns, timeout, fetch_local)\u001B[0m\n\u001B[1;32m   2868\u001B[0m timeout \u001B[38;5;241m=\u001B[39m timeout \u001B[38;5;28;01mif\u001B[39;00m timeout \u001B[38;5;129;01mis\u001B[39;00m \u001B[38;5;129;01mnot\u001B[39;00m \u001B[38;5;28;01mNone\u001B[39;00m \u001B[38;5;28;01melse\u001B[39;00m \u001B[38;5;241m10\u001B[39m\u001B[38;5;241m*\u001B[39m\u001B[38;5;241m*\u001B[39m\u001B[38;5;241m6\u001B[39m\n\u001B[1;32m   2869\u001B[0m timeout_milliseconds \u001B[38;5;241m=\u001B[39m \u001B[38;5;28mint\u001B[39m(timeout \u001B[38;5;241m*\u001B[39m \u001B[38;5;241m1000\u001B[39m)\n\u001B[0;32m-> 2870\u001B[0m ready_ids, remaining_ids \u001B[38;5;241m=\u001B[39m \u001B[43mworker\u001B[49m\u001B[38;5;241;43m.\u001B[39;49m\u001B[43mcore_worker\u001B[49m\u001B[38;5;241;43m.\u001B[39;49m\u001B[43mwait\u001B[49m\u001B[43m(\u001B[49m\n\u001B[1;32m   2871\u001B[0m \u001B[43m    \u001B[49m\u001B[43mray_waitables\u001B[49m\u001B[43m,\u001B[49m\n\u001B[1;32m   2872\u001B[0m \u001B[43m    \u001B[49m\u001B[43mnum_returns\u001B[49m\u001B[43m,\u001B[49m\n\u001B[1;32m   2873\u001B[0m \u001B[43m    \u001B[49m\u001B[43mtimeout_milliseconds\u001B[49m\u001B[43m,\u001B[49m\n\u001B[1;32m   2874\u001B[0m \u001B[43m    \u001B[49m\u001B[43mworker\u001B[49m\u001B[38;5;241;43m.\u001B[39;49m\u001B[43mcurrent_task_id\u001B[49m\u001B[43m,\u001B[49m\n\u001B[1;32m   2875\u001B[0m \u001B[43m    \u001B[49m\u001B[43mfetch_local\u001B[49m\u001B[43m,\u001B[49m\n\u001B[1;32m   2876\u001B[0m \u001B[43m\u001B[49m\u001B[43m)\u001B[49m\n\u001B[1;32m   2877\u001B[0m \u001B[38;5;28;01mreturn\u001B[39;00m ready_ids, remaining_ids\n",
      "\u001B[0;31mKeyboardInterrupt\u001B[0m: "
     ]
    }
   ]
  },
  {
   "metadata": {},
   "cell_type": "code",
   "source": [
    "# Notify when done\n",
    "experiment_date = env_manager.datetime.now().strftime(\"%m.%d-%H:%M:%S\")\n",
    "message = f'Training for intersection {num_intersection_to_train} with {experiment_type} and {num_training_cycles} from {experiment_date} is done!'  # Replace with your message\n",
    "recipient = 'eviatar109@icloud.com'  # Replace with your iCloud email\n",
    "utils.send_imessage(message, recipient)"
   ],
   "id": "94ed8a9c699744d4",
   "outputs": [],
   "execution_count": null
  },
  {
   "metadata": {},
   "cell_type": "code",
   "source": [
    "result = results[-1]\n",
    "from ray.rllib.algorithms.algorithm import Algorithm\n",
    "\n",
    "best_result = result.get_best_result(\"env_runners/episode_reward_max\", \"max\")\n",
    "checkpoint_path = best_result.checkpoint.path\n",
    "print(f'Best checkpoint path: {checkpoint_path}')\n",
    "\n",
    "# Load the Algorithm from the checkpoint\n",
    "algo = Algorithm.from_checkpoint(checkpoint_path)\n",
    "\n",
    "# Retrieve the current configuration\n",
    "new_config = algo.config.copy()\n",
    "new_config[\"evaluation_duration\"] = 2 # Define as many evaluation episodes as you want\n",
    "\n",
    "\n",
    "# Re-create the algorithm instance with the updated configuration\n",
    "algo = Algorithm.from_checkpoint(checkpoint_path)\n",
    "algo.config = new_config\n",
    "\n",
    "# Evaluate the Algorithm\n",
    "eval_results = algo.evaluate()\n",
    "print(eval_results)"
   ],
   "id": "b969ba9404d829af",
   "outputs": [],
   "execution_count": null
  },
  {
   "metadata": {},
   "cell_type": "code",
   "source": "utils.extract_and_write_all_params()",
   "id": "e33b9b0899c29758",
   "outputs": [],
   "execution_count": null
  }
 ],
 "metadata": {
  "kernelspec": {
   "display_name": "Python 3 (ipykernel)",
   "language": "python",
   "name": "python3"
  },
  "language_info": {
   "codemirror_mode": {
    "name": "ipython",
    "version": 3
   },
   "file_extension": ".py",
   "mimetype": "text/x-python",
   "name": "python",
   "nbconvert_exporter": "python",
   "pygments_lexer": "ipython3",
   "version": "3.11.9"
  }
 },
 "nbformat": 4,
 "nbformat_minor": 5
}
