{
 "cells": [
  {
   "cell_type": "markdown",
   "id": "98a145c81c2dbf7b",
   "metadata": {
    "collapsed": false
   },
   "source": [
    "# Traffic Tune - Optimizing Traffic Signals with Reinforcement Learning\n",
    "\n",
    "## Introduction\n",
    "\n",
    "Welcome to the Traffic Tune POC notebook. Our project focused on optimizing traffic signal control using reinforcement learning. Traffic congestion is a major problem in urban areas, leading to increased travel times, fuel consumption, and pollution. Traditional traffic signal control systems often struggle to adapt to dynamic traffic conditions, resulting in suboptimal traffic flow.\n",
    "\n",
    "Traffic Tune is a recommendation system that leverages reinforcement learning to dynamically adjust traffic signals at intersections. By learning from traffic patterns in real-time, Traffic Tune aims to improve traffic flow, reduce congestion, and enhance overall transportation efficiency.\n",
    "\n",
    "In this POC, we will demonstrate how to train a reinforcement learning agent to optimize traffic signal control in a simulated environment. We will use the SUMO (Simulation of Urban MObility) traffic simulation tool and the Stable Baselines3 library to train a Deep Q-Network (DQN) agent to learn an optimal traffic signal control policy.\n"
   ]
  },
  {
   "cell_type": "markdown",
   "id": "2476f7866dc519ab",
   "metadata": {
    "collapsed": false
   },
   "source": [
    "# Setup and Installations"
   ]
  },
  {
   "metadata": {
    "ExecuteTime": {
     "end_time": "2024-07-24T21:23:07.303892Z",
     "start_time": "2024-07-24T21:23:05.526978Z"
    }
   },
   "cell_type": "code",
   "source": [
    "import env_manager as env_manager\n",
    "import ppo_trainer as ppo_trainer\n",
    "import dqn_trainer as dqn_trainer"
   ],
   "id": "325ce834970de795",
   "outputs": [],
   "execution_count": 1
  },
  {
   "metadata": {
    "ExecuteTime": {
     "end_time": "2024-07-24T21:23:07.308769Z",
     "start_time": "2024-07-24T21:23:07.304919Z"
    }
   },
   "cell_type": "code",
   "source": [
    "def chain_training(manager: env_manager, generator: env_manager.EnvManager.env_generator, algo_agent, running_result: list):\n",
    "    if len(running_result) != 0: \n",
    "        # take the best config from the previous training \n",
    "        best = running_result[-1].get_best_result(\"env_runners/episode_reward_max\", \"max\")\n",
    "        \n",
    "        # Initialize the environment manager with new route file\n",
    "        rou, csv = next(generator)\n",
    "        manager.initialize_env(rou, csv)\n",
    "        \n",
    "        # continue the training with the best config\n",
    "        algo_agent.config = best.config\n",
    "        algo_agent.build_config()\n",
    "    \n",
    "    result = algo_agent.train()\n",
    "    \n",
    "    return result\n",
    "\n",
    "def training(num_intersection: int, experiment_type: str, algo_config: str, env_config: str, num_training_cycles: int):\n",
    "    running_result = []\n",
    "    algo_agent = None\n",
    "    sumo_type = \"SingleAgent\"\n",
    "    algo_type = experiment_type.split(\"_\")\n",
    "    \n",
    "    if experiment_type.__contains__(\"Multi\"):\n",
    "        sumo_type = \"MultiAgent\"\n",
    "    \n",
    "    # Initialize the environment manager\n",
    "    manager = env_manager.EnvManager(f\"{sumo_type}Environment\", env_config, json_id=f\"intersection_{num_intersection}\")\n",
    "    generator = manager.env_generator(f\"Nets/intersection_{num_intersection}/route_xml_path_intersection_{num_intersection}.txt\", algo_name=algo_type[0])\n",
    "    \n",
    "    # Initialize the environment manager with new route file\n",
    "    rou, csv = next(generator)\n",
    "    manager.initialize_env(rou, csv)\n",
    "    \n",
    "    # Initialize the Algo agent\n",
    "    if algo_config.startswith(\"ppo\"):\n",
    "        ppo_agent = ppo_trainer.PPOTrainer(config_path=algo_config, env_manager=manager, experiment_type=experiment_type)\n",
    "        ppo_agent.build_config()\n",
    "        algo_agent = ppo_agent\n",
    "        \n",
    "    elif algo_config.startswith(\"dqn\"):\n",
    "        dqn_agent = dqn_trainer.DQNTrainer(config_path=algo_config, env_manager=manager, experiment_type=experiment_type)\n",
    "        dqn_agent.build_config()\n",
    "        algo_agent = dqn_agent\n",
    "\n",
    "    for i in range(num_training_cycles):\n",
    "        chain_result = chain_training(manager=manager, generator=generator, algo_agent=algo_agent, running_result=running_result)\n",
    "        if chain_result is not None:\n",
    "            running_result.append(chain_result)\n",
    "    \n",
    "    return running_result"
   ],
   "id": "57e8fffd58eb2107",
   "outputs": [],
   "execution_count": 2
  },
  {
   "metadata": {
    "ExecuteTime": {
     "end_time": "2024-07-24T21:23:07.310950Z",
     "start_time": "2024-07-24T21:23:07.309316Z"
    }
   },
   "cell_type": "code",
   "source": [
    "num_intersection_to_train = 3  # Choose which intersection you want to train\n",
    "\n",
    "# Choose the experiment_type:\n",
    "# PPO_SingleAgent | PPO_MultiAgent | DQN_SingleAgent | DDQN_SingleAgent | DQN_MultiAgent | DDQN_MultiAgent\n",
    "experiment_type = \"PPO_SingleAgent\"  \n",
    "\n",
    "num_training_cycles = 1\n",
    "\n",
    "env_config_file_path = \"env_config.json\"\n",
    "\n",
    "ppo_config_file_path = \"ppo_config.json\"\n",
    "\n",
    "dqn_config_file_path = \"dqn_config.json\""
   ],
   "id": "c1aea9551bb990a7",
   "outputs": [],
   "execution_count": 3
  },
  {
   "metadata": {},
   "cell_type": "code",
   "source": "results = training(num_intersection=num_intersection_to_train, experiment_type=experiment_type, algo_config=ppo_config_file_path, env_config=env_config_file_path, num_training_cycles=num_training_cycles)",
   "id": "63800ac021cb3fc2",
   "execution_count": 4,
   "outputs": [
    {
     "name": "stderr",
     "output_type": "stream",
     "text": [
      "2024-07-25 00:23:11,833\tWARNING deprecation.py:50 -- DeprecationWarning: `AlgorithmConfig.num_cpus_per_worker` has been deprecated. Use `AlgorithmConfig.num_cpus_per_env_runner` instead. This will raise an error in the future!\n",
      "2024-07-25 00:23:11,834\tWARNING deprecation.py:50 -- DeprecationWarning: `AlgorithmConfig.num_gpus_per_worker` has been deprecated. Use `AlgorithmConfig.num_gpus_per_env_runner` instead. This will raise an error in the future!\n",
      "2024-07-25 00:23:11,834\tWARNING deprecation.py:50 -- DeprecationWarning: `AlgorithmConfig.num_learner_workers` has been deprecated. Use `AlgorithmConfig.num_learners` instead. This will raise an error in the future!\n",
      "2024-07-25 00:23:11,834\tWARNING deprecation.py:50 -- DeprecationWarning: `AlgorithmConfig.num_cpus_per_learner_worker` has been deprecated. Use `AlgorithmConfig.num_cpus_per_learner` instead. This will raise an error in the future!\n",
      "2024-07-25 00:23:11,834\tWARNING deprecation.py:50 -- DeprecationWarning: `AlgorithmConfig.num_gpus_per_learner_worker` has been deprecated. Use `AlgorithmConfig.num_gpus_per_learner` instead. This will raise an error in the future!\n"
     ]
    },
    {
     "data": {
      "text/plain": [
       "<IPython.core.display.HTML object>"
      ],
      "text/html": [
       "<div class=\"tuneStatus\">\n",
       "  <div style=\"display: flex;flex-direction: row\">\n",
       "    <div style=\"display: flex;flex-direction: column;\">\n",
       "      <h3>Tune Status</h3>\n",
       "      <table>\n",
       "<tbody>\n",
       "<tr><td>Current time:</td><td>2024-07-25 00:23:41</td></tr>\n",
       "<tr><td>Running for: </td><td>00:00:29.38        </td></tr>\n",
       "<tr><td>Memory:      </td><td>10.4/16.0 GiB      </td></tr>\n",
       "</tbody>\n",
       "</table>\n",
       "    </div>\n",
       "    <div class=\"vDivider\"></div>\n",
       "    <div class=\"systemInfo\">\n",
       "      <h3>System Info</h3>\n",
       "      Using FIFO scheduling algorithm.<br>Logical resource usage: 2.0/10 CPUs, 0/0 GPUs\n",
       "    </div>\n",
       "    \n",
       "  </div>\n",
       "  <div class=\"hDivider\"></div>\n",
       "  <div class=\"trialStatus\">\n",
       "    <h3>Trial Status</h3>\n",
       "    <table>\n",
       "<thead>\n",
       "<tr><th>Trial name         </th><th>status    </th><th>loc           </th><th style=\"text-align: right;\">  iter</th><th style=\"text-align: right;\">  total time (s)</th><th style=\"text-align: right;\">  ts</th><th style=\"text-align: right;\">  num_healthy_workers</th><th style=\"text-align: right;\">  num_in_flight_async_\n",
       "sample_reqs</th><th style=\"text-align: right;\">  num_remote_worker_re\n",
       "starts</th></tr>\n",
       "</thead>\n",
       "<tbody>\n",
       "<tr><td>PPO_PPO_ee2ea_00000</td><td>TERMINATED</td><td>127.0.0.1:4653</td><td style=\"text-align: right;\">     3</td><td style=\"text-align: right;\">          24.123</td><td style=\"text-align: right;\">2160</td><td style=\"text-align: right;\">                    1</td><td style=\"text-align: right;\">0</td><td style=\"text-align: right;\">0</td></tr>\n",
       "</tbody>\n",
       "</table>\n",
       "  </div>\n",
       "</div>\n",
       "<style>\n",
       ".tuneStatus {\n",
       "  color: var(--jp-ui-font-color1);\n",
       "}\n",
       ".tuneStatus .systemInfo {\n",
       "  display: flex;\n",
       "  flex-direction: column;\n",
       "}\n",
       ".tuneStatus td {\n",
       "  white-space: nowrap;\n",
       "}\n",
       ".tuneStatus .trialStatus {\n",
       "  display: flex;\n",
       "  flex-direction: column;\n",
       "}\n",
       ".tuneStatus h3 {\n",
       "  font-weight: bold;\n",
       "}\n",
       ".tuneStatus .hDivider {\n",
       "  border-bottom-width: var(--jp-border-width);\n",
       "  border-bottom-color: var(--jp-border-color0);\n",
       "  border-bottom-style: solid;\n",
       "}\n",
       ".tuneStatus .vDivider {\n",
       "  border-left-width: var(--jp-border-width);\n",
       "  border-left-color: var(--jp-border-color0);\n",
       "  border-left-style: solid;\n",
       "  margin: 0.5em 1em 0.5em 1em;\n",
       "}\n",
       "</style>\n"
      ]
     },
     "metadata": {},
     "output_type": "display_data"
    },
    {
     "name": "stderr",
     "output_type": "stream",
     "text": [
      "\u001B[36m(PPO pid=4653)\u001B[0m 2024-07-25 00:23:13,416\tWARNING deprecation.py:50 -- DeprecationWarning: `AlgorithmConfig.num_cpus_per_worker` has been deprecated. Use `AlgorithmConfig.num_cpus_per_env_runner` instead. This will raise an error in the future!\n",
      "\u001B[36m(PPO pid=4653)\u001B[0m 2024-07-25 00:23:13,416\tWARNING deprecation.py:50 -- DeprecationWarning: `AlgorithmConfig.num_gpus_per_worker` has been deprecated. Use `AlgorithmConfig.num_gpus_per_env_runner` instead. This will raise an error in the future!\n",
      "\u001B[36m(PPO pid=4653)\u001B[0m 2024-07-25 00:23:13,416\tWARNING deprecation.py:50 -- DeprecationWarning: `AlgorithmConfig.num_learner_workers` has been deprecated. Use `AlgorithmConfig.num_learners` instead. This will raise an error in the future!\n",
      "\u001B[36m(PPO pid=4653)\u001B[0m 2024-07-25 00:23:13,416\tWARNING deprecation.py:50 -- DeprecationWarning: `AlgorithmConfig.num_cpus_per_learner_worker` has been deprecated. Use `AlgorithmConfig.num_cpus_per_learner` instead. This will raise an error in the future!\n",
      "\u001B[36m(PPO pid=4653)\u001B[0m 2024-07-25 00:23:13,416\tWARNING deprecation.py:50 -- DeprecationWarning: `AlgorithmConfig.num_gpus_per_learner_worker` has been deprecated. Use `AlgorithmConfig.num_gpus_per_learner` instead. This will raise an error in the future!\n"
     ]
    },
    {
     "name": "stdout",
     "output_type": "stream",
     "text": [
      "\u001B[36m(RolloutWorker pid=4654)\u001B[0m  Retrying in 1 seconds\n"
     ]
    },
    {
     "name": "stderr",
     "output_type": "stream",
     "text": [
      "\u001B[36m(RolloutWorker pid=4654)\u001B[0m 2024-07-25 00:23:16,101\tINFO policy.py:1272 -- Policy (worker=1) running on CPU.\n",
      "\u001B[36m(RolloutWorker pid=4654)\u001B[0m 2024-07-25 00:23:16,101\tINFO torch_policy_v2.py:111 -- Found 0 visible cuda devices.\n"
     ]
    },
    {
     "name": "stdout",
     "output_type": "stream",
     "text": [
      "\u001B[36m(RolloutWorker pid=4654)\u001B[0m Step #0.00 (0ms ?*RT. ?UPS, TraCI: 5ms, vehicles TOT 0 ACT 0 BUF 0)                      \n"
     ]
    },
    {
     "name": "stderr",
     "output_type": "stream",
     "text": [
      "\u001B[36m(PPO pid=4653)\u001B[0m 2024-07-25 00:23:16,636\tINFO env_runner_group.py:333 -- Inferred observation/action spaces from remote worker (local worker has no env): {'default_policy': (Box(0.0, 1.0, (26,), float32), Discrete(3)), '__env__': (Box(0.0, 1.0, (26,), float32), Discrete(3))}\n",
      "\u001B[36m(PPO pid=4653)\u001B[0m 2024-07-25 00:23:16,640\tINFO policy.py:1272 -- Policy (worker=local) running on CPU.\n",
      "\u001B[36m(RolloutWorker pid=4654)\u001B[0m 2024-07-25 00:23:16,632\tINFO util.py:118 -- Using connectors:\n",
      "\u001B[36m(RolloutWorker pid=4654)\u001B[0m 2024-07-25 00:23:16,632\tINFO util.py:119 --     AgentConnectorPipeline\n",
      "\u001B[36m(RolloutWorker pid=4654)\u001B[0m         ObsPreprocessorConnector\n",
      "\u001B[36m(RolloutWorker pid=4654)\u001B[0m         StateBufferConnector\n",
      "\u001B[36m(RolloutWorker pid=4654)\u001B[0m         ViewRequirementAgentConnector\n",
      "\u001B[36m(RolloutWorker pid=4654)\u001B[0m 2024-07-25 00:23:16,632\tINFO util.py:120 --     ActionConnectorPipeline\n",
      "\u001B[36m(RolloutWorker pid=4654)\u001B[0m         ConvertToNumpyConnector\n",
      "\u001B[36m(RolloutWorker pid=4654)\u001B[0m         NormalizeActionsConnector\n",
      "\u001B[36m(RolloutWorker pid=4654)\u001B[0m         ImmutableActionsConnector\n",
      "\u001B[36m(PPO pid=4653)\u001B[0m 2024-07-25 00:23:17,024\tINFO rollout_worker.py:1752 -- Built policy map: <PolicyMap lru-caching-capacity=100 policy-IDs=['default_policy']>\n",
      "\u001B[36m(PPO pid=4653)\u001B[0m 2024-07-25 00:23:17,024\tINFO rollout_worker.py:1753 -- Built preprocessor map: {'default_policy': None}\n",
      "\u001B[36m(PPO pid=4653)\u001B[0m 2024-07-25 00:23:17,024\tINFO rollout_worker.py:557 -- Built filter map: defaultdict(<class 'ray.rllib.utils.filter.NoFilter'>, {})\n",
      "\u001B[36m(PPO pid=4653)\u001B[0m Install gputil for GPU system monitoring.\n",
      "\u001B[36m(RolloutWorker pid=4654)\u001B[0m 2024-07-25 00:23:17,042\tINFO rollout_worker.py:679 -- Generating sample batch of size 720\n"
     ]
    },
    {
     "name": "stdout",
     "output_type": "stream",
     "text": [
      "\u001B[36m(RolloutWorker pid=4654)\u001B[0m  Retrying in 1 seconds\n"
     ]
    },
    {
     "name": "stderr",
     "output_type": "stream",
     "text": [
      "\u001B[36m(RolloutWorker pid=4654)\u001B[0m Warning: Vehicle 'f_2.7' performs emergency braking on lane '215834211#0_2' with decel=9.00, wished=4.50, severity=1.00, time=57.00.\n",
      "\u001B[36m(RolloutWorker pid=4654)\u001B[0m Warning: Vehicle 'f_2.7' performs emergency stop at the end of lane '215834211#0_2' because of a red traffic light (decel=-14.93, offset=5.93), time=57.00.\n"
     ]
    },
    {
     "name": "stdout",
     "output_type": "stream",
     "text": [
      "\u001B[36m(RolloutWorker pid=4654)\u001B[0m Step #0.00 (0ms ?*RT. ?UPS, TraCI: 18ms, vehicles TOT 0 ACT 0 BUF 0)                      \n"
     ]
    },
    {
     "name": "stderr",
     "output_type": "stream",
     "text": [
      "\u001B[36m(RolloutWorker pid=4654)\u001B[0m Warning: Vehicle 'f_5.91' performs emergency braking on lane '32299300_2' with decel=9.00, wished=4.50, severity=1.00, time=347.00.\n",
      "\u001B[36m(RolloutWorker pid=4654)\u001B[0m Warning: Vehicle 'f_5.91' performs emergency stop at the end of lane '32299300_2' because of a red traffic light (decel=-21.91, offset=12.91), time=347.00.\n"
     ]
    },
    {
     "name": "stdout",
     "output_type": "stream",
     "text": [
      "Step #300.00 (0ms ?*RT. ?UPS, TraCI: 9ms, vehicles TOT 338 ACT 53 BUF 0)                  15 ACT 45 BUF 0)                  \n"
     ]
    },
    {
     "name": "stderr",
     "output_type": "stream",
     "text": [
      "\u001B[36m(RolloutWorker pid=4654)\u001B[0m Warning: Vehicle 'f_2.75' performs emergency braking on lane '215834211#0_1' with decel=9.00, wished=4.50, severity=1.00, time=607.00.\n",
      "\u001B[36m(RolloutWorker pid=4654)\u001B[0m Warning: Vehicle 'f_2.75' performs emergency stop at the end of lane '215834211#0_1' because of a red traffic light (decel=-12.98, offset=3.98), time=607.00.\n"
     ]
    },
    {
     "name": "stdout",
     "output_type": "stream",
     "text": [
      "Step #600.00 (1ms ~= 1000.00*RT, ~54000.00UPS, TraCI: 8ms, vehicles TOT 666 ACT 54 BUF 0) 46 ACT 48 BUF 1)                  \n"
     ]
    },
    {
     "name": "stderr",
     "output_type": "stream",
     "text": [
      "\u001B[36m(RolloutWorker pid=4654)\u001B[0m Warning: Vehicle 'f_5.217' performs emergency braking on lane '32299300_3' with decel=9.00, wished=4.50, severity=1.00, time=807.00.\n",
      "\u001B[36m(RolloutWorker pid=4654)\u001B[0m Warning: Vehicle 'f_5.217' performs emergency stop at the end of lane '32299300_3' because of a red traffic light (decel=-21.60, offset=11.27), time=807.00.\n"
     ]
    },
    {
     "name": "stdout",
     "output_type": "stream",
     "text": [
      "Step #800.00 (0ms ?*RT. ?UPS, TraCI: 9ms, vehicles TOT 917 ACT 65 BUF 0)                  s, vehicles TOT 790 ACT 52 BUF 0) \n"
     ]
    },
    {
     "name": "stderr",
     "output_type": "stream",
     "text": [
      "\u001B[36m(RolloutWorker pid=4654)\u001B[0m Warning: Vehicle 'f_5.267' performs emergency braking on lane '32299300_3' with decel=9.00, wished=4.50, severity=1.00, time=937.00.\n",
      "\u001B[36m(RolloutWorker pid=4654)\u001B[0m Warning: Vehicle 'f_5.267' performs emergency stop at the end of lane '32299300_3' because of a red traffic light (decel=-17.22, offset=3.60), time=937.00.\n",
      "\u001B[36m(RolloutWorker pid=4654)\u001B[0m Warning: Vehicle 'f_2.131' performs emergency braking on lane '215834211#0_2' with decel=9.00, wished=4.50, severity=1.00, time=1017.00.\n",
      "\u001B[36m(RolloutWorker pid=4654)\u001B[0m Warning: Vehicle 'f_2.131' performs emergency stop at the end of lane '215834211#0_2' because of a red traffic light (decel=-16.39, offset=5.67), time=1017.00.\n"
     ]
    },
    {
     "name": "stdout",
     "output_type": "stream",
     "text": [
      "\u001B[36m(RolloutWorker pid=4654)\u001B[0m Step #900.00 (0ms ?*RT. ?UPS, TraCI: 8ms, vehicles TOT 1030 ACT 49 BUF 1)                 \n",
      "\u001B[36m(RolloutWorker pid=4654)\u001B[0m Step #1000.00 (0ms ?*RT. ?UPS, TraCI: 7ms, vehicles TOT 1142 ACT 43 BUF 0)                \n"
     ]
    },
    {
     "name": "stderr",
     "output_type": "stream",
     "text": [
      "\u001B[36m(RolloutWorker pid=4654)\u001B[0m Warning: Vehicle 'f_5.350' performs emergency braking on lane '32299300_2' with decel=9.00, wished=4.50, severity=1.00, time=1252.00.\n",
      "\u001B[36m(RolloutWorker pid=4654)\u001B[0m Warning: Vehicle 'f_5.350' performs emergency stop at the end of lane '32299300_2' because of a red traffic light (decel=-16.96, offset=7.96), time=1252.00.\n"
     ]
    },
    {
     "name": "stdout",
     "output_type": "stream",
     "text": [
      "Step #1200.00 (0ms ?*RT. ?UPS, TraCI: 6ms, vehicles TOT 1358 ACT 34 BUF 0)                1256 ACT 41 BUF 0)                \n"
     ]
    },
    {
     "name": "stderr",
     "output_type": "stream",
     "text": [
      "\u001B[36m(RolloutWorker pid=4654)\u001B[0m Warning: Vehicle 'f_5.374' performs emergency braking on lane '32299300_2' with decel=9.00, wished=4.50, severity=1.00, time=1317.00.\n",
      "\u001B[36m(RolloutWorker pid=4654)\u001B[0m Warning: Vehicle 'f_5.374' performs emergency stop at the end of lane '32299300_2' because of a red traffic light (decel=-20.48, offset=11.48), time=1317.00.\n"
     ]
    },
    {
     "name": "stdout",
     "output_type": "stream",
     "text": [
      "\u001B[36m(RolloutWorker pid=4654)\u001B[0m Step #1300.00 (1ms ~= 1000.00*RT, ~64000.00UPS, TraCI: 10ms, vehicles TOT 1477 ACT 64 BUF \n"
     ]
    },
    {
     "name": "stderr",
     "output_type": "stream",
     "text": [
      "\u001B[36m(RolloutWorker pid=4654)\u001B[0m Warning: Vehicle 'f_5.430' performs emergency braking on lane '32299300_2' with decel=9.00, wished=4.50, severity=1.00, time=1497.00.\n",
      "\u001B[36m(RolloutWorker pid=4654)\u001B[0m Warning: Vehicle 'f_5.430' performs emergency stop at the end of lane '32299300_2' because of a red traffic light (decel=-18.95, offset=9.95), time=1497.00.\n",
      "\u001B[36m(RolloutWorker pid=4654)\u001B[0m Warning: Vehicle 'f_2.212' performs emergency braking on lane '215834211#0_2' with decel=9.00, wished=4.50, severity=1.00, time=1572.00.\n"
     ]
    },
    {
     "name": "stdout",
     "output_type": "stream",
     "text": [
      "\u001B[36m(RolloutWorker pid=4654)\u001B[0m Step #1400.00 (0ms ?*RT. ?UPS, TraCI: 7ms, vehicles TOT 1593 ACT 56 BUF 0)                \n",
      "\u001B[36m(RolloutWorker pid=4654)\u001B[0m Step #1500.00 (0ms ?*RT. ?UPS, TraCI: 8ms, vehicles TOT 1725 ACT 52 BUF 1)                \n"
     ]
    },
    {
     "name": "stderr",
     "output_type": "stream",
     "text": [
      "\u001B[36m(RolloutWorker pid=4654)\u001B[0m Warning: Vehicle 'f_5.463' performs emergency braking on lane '32299300_3' with decel=9.00, wished=4.50, severity=1.00, time=1617.00.\n"
     ]
    },
    {
     "name": "stdout",
     "output_type": "stream",
     "text": [
      "\u001B[36m(RolloutWorker pid=4654)\u001B[0m Step #1600.00 (0ms ?*RT. ?UPS, TraCI: 7ms, vehicles TOT 1840 ACT 40 BUF 2)                \n"
     ]
    },
    {
     "name": "stderr",
     "output_type": "stream",
     "text": [
      "\u001B[36m(RolloutWorker pid=4654)\u001B[0m Warning: Vehicle 'f_5.531' performs emergency braking on lane '32299300_3' with decel=9.00, wished=4.50, severity=1.00, time=1892.00.\n",
      "\u001B[36m(RolloutWorker pid=4654)\u001B[0m Warning: Vehicle 'f_5.531' performs emergency stop at the end of lane '32299300_3' because of a red traffic light (decel=-17.13, offset=8.13), time=1892.00.\n",
      "\u001B[36m(PPO pid=4653)\u001B[0m 2024-07-25 00:23:16,640\tINFO torch_policy_v2.py:111 -- Found 0 visible cuda devices.\n"
     ]
    },
    {
     "name": "stdout",
     "output_type": "stream",
     "text": [
      "Step #1800.00 (0ms ?*RT. ?UPS, TraCI: 9ms, vehicles TOT 2063 ACT 58 BUF 0)                1938 ACT 35 BUF 1)                \n",
      "Step #2200.00 (0ms ?*RT. ?UPS, TraCI: 8ms, vehicles TOT 2525 ACT 48 BUF 0)                2165 ACT 48 BUF 0)                \n"
     ]
    },
    {
     "name": "stderr",
     "output_type": "stream",
     "text": [
      "\u001B[36m(RolloutWorker pid=4654)\u001B[0m Warning: Vehicle 'f_5.636' performs emergency braking on lane '32299300_3' with decel=9.00, wished=4.50, severity=1.00, time=2247.00.\n",
      "\u001B[36m(RolloutWorker pid=4654)\u001B[0m Warning: Vehicle 'f_5.636' performs emergency stop at the end of lane '32299300_3' because of a red traffic light (decel=-19.23, offset=8.15), time=2247.00.\n",
      "\u001B[36m(PPO pid=4653)\u001B[0m 2024-07-25 00:23:17,024\tINFO util.py:118 -- Using connectors:\n",
      "\u001B[36m(PPO pid=4653)\u001B[0m 2024-07-25 00:23:17,024\tINFO util.py:119 --     AgentConnectorPipeline\n",
      "\u001B[36m(PPO pid=4653)\u001B[0m         ObsPreprocessorConnector\n",
      "\u001B[36m(PPO pid=4653)\u001B[0m         StateBufferConnector\n",
      "\u001B[36m(PPO pid=4653)\u001B[0m         ViewRequirementAgentConnector\n",
      "\u001B[36m(PPO pid=4653)\u001B[0m 2024-07-25 00:23:17,024\tINFO util.py:120 --     ActionConnectorPipeline\n",
      "\u001B[36m(PPO pid=4653)\u001B[0m         ConvertToNumpyConnector\n",
      "\u001B[36m(PPO pid=4653)\u001B[0m         NormalizeActionsConnector\n",
      "\u001B[36m(PPO pid=4653)\u001B[0m         ImmutableActionsConnector\n",
      "\u001B[36m(RolloutWorker pid=4654)\u001B[0m Warning: Vehicle 'f_5.644' performs emergency braking on lane '32299300_2' with decel=9.00, wished=4.50, severity=1.00, time=2282.00.\n",
      "\u001B[36m(RolloutWorker pid=4654)\u001B[0m Warning: Vehicle 'f_5.644' performs emergency stop at the end of lane '32299300_2' because of a red traffic light (decel=-17.93, offset=8.93), time=2282.00.\n",
      "\u001B[36m(RolloutWorker pid=4654)\u001B[0m Warning: Vehicle 'f_5.663' performs emergency braking on lane '32299300_3' with decel=9.00, wished=4.50, severity=1.00, time=2367.00.\n",
      "\u001B[36m(RolloutWorker pid=4654)\u001B[0m Warning: Vehicle 'f_5.663' performs emergency stop at the end of lane '32299300_3' because of a red traffic light (decel=-21.10, offset=12.10), time=2367.00.\n",
      "\u001B[36m(RolloutWorker pid=4654)\u001B[0m Warning: Vehicle 'f_5.684' performs emergency braking on lane '32299300_2' with decel=9.00, wished=4.50, severity=1.00, time=2442.00.\n",
      "\u001B[36m(RolloutWorker pid=4654)\u001B[0m Warning: Vehicle 'f_5.684' performs emergency stop at the end of lane '32299300_2' because of a red traffic light (decel=-22.13, offset=13.13), time=2442.00.\n"
     ]
    },
    {
     "name": "stdout",
     "output_type": "stream",
     "text": [
      "\u001B[36m(RolloutWorker pid=4654)\u001B[0m Step #2300.00 (0ms ?*RT. ?UPS, TraCI: 8ms, vehicles TOT 2654 ACT 41 BUF 0)                \n",
      "\u001B[36m(RolloutWorker pid=4654)\u001B[0m Step #2400.00 (1ms ~= 1000.00*RT, ~46000.00UPS, TraCI: 7ms, vehicles TOT 2754 ACT 46 BUF 0\n"
     ]
    },
    {
     "name": "stderr",
     "output_type": "stream",
     "text": [
      "\u001B[36m(RolloutWorker pid=4654)\u001B[0m Warning: Vehicle 'f_2.328' performs emergency braking on lane '215834211#0_2' with decel=9.00, wished=4.50, severity=1.00, time=2502.00.\n",
      "\u001B[36m(RolloutWorker pid=4654)\u001B[0m Warning: Vehicle 'f_2.328' performs emergency stop at the end of lane '215834211#0_2' because of a red traffic light (decel=-15.42, offset=6.42), time=2502.00.\n",
      "\u001B[36m(RolloutWorker pid=4654)\u001B[0m Warning: Vehicle 'f_2.332' performs emergency braking on lane '215834211#0_2' with decel=9.00, wished=4.50, severity=1.00, time=2522.00.\n"
     ]
    },
    {
     "name": "stdout",
     "output_type": "stream",
     "text": [
      "\u001B[36m(RolloutWorker pid=4654)\u001B[0m Step #2500.00 (0ms ?*RT. ?UPS, TraCI: 8ms, vehicles TOT 2892 ACT 57 BUF 1)                \n"
     ]
    },
    {
     "name": "stderr",
     "output_type": "stream",
     "text": [
      "\u001B[36m(RolloutWorker pid=4654)\u001B[0m Warning: Vehicle 'f_5.732' performs emergency braking on lane '32299300_3' with decel=9.00, wished=4.50, severity=1.00, time=2617.00.\n",
      "\u001B[36m(RolloutWorker pid=4654)\u001B[0m Warning: Vehicle 'f_5.732' performs emergency stop at the end of lane '32299300_3' because of a red traffic light (decel=-20.46, offset=1.49), time=2617.00.\n",
      "\u001B[36m(RolloutWorker pid=4654)\u001B[0m Warning: Vehicle 'f_5.752' performs emergency braking on lane '32299300_2' with decel=9.00, wished=4.50, severity=1.00, time=2677.00.\n",
      "\u001B[36m(RolloutWorker pid=4654)\u001B[0m Warning: Vehicle 'f_5.752' performs emergency stop at the end of lane '32299300_2' because of a red traffic light (decel=-12.59, offset=2.98), time=2678.00.\n"
     ]
    },
    {
     "name": "stdout",
     "output_type": "stream",
     "text": [
      "\u001B[36m(RolloutWorker pid=4654)\u001B[0m Step #2600.00 (1ms ~= 1000.00*RT, ~36000.00UPS, TraCI: 7ms, vehicles TOT 3002 ACT 36 BUF 0\n",
      "Step #3600.00 (1ms ~= 1000.00*RT, ~43000.00UPS, TraCI: 27ms, vehicles TOT 4185 ACT 43 BUF  3122 ACT 48 BUF 0)               \n",
      "\u001B[36m(RolloutWorker pid=4654)\u001B[0m  Retrying in 1 seconds\n"
     ]
    },
    {
     "name": "stderr",
     "output_type": "stream",
     "text": [
      "\u001B[36m(PPO pid=4653)\u001B[0m 2024-07-25 00:23:25,502\tWARNING deprecation.py:50 -- DeprecationWarning: `ray.rllib.execution.train_ops.multi_gpu_train_one_step` has been deprecated. This will raise an error in the future!\n",
      "\u001B[36m(RolloutWorker pid=4654)\u001B[0m 2024-07-25 00:23:25,495\tINFO rollout_worker.py:721 -- Completed sample batch:\n",
      "\u001B[36m(RolloutWorker pid=4654)\u001B[0m \n",
      "\u001B[36m(RolloutWorker pid=4654)\u001B[0m { 'count': 720,\n",
      "\u001B[36m(RolloutWorker pid=4654)\u001B[0m   'policy_batches': { 'default_policy': { 'action_dist_inputs': np.ndarray((720, 3), dtype=float32, min=-0.004, max=0.008, mean=0.0),\n",
      "\u001B[36m(RolloutWorker pid=4654)\u001B[0m                                           'action_logp': np.ndarray((720,), dtype=float32, min=-1.103, max=-1.092, mean=-1.099),\n",
      "\u001B[36m(RolloutWorker pid=4654)\u001B[0m                                           'actions': np.ndarray((720,), dtype=int32, min=0.0, max=2.0, mean=1.001),\n",
      "\u001B[36m(RolloutWorker pid=4654)\u001B[0m                                           'advantages': np.ndarray((720,), dtype=float32, min=-3.169, max=6.876, mean=-0.001),\n",
      "\u001B[36m(RolloutWorker pid=4654)\u001B[0m                                           'agent_index': np.ndarray((720,), dtype=int64, min=0.0, max=0.0, mean=0.0),\n",
      "\u001B[36m(RolloutWorker pid=4654)\u001B[0m                                           'eps_id': np.ndarray((720,), dtype=int64, min=4.1290091324137024e+17, max=4.1290091324137024e+17, mean=4.129009132413702e+17),\n",
      "\u001B[36m(RolloutWorker pid=4654)\u001B[0m                                           'infos': np.ndarray((720,), dtype=object, head={'step': 0.0, 'system_total_stopped': 0, 'system_total_waiting_time': 0, 'system_mean_waiting_time': 0.0, 'system_mean_speed': 0.0, 'cluster_2252682311_271878068_2847672361_3123446741_#8more_stopped': 0, 'cluster_2252682311_271878068_2847672361_3123446741_#8more_accumulated_waiting_time': 0.0, 'cluster_2252682311_271878068_2847672361_3123446741_#8more_average_speed': 1.0, 'agents_total_stopped': 0, 'agents_total_accumulated_waiting_time': 0.0}),\n",
      "\u001B[36m(RolloutWorker pid=4654)\u001B[0m                                           'new_obs': np.ndarray((720, 26), dtype=float32, min=0.0, max=1.0, mean=0.126),\n",
      "\u001B[36m(RolloutWorker pid=4654)\u001B[0m                                           'obs': np.ndarray((720, 26), dtype=float32, min=0.0, max=1.0, mean=0.126),\n",
      "\u001B[36m(RolloutWorker pid=4654)\u001B[0m                                           'rewards': np.ndarray((720,), dtype=float32, min=-1.16, max=4.31, mean=-0.0),\n",
      "\u001B[36m(RolloutWorker pid=4654)\u001B[0m                                           't': np.ndarray((720,), dtype=int64, min=0.0, max=719.0, mean=359.5),\n",
      "\u001B[36m(RolloutWorker pid=4654)\u001B[0m                                           'terminateds': np.ndarray((720,), dtype=bool, min=0.0, max=0.0, mean=0.0),\n",
      "\u001B[36m(RolloutWorker pid=4654)\u001B[0m                                           'truncateds': np.ndarray((720,), dtype=bool, min=0.0, max=1.0, mean=0.001),\n",
      "\u001B[36m(RolloutWorker pid=4654)\u001B[0m                                           'unroll_id': np.ndarray((720,), dtype=int64, min=1.0, max=1.0, mean=1.0),\n",
      "\u001B[36m(RolloutWorker pid=4654)\u001B[0m                                           'value_targets': np.ndarray((720,), dtype=float32, min=-3.167, max=6.878, mean=-0.0),\n",
      "\u001B[36m(RolloutWorker pid=4654)\u001B[0m                                           'values_bootstrapped': np.ndarray((720,), dtype=float32, min=-0.001, max=0.003, mean=0.001),\n",
      "\u001B[36m(RolloutWorker pid=4654)\u001B[0m                                           'vf_preds': np.ndarray((720,), dtype=float32, min=-0.001, max=0.003, mean=0.001)}},\n",
      "\u001B[36m(RolloutWorker pid=4654)\u001B[0m   'type': 'MultiAgentBatch'}\n",
      "\u001B[36m(RolloutWorker pid=4654)\u001B[0m \n",
      "\u001B[36m(PPO pid=4653)\u001B[0m Checkpoint successfully created at: Checkpoint(filesystem=local, path=/Users/eviat/Desktop/Final_Project/Traffic_Tune_Project/Outputs/Training/intersection_3/saved_agent/PPO_2024-07-25_00-23-11/PPO_PPO_ee2ea_00000_0_2024-07-25_00-23-11/checkpoint_000000)\n",
      "\u001B[36m(RolloutWorker pid=4654)\u001B[0m Warning: Vehicle 'f_5.48' performs emergency braking on lane '32299300_3' with decel=9.00, wished=4.50, severity=1.00, time=182.00.\n",
      "\u001B[36m(RolloutWorker pid=4654)\u001B[0m Warning: Vehicle 'f_5.48' performs emergency stop at the end of lane '32299300_3' because of a red traffic light (decel=-20.03, offset=11.03), time=182.00.\n"
     ]
    },
    {
     "name": "stdout",
     "output_type": "stream",
     "text": [
      "Step #100.00 (0ms ?*RT. ?UPS, TraCI: 5ms, vehicles TOT 123 ACT 50 BUF 3)                  ACT 1 BUF 0)                      \n"
     ]
    },
    {
     "name": "stderr",
     "output_type": "stream",
     "text": [
      "\u001B[36m(RolloutWorker pid=4654)\u001B[0m Warning: Vehicle 'f_5.85' performs emergency braking on lane '32299300_3' with decel=9.00, wished=4.50, severity=1.00, time=302.00.\n",
      "\u001B[36m(RolloutWorker pid=4654)\u001B[0m Warning: Vehicle 'f_5.85' performs emergency stop at the end of lane '32299300_3' because of a red traffic light (decel=-16.14, offset=7.14), time=302.00.\n",
      "\u001B[36m(RolloutWorker pid=4654)\u001B[0m Warning: Vehicle 'f_2.46' performs emergency braking on lane '215834211#0_1' with decel=9.00, wished=4.50, severity=1.00, time=302.00.\n",
      "\u001B[36m(RolloutWorker pid=4654)\u001B[0m Warning: Vehicle 'f_2.46' performs emergency stop at the end of lane '215834211#0_1' because of a red traffic light (decel=-16.71, offset=4.63), time=302.00.\n"
     ]
    },
    {
     "name": "stdout",
     "output_type": "stream",
     "text": [
      "Step #300.00 (0ms ?*RT. ?UPS, TraCI: 7ms, vehicles TOT 377 ACT 49 BUF 0)                  46 ACT 49 BUF 0)                  \n"
     ]
    },
    {
     "name": "stderr",
     "output_type": "stream",
     "text": [
      "\u001B[36m(RolloutWorker pid=4654)\u001B[0m Warning: Vehicle 'f_2.61' performs emergency braking on lane '215834211#0_1' with decel=9.00, wished=4.50, severity=1.00, time=432.00.\n",
      "\u001B[36m(RolloutWorker pid=4654)\u001B[0m Warning: Vehicle 'f_2.61' performs emergency stop at the end of lane '215834211#0_1' because of a red traffic light (decel=-15.14, offset=6.14), time=432.00.\n"
     ]
    },
    {
     "name": "stdout",
     "output_type": "stream",
     "text": [
      "\u001B[36m(RolloutWorker pid=4654)\u001B[0m Step #400.00 (0ms ?*RT. ?UPS, TraCI: 9ms, vehicles TOT 496 ACT 51 BUF 0)                  \n"
     ]
    },
    {
     "name": "stderr",
     "output_type": "stream",
     "text": [
      "\u001B[36m(RolloutWorker pid=4654)\u001B[0m Warning: Vehicle 'f_5.289' performs emergency braking on lane '32299300_3' with decel=9.00, wished=4.50, severity=1.00, time=947.00.\n",
      "\u001B[36m(RolloutWorker pid=4654)\u001B[0m Warning: Vehicle 'f_5.289' performs emergency stop at the end of lane '32299300_3' because of a red traffic light (decel=-21.73, offset=12.58), time=947.00.\n"
     ]
    },
    {
     "name": "stdout",
     "output_type": "stream",
     "text": [
      "Step #900.00 (0ms ?*RT. ?UPS, TraCI: 8ms, vehicles TOT 1107 ACT 50 BUF 2)                 26 ACT 55 BUF 0)                  \n"
     ]
    },
    {
     "name": "stderr",
     "output_type": "stream",
     "text": [
      "\u001B[36m(RolloutWorker pid=4654)\u001B[0m Warning: Vehicle 'f_2.201' performs emergency braking on lane '215834211#0_1' with decel=9.00, wished=4.50, severity=1.00, time=1502.00.\n",
      "\u001B[36m(RolloutWorker pid=4654)\u001B[0m Warning: Vehicle 'f_2.201' performs emergency stop at the end of lane '215834211#0_1' because of a red traffic light (decel=-14.45, offset=5.45), time=1502.00.\n",
      "\u001B[36m(RolloutWorker pid=4654)\u001B[0m Warning: Vehicle 'f_5.463' performs emergency braking on lane '32299300_2' with decel=9.00, wished=4.50, severity=1.00, time=1552.00.\n",
      "\u001B[36m(RolloutWorker pid=4654)\u001B[0m Warning: Vehicle 'f_5.463' performs emergency stop at the end of lane '32299300_2' because of a red traffic light (decel=-20.76, offset=9.17), time=1552.00.\n"
     ]
    },
    {
     "name": "stdout",
     "output_type": "stream",
     "text": [
      "Step #1500.00 (0ms ?*RT. ?UPS, TraCI: 8ms, vehicles TOT 1766 ACT 49 BUF 3)                1218 ACT 44 BUF 0)                \n"
     ]
    },
    {
     "name": "stderr",
     "output_type": "stream",
     "text": [
      "\u001B[36m(RolloutWorker pid=4654)\u001B[0m Warning: Vehicle 'f_5.505' performs emergency braking on lane '32299300_3' with decel=9.00, wished=4.50, severity=1.00, time=1702.00.\n",
      "\u001B[36m(RolloutWorker pid=4654)\u001B[0m Warning: Vehicle 'f_5.505' performs emergency stop at the end of lane '32299300_3' because of a red traffic light (decel=-20.39, offset=4.66), time=1702.00.\n",
      "\u001B[36m(RolloutWorker pid=4654)\u001B[0m Warning: Vehicle 'f_5.525' performs emergency braking on lane '32299300_3' with decel=9.00, wished=4.50, severity=1.00, time=1772.00.\n",
      "\u001B[36m(RolloutWorker pid=4654)\u001B[0m Warning: Vehicle 'f_5.525' performs emergency stop at the end of lane '32299300_3' because of a red traffic light (decel=-17.46, offset=8.46), time=1772.00.\n"
     ]
    },
    {
     "name": "stdout",
     "output_type": "stream",
     "text": [
      "Step #1700.00 (1ms ~= 1000.00*RT, ~43000.00UPS, TraCI: 6ms, vehicles TOT 1992 ACT 43 BUF 01889 ACT 52 BUF 0)                \n"
     ]
    },
    {
     "name": "stderr",
     "output_type": "stream",
     "text": [
      "\u001B[36m(RolloutWorker pid=4654)\u001B[0m Warning: Vehicle 'f_5.711' performs emergency braking on lane '32299300_3' with decel=9.00, wished=4.50, severity=1.00, time=2462.00.\n",
      "\u001B[36m(RolloutWorker pid=4654)\u001B[0m Warning: Vehicle 'f_5.711' performs emergency stop at the end of lane '32299300_3' because of a red traffic light (decel=-14.94, offset=5.94), time=2462.00.\n"
     ]
    },
    {
     "name": "stdout",
     "output_type": "stream",
     "text": [
      "Step #2400.00 (0ms ?*RT. ?UPS, TraCI: 9ms, vehicles TOT 2781 ACT 44 BUF 0)                2107 ACT 32 BUF 0)                \n",
      "Step #3600.00 (0ms ?*RT. ?UPS, TraCI: 29ms, vehicles TOT 4214 ACT 48 BUF 0)               2893 ACT 55 BUF 0)                \n",
      "\u001B[36m(RolloutWorker pid=4654)\u001B[0m  Retrying in 1 seconds\n"
     ]
    },
    {
     "name": "stderr",
     "output_type": "stream",
     "text": [
      "\u001B[36m(PPO pid=4653)\u001B[0m Checkpoint successfully created at: Checkpoint(filesystem=local, path=/Users/eviat/Desktop/Final_Project/Traffic_Tune_Project/Outputs/Training/intersection_3/saved_agent/PPO_2024-07-25_00-23-11/PPO_PPO_ee2ea_00000_0_2024-07-25_00-23-11/checkpoint_000001)\n",
      "\u001B[36m(RolloutWorker pid=4654)\u001B[0m Warning: Vehicle 'f_5.15' performs emergency braking on lane '32299300_2' with decel=9.00, wished=4.50, severity=1.00, time=87.00.\n",
      "\u001B[36m(RolloutWorker pid=4654)\u001B[0m Warning: Vehicle 'f_5.15' performs emergency stop at the end of lane '32299300_2' because of a red traffic light (decel=-16.40, offset=7.40), time=87.00.\n"
     ]
    },
    {
     "name": "stdout",
     "output_type": "stream",
     "text": [
      "\u001B[36m(RolloutWorker pid=4654)\u001B[0m Step #0.00 (0ms ?*RT. ?UPS, TraCI: 13ms, vehicles TOT 0 ACT 0 BUF 0)                      \n"
     ]
    },
    {
     "name": "stderr",
     "output_type": "stream",
     "text": [
      "\u001B[36m(RolloutWorker pid=4654)\u001B[0m Warning: Vehicle 'f_2.54' performs emergency braking on lane '215834211#0_2' with decel=9.00, wished=4.50, severity=1.00, time=452.00.\n",
      "\u001B[36m(RolloutWorker pid=4654)\u001B[0m Warning: Vehicle 'f_2.54' performs emergency stop at the end of lane '215834211#0_2' because of a red traffic light (decel=-17.55, offset=6.22), time=452.00.\n"
     ]
    },
    {
     "name": "stdout",
     "output_type": "stream",
     "text": [
      "Step #400.00 (0ms ?*RT. ?UPS, TraCI: 10ms, vehicles TOT 510 ACT 70 BUF 0)                 25 ACT 47 BUF 0)                  \n"
     ]
    },
    {
     "name": "stderr",
     "output_type": "stream",
     "text": [
      "\u001B[36m(RolloutWorker pid=4654)\u001B[0m Warning: Vehicle 'f_5.262' performs emergency braking on lane '32299300_3' with decel=9.00, wished=4.50, severity=1.00, time=912.00.\n",
      "\u001B[36m(RolloutWorker pid=4654)\u001B[0m Warning: Vehicle 'f_5.262' performs emergency stop at the end of lane '32299300_3' because of a red traffic light (decel=-20.44, offset=11.44), time=912.00.\n"
     ]
    },
    {
     "name": "stdout",
     "output_type": "stream",
     "text": [
      "Step #900.00 (0ms ?*RT. ?UPS, TraCI: 9ms, vehicles TOT 1112 ACT 54 BUF 1)                 21 ACT 44 BUF 0)                  \n"
     ]
    },
    {
     "name": "stderr",
     "output_type": "stream",
     "text": [
      "\u001B[36m(RolloutWorker pid=4654)\u001B[0m Warning: Vehicle 'f_5.308' performs emergency braking on lane '32299300_2' with decel=9.00, wished=4.50, severity=1.00, time=1052.00.\n",
      "\u001B[36m(RolloutWorker pid=4654)\u001B[0m Warning: Vehicle 'f_5.308' performs emergency stop at the end of lane '32299300_2' because of a red traffic light (decel=-21.50, offset=10.02), time=1052.00.\n"
     ]
    },
    {
     "name": "stdout",
     "output_type": "stream",
     "text": [
      "\u001B[36m(RolloutWorker pid=4654)\u001B[0m Step #1000.00 (0ms ?*RT. ?UPS, TraCI: 8ms, vehicles TOT 1228 ACT 44 BUF 1)                \n"
     ]
    },
    {
     "name": "stderr",
     "output_type": "stream",
     "text": [
      "\u001B[36m(RolloutWorker pid=4654)\u001B[0m Warning: Vehicle 'f_5.352' performs emergency braking on lane '32299300_2' with decel=9.00, wished=4.50, severity=1.00, time=1217.00.\n",
      "\u001B[36m(RolloutWorker pid=4654)\u001B[0m Warning: Vehicle 'f_5.352' performs emergency stop at the end of lane '32299300_2' because of a red traffic light (decel=-20.11, offset=3.50), time=1217.00.\n"
     ]
    },
    {
     "name": "stdout",
     "output_type": "stream",
     "text": [
      "Step #1200.00 (0ms ?*RT. ?UPS, TraCI: 8ms, vehicles TOT 1454 ACT 57 BUF 0)                1336 ACT 38 BUF 0)                \n"
     ]
    },
    {
     "name": "stderr",
     "output_type": "stream",
     "text": [
      "\u001B[36m(RolloutWorker pid=4654)\u001B[0m Warning: Vehicle 'f_2.210' performs emergency braking on lane '215834211#0_2' with decel=9.00, wished=4.50, severity=1.00, time=1452.00.\n",
      "\u001B[36m(RolloutWorker pid=4654)\u001B[0m Warning: Vehicle 'f_2.210' performs emergency stop at the end of lane '215834211#0_2' because of a red traffic light (decel=-17.36, offset=5.25), time=1452.00.\n"
     ]
    },
    {
     "name": "stdout",
     "output_type": "stream",
     "text": [
      "Step #1400.00 (0ms ?*RT. ?UPS, TraCI: 9ms, vehicles TOT 1719 ACT 61 BUF 0)                6ms, vehicles TOT 1588 ACT 90 BUF \n"
     ]
    },
    {
     "name": "stderr",
     "output_type": "stream",
     "text": [
      "\u001B[36m(RolloutWorker pid=4654)\u001B[0m Warning: Vehicle 'f_5.516' performs emergency braking on lane '32299300_3' with decel=9.00, wished=4.50, severity=1.00, time=1722.00.\n",
      "\u001B[36m(RolloutWorker pid=4654)\u001B[0m Warning: Vehicle 'f_5.516' performs emergency stop at the end of lane '32299300_3' because of a red traffic light (decel=-18.65, offset=9.65), time=1722.00.\n",
      "\u001B[36m(RolloutWorker pid=4654)\u001B[0m Warning: Vehicle 'f_5.534' performs emergency braking on lane '32299300_3' with decel=9.00, wished=4.50, severity=1.00, time=1792.00.\n",
      "\u001B[36m(RolloutWorker pid=4654)\u001B[0m Warning: Vehicle 'f_5.534' performs emergency stop at the end of lane '32299300_3' because of a red traffic light (decel=-18.87, offset=9.87), time=1792.00.\n"
     ]
    },
    {
     "name": "stdout",
     "output_type": "stream",
     "text": [
      "Step #1700.00 (0ms ?*RT. ?UPS, TraCI: 7ms, vehicles TOT 2064 ACT 52 BUF 0)                1842 ACT 49 BUF 1)                \n"
     ]
    },
    {
     "name": "stderr",
     "output_type": "stream",
     "text": [
      "\u001B[36m(RolloutWorker pid=4654)\u001B[0m Warning: Vehicle 'f_5.597' performs emergency braking on lane '32299300_2' with decel=9.00, wished=4.50, severity=1.00, time=1987.00.\n",
      "\u001B[36m(RolloutWorker pid=4654)\u001B[0m Warning: Vehicle 'f_5.597' performs emergency stop at the end of lane '32299300_2' because of a red traffic light (decel=-15.36, offset=6.36), time=1987.00.\n"
     ]
    },
    {
     "name": "stdout",
     "output_type": "stream",
     "text": [
      "Step #1900.00 (0ms ?*RT. ?UPS, TraCI: 8ms, vehicles TOT 2290 ACT 56 BUF 0)                2174 ACT 49 BUF 1)                \n"
     ]
    },
    {
     "name": "stderr",
     "output_type": "stream",
     "text": [
      "\u001B[36m(RolloutWorker pid=4654)\u001B[0m Warning: Vehicle 'f_2.311' performs emergency braking on lane '215834211#0_2' with decel=9.00, wished=4.50, severity=1.00, time=2232.00.\n",
      "\u001B[36m(RolloutWorker pid=4654)\u001B[0m Warning: Vehicle 'f_2.311' performs emergency stop at the end of lane '215834211#0_2' because of a red traffic light (decel=-12.70, offset=3.70), time=2232.00.\n"
     ]
    },
    {
     "name": "stdout",
     "output_type": "stream",
     "text": [
      "Step #2200.00 (0ms ?*RT. ?UPS, TraCI: 8ms, vehicles TOT 2642 ACT 47 BUF 0)                2400 ACT 36 BUF 2)                \n"
     ]
    },
    {
     "name": "stderr",
     "output_type": "stream",
     "text": [
      "\u001B[36m(RolloutWorker pid=4654)\u001B[0m Warning: Vehicle 'f_5.708' performs emergency braking on lane '32299300_3' with decel=9.00, wished=4.50, severity=1.00, time=2347.00.\n",
      "\u001B[36m(RolloutWorker pid=4654)\u001B[0m Warning: Vehicle 'f_5.708' performs emergency stop at the end of lane '32299300_3' because of a red traffic light (decel=-18.93, offset=5.43), time=2347.00.\n"
     ]
    },
    {
     "name": "stdout",
     "output_type": "stream",
     "text": [
      "\u001B[36m(RolloutWorker pid=4654)\u001B[0m Step #2300.00 (0ms ?*RT. ?UPS, TraCI: 8ms, vehicles TOT 2775 ACT 56 BUF 1)                \n"
     ]
    },
    {
     "name": "stderr",
     "output_type": "stream",
     "text": [
      "\u001B[36m(RolloutWorker pid=4654)\u001B[0m Warning: Vehicle 'f_5.824' performs emergency braking on lane '32299300_2' with decel=9.00, wished=4.50, severity=1.00, time=2742.00.\n",
      "\u001B[36m(RolloutWorker pid=4654)\u001B[0m Warning: Vehicle 'f_5.824' performs emergency stop at the end of lane '32299300_2' because of a red traffic light (decel=-21.06, offset=3.37), time=2742.00.\n",
      "\u001B[36m(RolloutWorker pid=4654)\u001B[0m Warning: Vehicle 'f_5.858' performs emergency braking on lane '32299300_3' with decel=9.00, wished=4.50, severity=1.00, time=2867.00.\n",
      "\u001B[36m(RolloutWorker pid=4654)\u001B[0m Warning: Vehicle 'f_5.858' performs emergency stop at the end of lane '32299300_3' because of a red traffic light (decel=-20.44, offset=3.43), time=2867.00.\n"
     ]
    },
    {
     "name": "stdout",
     "output_type": "stream",
     "text": [
      "Step #2700.00 (0ms ?*RT. ?UPS, TraCI: 8ms, vehicles TOT 3278 ACT 61 BUF 0)                2883 ACT 34 BUF 0)                \n",
      "\u001B[36m(RolloutWorker pid=4654)\u001B[0m Step #2800.00 (0ms ?*RT. ?UPS, TraCI: 6ms, vehicles TOT 3389 ACT 38 BUF 0)                \n"
     ]
    },
    {
     "name": "stderr",
     "output_type": "stream",
     "text": [
      "\u001B[36m(RolloutWorker pid=4654)\u001B[0m Warning: Vehicle 'f_5.925' performs emergency braking on lane '32299300_3' with decel=9.00, wished=4.50, severity=1.00, time=3107.00.\n",
      "\u001B[36m(RolloutWorker pid=4654)\u001B[0m Warning: Vehicle 'f_5.925' performs emergency stop at the end of lane '32299300_3' because of a red traffic light (decel=-17.60, offset=8.60), time=3107.00.\n"
     ]
    },
    {
     "name": "stdout",
     "output_type": "stream",
     "text": [
      "Step #3100.00 (0ms ?*RT. ?UPS, TraCI: 8ms, vehicles TOT 3755 ACT 51 BUF 1)                0ms, vehicles TOT 3520 ACT 61 BUF \n"
     ]
    },
    {
     "name": "stderr",
     "output_type": "stream",
     "text": [
      "\u001B[36m(RolloutWorker pid=4654)\u001B[0m Warning: Vehicle 'f_5.1050' performs emergency braking on lane '32299300_2' with decel=9.00, wished=4.50, severity=1.00, time=3562.00.\n",
      "\u001B[36m(RolloutWorker pid=4654)\u001B[0m Warning: Vehicle 'f_5.1050' performs emergency stop at the end of lane '32299300_2' because of a red traffic light (decel=-21.11, offset=12.11), time=3562.00.\n"
     ]
    },
    {
     "name": "stdout",
     "output_type": "stream",
     "text": [
      "Step #3500.00 (1ms ~= 1000.00*RT, ~48000.00UPS, TraCI: 7ms, vehicles TOT 4235 ACT 48 BUF 03867 ACT 41 BUF 1)                \n",
      "\u001B[36m(RolloutWorker pid=4654)\u001B[0m Step #3600.00 (0ms ?*RT. ?UPS, TraCI: 28ms, vehicles TOT 4353 ACT 44 BUF 1)               \n",
      "\u001B[36m(RolloutWorker pid=4654)\u001B[0m  Retrying in 1 seconds\n"
     ]
    },
    {
     "name": "stderr",
     "output_type": "stream",
     "text": [
      "2024-07-25 00:23:41,214\tINFO tune.py:1009 -- Wrote the latest version of all result files and experiment state to '/Users/eviat/Desktop/Final_Project/Traffic_Tune_Project/Outputs/Training/intersection_3/saved_agent/PPO_2024-07-25_00-23-11' in 0.0058s.\n",
      "\u001B[36m(PPO pid=4653)\u001B[0m Checkpoint successfully created at: Checkpoint(filesystem=local, path=/Users/eviat/Desktop/Final_Project/Traffic_Tune_Project/Outputs/Training/intersection_3/saved_agent/PPO_2024-07-25_00-23-11/PPO_PPO_ee2ea_00000_0_2024-07-25_00-23-11/checkpoint_000002)\n",
      "2024-07-25 00:23:41,650\tINFO tune.py:1041 -- Total run time: 29.85 seconds (29.38 seconds for the tuning loop).\n"
     ]
    },
    {
     "name": "stdout",
     "output_type": "stream",
     "text": [
      "Step #5.00 (0ms ?*RT. ?UPS, TraCI: 664ms, vehicles TOT 2 ACT 2 BUF 0)                     ACT 2 BUF 0)                      \n"
     ]
    }
   ]
  },
  {
   "metadata": {},
   "cell_type": "code",
   "source": "print(results)",
   "id": "4941fe2a1ffc0e09",
   "outputs": [],
   "execution_count": null
  }
 ],
 "metadata": {
  "kernelspec": {
   "display_name": "Python 3 (ipykernel)",
   "language": "python",
   "name": "python3"
  },
  "language_info": {
   "codemirror_mode": {
    "name": "ipython",
    "version": 3
   },
   "file_extension": ".py",
   "mimetype": "text/x-python",
   "name": "python",
   "nbconvert_exporter": "python",
   "pygments_lexer": "ipython3",
   "version": "3.11.9"
  }
 },
 "nbformat": 4,
 "nbformat_minor": 5
}
