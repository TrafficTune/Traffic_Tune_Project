{
 "cells": [
  {
   "cell_type": "markdown",
   "id": "98a145c81c2dbf7b",
   "metadata": {
    "collapsed": false
   },
   "source": [
    "# Traffic Tune - Optimizing Traffic Signals with Reinforcement Learning\n",
    "\n",
    "## Introduction\n",
    "\n",
    "Welcome to the Traffic Tune POC notebook. Our project focused on optimizing traffic signal control using reinforcement learning. Traffic congestion is a major problem in urban areas, leading to increased travel times, fuel consumption, and pollution. Traditional traffic signal control systems often struggle to adapt to dynamic traffic conditions, resulting in suboptimal traffic flow.\n",
    "\n",
    "Traffic Tune is a recommendation system that leverages reinforcement learning to dynamically adjust traffic signals at intersections. By learning from traffic patterns in real-time, Traffic Tune aims to improve traffic flow, reduce congestion, and enhance overall transportation efficiency.\n",
    "\n",
    "In this POC, we will demonstrate how to train a reinforcement learning agent to optimize traffic signal control in a simulated environment. We will use the SUMO (Simulation of Urban MObility) traffic simulation tool and the Stable Baselines3 library to train a Deep Q-Network (DQN) agent to learn an optimal traffic signal control policy.\n"
   ]
  },
  {
   "cell_type": "markdown",
   "id": "2476f7866dc519ab",
   "metadata": {
    "collapsed": false
   },
   "source": [
    "# Setup and Installations"
   ]
  },
  {
   "metadata": {},
   "cell_type": "code",
   "source": [
    "import env_manager as env_manager\n",
    "import ppo_trainer as ppo_trainer"
   ],
   "id": "325ce834970de795",
   "outputs": [],
   "execution_count": null
  },
  {
   "metadata": {},
   "cell_type": "code",
   "source": [
    "def first_link_train(num_intersection: int, experiment_type: str, ppo_config: str, env_config: str, num_routes_files: int):\n",
    "    running_result = []\n",
    "    # Initialize the environment manager\n",
    "    manager = env_manager.EnvManager(f\"{experiment_type}Environment\", env_config,\n",
    "                                     json_id=f\"intersection_{num_intersection}\")\n",
    "    generator = manager.env_generator(\n",
    "        f\"Nets/intersection_{num_intersection}/route_xml_path_intersection_{num_intersection}.txt\")\n",
    "    rou, csv = next(generator)\n",
    "    env_kwargs = manager.initialize_env(rou, csv)\n",
    "\n",
    "    print(f\"\\nEnv creat for intersection_{num_intersection}\",\n",
    "          \"\\nNet path:\", manager.kwargs[\"net_file\"],\n",
    "          \"\\nRoute path:\", rou,\n",
    "          \"\\nCsv path:\", csv)\n",
    "\n",
    "    # Initialize the PPO agent\n",
    "    ppo_agent = ppo_trainer.PPOTrainer(ppo_config, manager, experiment_type=experiment_type)\n",
    "    ppo_agent.build_config()\n",
    "\n",
    "    # Train the PPO agent\n",
    "    result = ppo_agent.train()\n",
    "    running_result.append(result)\n",
    "    \n",
    "    for i in range(num_routes_files):\n",
    "        chain_result = chain_training(manager, generator, ppo_agent, running_result)\n",
    "        if chain_result is not None:\n",
    "            running_result.append(chain_result)\n",
    "    \n",
    "    return running_result\n",
    "\n",
    "def chain_training(manager: env_manager, generator: env_manager.EnvManager.env_generator, ppo_agent: ppo_trainer,\n",
    "                   running_result: list):\n",
    "    # take the best config from the previous training \n",
    "    best = running_result[-1].get_best_result(\"env_runners/episode_reward_max\", \"max\")\n",
    "\n",
    "    # Initialize the environment manager with new route file\n",
    "    rou, csv = next(generator)\n",
    "    env_kwargs = manager.initialize_env(rou, csv)\n",
    "    \n",
    "    print(f\"\\nEnv creat\",\n",
    "          \"\\nNet path:\", manager.kwargs[\"net_file\"],\n",
    "          \"\\nRoute path:\", rou,\n",
    "          \"\\nCsv path:\", csv)\n",
    "    \n",
    "    # continue the training with the best config\n",
    "    ppo_agent.config = best.config\n",
    "    ppo_agent.build_config()\n",
    "    \n",
    "    result = ppo_agent.train()\n",
    "    return result"
   ],
   "id": "57e8fffd58eb2107",
   "outputs": [],
   "execution_count": null
  },
  {
   "metadata": {},
   "cell_type": "code",
   "source": [
    "num_intersection_to_train = 7  # Choose which intersection you want to train\n",
    "\n",
    "experiment_type = \"MultiAgent\"  # Choose the experiment_type: SingleAgent | MultiAgent\n",
    "\n",
    "num_routes_to_train = 2\n",
    "\n",
    "env_config_file_path = \"env_config.json\"\n",
    "\n",
    "ppo_config_file_path = \"ppo_config.json\""
   ],
   "id": "c1aea9551bb990a7",
   "outputs": [],
   "execution_count": null
  },
  {
   "metadata": {},
   "cell_type": "code",
   "source": "results = first_link_train(num_intersection=num_intersection_to_train, experiment_type=experiment_type, ppo_config=ppo_config_file_path, env_config=env_config_file_path, num_routes_files=num_routes_to_train)",
   "id": "63800ac021cb3fc2",
   "outputs": [],
   "execution_count": null
  },
  {
   "metadata": {},
   "cell_type": "code",
   "source": "print(results)",
   "id": "4941fe2a1ffc0e09",
   "outputs": [],
   "execution_count": null
  }
 ],
 "metadata": {
  "kernelspec": {
   "display_name": "Python 3 (ipykernel)",
   "language": "python",
   "name": "python3"
  },
  "language_info": {
   "codemirror_mode": {
    "name": "ipython",
    "version": 3
   },
   "file_extension": ".py",
   "mimetype": "text/x-python",
   "name": "python",
   "nbconvert_exporter": "python",
   "pygments_lexer": "ipython3",
   "version": "3.11.9"
  }
 },
 "nbformat": 4,
 "nbformat_minor": 5
}
