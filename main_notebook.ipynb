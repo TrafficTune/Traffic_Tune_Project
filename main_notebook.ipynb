{
 "cells": [
  {
   "cell_type": "markdown",
   "id": "2476f7866dc519ab",
   "metadata": {
    "collapsed": false
   },
   "source": [
    "# Setup and Installations"
   ]
  },
  {
   "metadata": {
    "ExecuteTime": {
     "end_time": "2024-08-11T09:55:06.612123Z",
     "start_time": "2024-08-11T09:55:03.085421Z"
    }
   },
   "cell_type": "code",
   "source": [
    "import utils\n",
    "import env_manager as env_manager\n",
    "import algo_trainer as algo_trainer\n",
    "from typing import SupportsIndex"
   ],
   "id": "325ce834970de795",
   "outputs": [],
   "execution_count": 1
  },
  {
   "metadata": {
    "ExecuteTime": {
     "end_time": "2024-08-11T09:55:06.617957Z",
     "start_time": "2024-08-11T09:55:06.613387Z"
    }
   },
   "cell_type": "code",
   "source": [
    "def chain_training(manager: env_manager, generator: env_manager.EnvManager.env_generator, algo_agent, running_result_grid: list):\n",
    "    if len(running_result_grid) != 0: \n",
    "        # take the best config from the previous training \n",
    "        best = running_result_grid[-1].get_best_result(metric=\"env_runners/episode_reward_mean\", mode=\"max\")\n",
    "        \n",
    "        # Initialize the environment manager with new route file\n",
    "        rou, csv = next(generator)\n",
    "        manager.initialize_env(rou, csv)\n",
    "        \n",
    "        # continue the training with the best config\n",
    "        algo_agent.config = algo_agent.from_dict(best.config)\n",
    "        algo_agent.build_config(flag=True)\n",
    "        \n",
    "    result = algo_agent.train()\n",
    "    \n",
    "    return result\n",
    "\n",
    "def training(num_intersection: int, experiment_type: str, algo_config: str, env_config: str, num_training: SupportsIndex):\n",
    "    final_running_result = []\n",
    "    sumo_type = \"SingleAgent\"\n",
    "    algo_type = experiment_type.split(\"_\")\n",
    "     \n",
    "    if experiment_type.__contains__(\"Multi\"):\n",
    "        sumo_type = \"MultiAgent\"\n",
    "    \n",
    "    # Initialize the environment manager\n",
    "    manager = env_manager.EnvManager(f\"{sumo_type}Environment\", env_config, intersection_id=f\"intersection_{num_intersection}\")\n",
    "    generator = manager.env_generator(f\"Nets/intersection_{num_intersection}/route_xml_path_intersection_{num_intersection}.txt\", algo_name=algo_type[0])\n",
    "    \n",
    "    # Initialize the environment manager with new route file\n",
    "    rou, csv = next(generator)\n",
    "    manager.initialize_env(rou, csv)\n",
    "    \n",
    "    algo_agent = algo_trainer.ALGOTrainer(config_path=algo_config, env_manager=manager, experiment_type=experiment_type)\n",
    "    algo_agent.build_config()\n",
    "    for i in range(num_training):\n",
    "        chain_result = chain_training(manager=manager, generator=generator, algo_agent=algo_agent, running_result_grid=final_running_result)\n",
    "        if chain_result is not None:\n",
    "            final_running_result.append(chain_result)\n",
    "    \n",
    "    return final_running_result"
   ],
   "id": "57e8fffd58eb2107",
   "outputs": [],
   "execution_count": 2
  },
  {
   "metadata": {
    "ExecuteTime": {
     "end_time": "2024-08-11T09:55:09.266264Z",
     "start_time": "2024-08-11T09:55:09.264138Z"
    }
   },
   "cell_type": "code",
   "source": [
    "# Choose which intersection you want to train\n",
    "num_intersection_to_train = 1\n",
    "\n",
    "# Choose the experiment_type:\n",
    "# PPO_SingleAgent | DQN_SingleAgent | DDQN_SingleAgent | PPO_MultiAgent | DQN_MultiAgent | DDQN_MultiAgent\n",
    "experiment_type = \"DQN_SingleAgent\"  \n",
    "\n",
    "# Choose how many training cycles you want to run\n",
    "num_training_cycles = 1\n",
    "\n",
    "env_config_file_path = \"Config/env_config.json\"\n",
    "\n",
    "ppo_config_file_path = \"Config/ppo_config.json\"\n",
    "\n",
    "dqn_config_file_path = \"Config/dqn_config.json\""
   ],
   "id": "37bc9c4d24c7df87",
   "outputs": [],
   "execution_count": 4
  },
  {
   "metadata": {},
   "cell_type": "code",
   "source": [
    "training(num_intersection=num_intersection_to_train, experiment_type=experiment_type, algo_config=dqn_config_file_path, env_config=env_config_file_path, num_training=num_training_cycles)\n",
    "\n",
    "print(f\"Finished training for intersection: {num_intersection_to_train} with {num_training_cycles} training rounds\")"
   ],
   "id": "f3a7770d49b9be8e",
   "execution_count": 5,
   "outputs": [
    {
     "name": "stderr",
     "output_type": "stream",
     "text": [
      "2024-08-11 12:55:15,607\tWARNING deprecation.py:50 -- DeprecationWarning: `AlgorithmConfig.num_cpus_per_worker` has been deprecated. Use `AlgorithmConfig.num_cpus_per_env_runner` instead. This will raise an error in the future!\n",
      "2024-08-11 12:55:15,607\tWARNING deprecation.py:50 -- DeprecationWarning: `AlgorithmConfig.num_gpus_per_worker` has been deprecated. Use `AlgorithmConfig.num_gpus_per_env_runner` instead. This will raise an error in the future!\n",
      "2024-08-11 12:55:15,608\tWARNING deprecation.py:50 -- DeprecationWarning: `AlgorithmConfig.num_learner_workers` has been deprecated. Use `AlgorithmConfig.num_learners` instead. This will raise an error in the future!\n",
      "2024-08-11 12:55:15,608\tWARNING deprecation.py:50 -- DeprecationWarning: `AlgorithmConfig.num_cpus_per_learner_worker` has been deprecated. Use `AlgorithmConfig.num_cpus_per_learner` instead. This will raise an error in the future!\n",
      "2024-08-11 12:55:15,608\tWARNING deprecation.py:50 -- DeprecationWarning: `AlgorithmConfig.num_gpus_per_learner_worker` has been deprecated. Use `AlgorithmConfig.num_gpus_per_learner` instead. This will raise an error in the future!\n",
      "2024-08-11 12:55:15,613\tWARNING deprecation.py:50 -- DeprecationWarning: `AlgorithmConfig.num_cpus_per_worker` has been deprecated. Use `AlgorithmConfig.num_cpus_per_env_runner` instead. This will raise an error in the future!\n",
      "2024-08-11 12:55:15,613\tWARNING deprecation.py:50 -- DeprecationWarning: `AlgorithmConfig.num_gpus_per_worker` has been deprecated. Use `AlgorithmConfig.num_gpus_per_env_runner` instead. This will raise an error in the future!\n",
      "2024-08-11 12:55:15,614\tWARNING deprecation.py:50 -- DeprecationWarning: `AlgorithmConfig.num_learner_workers` has been deprecated. Use `AlgorithmConfig.num_learners` instead. This will raise an error in the future!\n",
      "2024-08-11 12:55:15,614\tWARNING deprecation.py:50 -- DeprecationWarning: `AlgorithmConfig.num_cpus_per_learner_worker` has been deprecated. Use `AlgorithmConfig.num_cpus_per_learner` instead. This will raise an error in the future!\n",
      "2024-08-11 12:55:15,614\tWARNING deprecation.py:50 -- DeprecationWarning: `AlgorithmConfig.num_gpus_per_learner_worker` has been deprecated. Use `AlgorithmConfig.num_gpus_per_learner` instead. This will raise an error in the future!\n",
      "2024-08-11 12:55:15,619\tWARNING deprecation.py:50 -- DeprecationWarning: `AlgorithmConfig.num_cpus_per_worker` has been deprecated. Use `AlgorithmConfig.num_cpus_per_env_runner` instead. This will raise an error in the future!\n",
      "2024-08-11 12:55:15,620\tWARNING deprecation.py:50 -- DeprecationWarning: `AlgorithmConfig.num_gpus_per_worker` has been deprecated. Use `AlgorithmConfig.num_gpus_per_env_runner` instead. This will raise an error in the future!\n",
      "2024-08-11 12:55:15,620\tWARNING deprecation.py:50 -- DeprecationWarning: `AlgorithmConfig.num_learner_workers` has been deprecated. Use `AlgorithmConfig.num_learners` instead. This will raise an error in the future!\n",
      "2024-08-11 12:55:15,620\tWARNING deprecation.py:50 -- DeprecationWarning: `AlgorithmConfig.num_cpus_per_learner_worker` has been deprecated. Use `AlgorithmConfig.num_cpus_per_learner` instead. This will raise an error in the future!\n",
      "2024-08-11 12:55:15,621\tWARNING deprecation.py:50 -- DeprecationWarning: `AlgorithmConfig.num_gpus_per_learner_worker` has been deprecated. Use `AlgorithmConfig.num_gpus_per_learner` instead. This will raise an error in the future!\n"
     ]
    },
    {
     "data": {
      "text/plain": [
       "<IPython.core.display.HTML object>"
      ],
      "text/html": [
       "<div class=\"tuneStatus\">\n",
       "  <div style=\"display: flex;flex-direction: row\">\n",
       "    <div style=\"display: flex;flex-direction: column;\">\n",
       "      <h3>Tune Status</h3>\n",
       "      <table>\n",
       "<tbody>\n",
       "<tr><td>Current time:</td><td>2024-08-11 12:56:59</td></tr>\n",
       "<tr><td>Running for: </td><td>00:01:43.44        </td></tr>\n",
       "<tr><td>Memory:      </td><td>12.2/16.0 GiB      </td></tr>\n",
       "</tbody>\n",
       "</table>\n",
       "    </div>\n",
       "    <div class=\"vDivider\"></div>\n",
       "    <div class=\"systemInfo\">\n",
       "      <h3>System Info</h3>\n",
       "      Using AsyncHyperBand: num_stopped=0<br>Bracket: Iter 384.000: None | Iter 192.000: None | Iter 96.000: None | Iter 48.000: None | Iter 24.000: None | Iter 12.000: None | Iter 6.000: None | Iter 3.000: -17.483333333333334<br>Logical resource usage: 2.0/8 CPUs, 0/0 GPUs\n",
       "    </div>\n",
       "    \n",
       "  </div>\n",
       "  <div class=\"hDivider\"></div>\n",
       "  <div class=\"trialStatus\">\n",
       "    <h3>Trial Status</h3>\n",
       "    <table>\n",
       "<thead>\n",
       "<tr><th>Trial name         </th><th>status    </th><th>loc            </th><th style=\"text-align: right;\">  adam_epsilon</th><th style=\"text-align: right;\">   gamma</th><th>hiddens   </th><th style=\"text-align: right;\">         lr</th><th style=\"text-align: right;\">  n_step</th><th style=\"text-align: right;\">    target_network_updat\n",
       "e_freq</th><th style=\"text-align: right;\">  train_batch_size</th><th style=\"text-align: right;\">  iter</th><th style=\"text-align: right;\">  total time (s)</th><th style=\"text-align: right;\">  ts</th><th style=\"text-align: right;\">  num_healthy_workers</th><th style=\"text-align: right;\">  num_in_flight_async_\n",
       "sample_reqs</th><th style=\"text-align: right;\">  num_remote_worker_re\n",
       "starts</th></tr>\n",
       "</thead>\n",
       "<tbody>\n",
       "<tr><td>DQN_DQN_cf0fb_00000</td><td>TERMINATED</td><td>127.0.0.1:29860</td><td style=\"text-align: right;\">   4.08338e-08</td><td style=\"text-align: right;\">0.982825</td><td>[32, 32]  </td><td style=\"text-align: right;\">0.000353671</td><td style=\"text-align: right;\">       5</td><td style=\"text-align: right;\">500</td><td style=\"text-align: right;\">                32</td><td style=\"text-align: right;\">     3</td><td style=\"text-align: right;\">         85.0144</td><td style=\"text-align: right;\">2160</td><td style=\"text-align: right;\">                    1</td><td style=\"text-align: right;\">0</td><td style=\"text-align: right;\">0</td></tr>\n",
       "<tr><td>DQN_DQN_cf0fb_00001</td><td>TERMINATED</td><td>127.0.0.1:29861</td><td style=\"text-align: right;\">   1.86674e-07</td><td style=\"text-align: right;\">0.907901</td><td>[32, 32]  </td><td style=\"text-align: right;\">0.000539771</td><td style=\"text-align: right;\">       3</td><td style=\"text-align: right;\">500</td><td style=\"text-align: right;\">                16</td><td style=\"text-align: right;\">     3</td><td style=\"text-align: right;\">         92.7497</td><td style=\"text-align: right;\">2160</td><td style=\"text-align: right;\">                    1</td><td style=\"text-align: right;\">0</td><td style=\"text-align: right;\">0</td></tr>\n",
       "<tr><td>DQN_DQN_cf0fb_00002</td><td>TERMINATED</td><td>127.0.0.1:29862</td><td style=\"text-align: right;\">   3.53537e-10</td><td style=\"text-align: right;\">0.933803</td><td>[128, 128]</td><td style=\"text-align: right;\">0.00345357 </td><td style=\"text-align: right;\">       3</td><td style=\"text-align: right;\">500</td><td style=\"text-align: right;\">                32</td><td style=\"text-align: right;\">     3</td><td style=\"text-align: right;\">         94.6659</td><td style=\"text-align: right;\">2160</td><td style=\"text-align: right;\">                    1</td><td style=\"text-align: right;\">0</td><td style=\"text-align: right;\">0</td></tr>\n",
       "</tbody>\n",
       "</table>\n",
       "  </div>\n",
       "</div>\n",
       "<style>\n",
       ".tuneStatus {\n",
       "  color: var(--jp-ui-font-color1);\n",
       "}\n",
       ".tuneStatus .systemInfo {\n",
       "  display: flex;\n",
       "  flex-direction: column;\n",
       "}\n",
       ".tuneStatus td {\n",
       "  white-space: nowrap;\n",
       "}\n",
       ".tuneStatus .trialStatus {\n",
       "  display: flex;\n",
       "  flex-direction: column;\n",
       "}\n",
       ".tuneStatus h3 {\n",
       "  font-weight: bold;\n",
       "}\n",
       ".tuneStatus .hDivider {\n",
       "  border-bottom-width: var(--jp-border-width);\n",
       "  border-bottom-color: var(--jp-border-color0);\n",
       "  border-bottom-style: solid;\n",
       "}\n",
       ".tuneStatus .vDivider {\n",
       "  border-left-width: var(--jp-border-width);\n",
       "  border-left-color: var(--jp-border-color0);\n",
       "  border-left-style: solid;\n",
       "  margin: 0.5em 1em 0.5em 1em;\n",
       "}\n",
       "</style>\n"
      ]
     },
     "metadata": {},
     "output_type": "display_data"
    },
    {
     "name": "stderr",
     "output_type": "stream",
     "text": [
      "\u001B[36m(DQN pid=29862)\u001B[0m 2024-08-11 12:55:18,333\tWARNING deprecation.py:50 -- DeprecationWarning: `AlgorithmConfig.num_cpus_per_worker` has been deprecated. Use `AlgorithmConfig.num_cpus_per_env_runner` instead. This will raise an error in the future!\n",
      "\u001B[36m(DQN pid=29862)\u001B[0m 2024-08-11 12:55:18,333\tWARNING deprecation.py:50 -- DeprecationWarning: `AlgorithmConfig.num_gpus_per_worker` has been deprecated. Use `AlgorithmConfig.num_gpus_per_env_runner` instead. This will raise an error in the future!\n",
      "\u001B[36m(DQN pid=29862)\u001B[0m 2024-08-11 12:55:18,333\tWARNING deprecation.py:50 -- DeprecationWarning: `AlgorithmConfig.num_learner_workers` has been deprecated. Use `AlgorithmConfig.num_learners` instead. This will raise an error in the future!\n",
      "\u001B[36m(DQN pid=29862)\u001B[0m 2024-08-11 12:55:18,333\tWARNING deprecation.py:50 -- DeprecationWarning: `AlgorithmConfig.num_cpus_per_learner_worker` has been deprecated. Use `AlgorithmConfig.num_cpus_per_learner` instead. This will raise an error in the future!\n",
      "\u001B[36m(DQN pid=29862)\u001B[0m 2024-08-11 12:55:18,333\tWARNING deprecation.py:50 -- DeprecationWarning: `AlgorithmConfig.num_gpus_per_learner_worker` has been deprecated. Use `AlgorithmConfig.num_gpus_per_learner` instead. This will raise an error in the future!\n"
     ]
    },
    {
     "name": "stdout",
     "output_type": "stream",
     "text": [
      "\u001B[36m(RolloutWorker pid=29863)\u001B[0m  Retrying in 1 seconds\n",
      "\u001B[36m(RolloutWorker pid=29863)\u001B[0m Step #0.00 (0ms ?*RT. ?UPS, TraCI: 3ms, vehicles TOT 0 ACT 0 BUF 0)                      \n"
     ]
    },
    {
     "name": "stderr",
     "output_type": "stream",
     "text": [
      "\u001B[36m(DQN pid=29862)\u001B[0m Install gputil for GPU system monitoring.\n",
      "\u001B[36m(DQN pid=29860)\u001B[0m 2024-08-11 12:55:18,333\tWARNING deprecation.py:50 -- DeprecationWarning: `AlgorithmConfig.num_cpus_per_worker` has been deprecated. Use `AlgorithmConfig.num_cpus_per_env_runner` instead. This will raise an error in the future!\u001B[32m [repeated 2x across cluster] (Ray deduplicates logs by default. Set RAY_DEDUP_LOGS=0 to disable log deduplication, or see https://docs.ray.io/en/master/ray-observability/user-guides/configure-logging.html#log-deduplication for more options.)\u001B[0m\n",
      "\u001B[36m(DQN pid=29860)\u001B[0m 2024-08-11 12:55:18,333\tWARNING deprecation.py:50 -- DeprecationWarning: `AlgorithmConfig.num_gpus_per_worker` has been deprecated. Use `AlgorithmConfig.num_gpus_per_env_runner` instead. This will raise an error in the future!\u001B[32m [repeated 2x across cluster]\u001B[0m\n",
      "\u001B[36m(DQN pid=29860)\u001B[0m 2024-08-11 12:55:18,333\tWARNING deprecation.py:50 -- DeprecationWarning: `AlgorithmConfig.num_learner_workers` has been deprecated. Use `AlgorithmConfig.num_learners` instead. This will raise an error in the future!\u001B[32m [repeated 2x across cluster]\u001B[0m\n",
      "\u001B[36m(DQN pid=29860)\u001B[0m 2024-08-11 12:55:18,333\tWARNING deprecation.py:50 -- DeprecationWarning: `AlgorithmConfig.num_cpus_per_learner_worker` has been deprecated. Use `AlgorithmConfig.num_cpus_per_learner` instead. This will raise an error in the future!\u001B[32m [repeated 2x across cluster]\u001B[0m\n",
      "\u001B[36m(DQN pid=29860)\u001B[0m 2024-08-11 12:55:18,333\tWARNING deprecation.py:50 -- DeprecationWarning: `AlgorithmConfig.num_gpus_per_learner_worker` has been deprecated. Use `AlgorithmConfig.num_gpus_per_learner` instead. This will raise an error in the future!\u001B[32m [repeated 2x across cluster]\u001B[0m\n"
     ]
    },
    {
     "name": "stdout",
     "output_type": "stream",
     "text": [
      "Step #3600.00 (3ms ~= 333.33*RT, ~55000.00UPS, TraCI: 27ms, vehicles TOT 4065 ACT 165 BUF , vehicles TOT 4 ACT 4 BUF 8)      \n",
      "\u001B[36m(RolloutWorker pid=29864)\u001B[0m  Retrying in 1 seconds\u001B[32m [repeated 9x across cluster]\u001B[0m\n",
      "\u001B[36m(DQN pid=29860)\u001B[0m Step #0.00 (0ms ?*RT. ?UPS, TraCI: 5ms, vehicles TOT 0 ACT 0 BUF 0)                      \u001B[32m [repeated 5x across cluster]\u001B[0m\n"
     ]
    },
    {
     "name": "stderr",
     "output_type": "stream",
     "text": [
      "\u001B[36m(DQN pid=29860)\u001B[0m Checkpoint successfully created at: Checkpoint(filesystem=local, path=/Users/md/Desktop/Traffic_Tune_Project/Outputs/Training/intersection_1/saved_agent/DQN_2024-08-11_12-55-15/DQN_DQN_cf0fb_00000_0_adam_epsilon=0.0000,gamma=0.9828,hiddens=32_32,lr=0.0004,n_step=5,target_network_update_freq=500,train_batch_2024-08-11_12-55-15/checkpoint_000000)\n",
      "\u001B[36m(DQN pid=29861)\u001B[0m Install gputil for GPU system monitoring.\u001B[32m [repeated 2x across cluster]\u001B[0m\n"
     ]
    },
    {
     "name": "stdout",
     "output_type": "stream",
     "text": [
      "Step #3600.00 (1ms ~= 1000.00*RT, ~254000.00UPS, TraCI: 42ms, vehicles TOT 3805 ACT 254 BU, vehicles TOT 4 ACT 4 BUF 8)      \n"
     ]
    },
    {
     "name": "stderr",
     "output_type": "stream",
     "text": [
      "\u001B[36m(DQN pid=29862)\u001B[0m Checkpoint successfully created at: Checkpoint(filesystem=local, path=/Users/md/Desktop/Traffic_Tune_Project/Outputs/Training/intersection_1/saved_agent/DQN_2024-08-11_12-55-15/DQN_DQN_cf0fb_00002_2_adam_epsilon=0.0000,gamma=0.9338,hiddens=128_128,lr=0.0035,n_step=3,target_network_update_freq=500,train_bat_2024-08-11_12-55-15/checkpoint_000000)\n"
     ]
    },
    {
     "name": "stdout",
     "output_type": "stream",
     "text": [
      "Step #3600.00 (1ms ~= 1000.00*RT, ~241000.00UPS, TraCI: 41ms, vehicles TOT 3652 ACT 241 BU ACT 4 BUF 8)                      \n",
      "\u001B[36m(RolloutWorker pid=29865)\u001B[0m  Retrying in 1 seconds\u001B[32m [repeated 2x across cluster]\u001B[0m\n"
     ]
    },
    {
     "name": "stderr",
     "output_type": "stream",
     "text": [
      "\u001B[36m(DQN pid=29861)\u001B[0m Checkpoint successfully created at: Checkpoint(filesystem=local, path=/Users/md/Desktop/Traffic_Tune_Project/Outputs/Training/intersection_1/saved_agent/DQN_2024-08-11_12-55-15/DQN_DQN_cf0fb_00001_1_adam_epsilon=0.0000,gamma=0.9079,hiddens=32_32,lr=0.0005,n_step=3,target_network_update_freq=500,train_batch_2024-08-11_12-55-15/checkpoint_000000)\n"
     ]
    },
    {
     "name": "stdout",
     "output_type": "stream",
     "text": [
      "Step #3600.00 (1ms ~= 1000.00*RT, ~245000.00UPS, TraCI: 25ms, vehicles TOT 3950 ACT 245 BU, vehicles TOT 4 ACT 4 BUF 8)      \n",
      "\u001B[36m(RolloutWorker pid=29864)\u001B[0m  Retrying in 1 seconds\n"
     ]
    },
    {
     "name": "stderr",
     "output_type": "stream",
     "text": [
      "\u001B[36m(DQN pid=29860)\u001B[0m Checkpoint successfully created at: Checkpoint(filesystem=local, path=/Users/md/Desktop/Traffic_Tune_Project/Outputs/Training/intersection_1/saved_agent/DQN_2024-08-11_12-55-15/DQN_DQN_cf0fb_00000_0_adam_epsilon=0.0000,gamma=0.9828,hiddens=32_32,lr=0.0004,n_step=5,target_network_update_freq=500,train_batch_2024-08-11_12-55-15/checkpoint_000001)\n"
     ]
    },
    {
     "name": "stdout",
     "output_type": "stream",
     "text": [
      "Step #3600.00 (1ms ~= 1000.00*RT, ~249000.00UPS, TraCI: 29ms, vehicles TOT 3835 ACT 249 BU, vehicles TOT 4 ACT 4 BUF 8)      \n",
      "\u001B[36m(RolloutWorker pid=29863)\u001B[0m  Retrying in 1 seconds\n",
      "Step #3600.00 (1ms ~= 1000.00*RT, ~238000.00UPS, TraCI: 26ms, vehicles TOT 3819 ACT 238 BU ACT 4 BUF 8)                      \n"
     ]
    },
    {
     "name": "stderr",
     "output_type": "stream",
     "text": [
      "\u001B[36m(DQN pid=29862)\u001B[0m Checkpoint successfully created at: Checkpoint(filesystem=local, path=/Users/md/Desktop/Traffic_Tune_Project/Outputs/Training/intersection_1/saved_agent/DQN_2024-08-11_12-55-15/DQN_DQN_cf0fb_00002_2_adam_epsilon=0.0000,gamma=0.9338,hiddens=128_128,lr=0.0035,n_step=3,target_network_update_freq=500,train_bat_2024-08-11_12-55-15/checkpoint_000001)\n"
     ]
    },
    {
     "name": "stdout",
     "output_type": "stream",
     "text": [
      "Step #3600.00 (1ms ~= 1000.00*RT, ~184000.00UPS, TraCI: 24ms, vehicles TOT 4206 ACT 184 BU, vehicles TOT 4 ACT 4 BUF 8)      \n",
      "\u001B[36m(RolloutWorker pid=29864)\u001B[0m  Retrying in 1 seconds\u001B[32m [repeated 2x across cluster]\u001B[0m\n"
     ]
    },
    {
     "name": "stderr",
     "output_type": "stream",
     "text": [
      "\u001B[36m(DQN pid=29860)\u001B[0m Checkpoint successfully created at: Checkpoint(filesystem=local, path=/Users/md/Desktop/Traffic_Tune_Project/Outputs/Training/intersection_1/saved_agent/DQN_2024-08-11_12-55-15/DQN_DQN_cf0fb_00000_0_adam_epsilon=0.0000,gamma=0.9828,hiddens=32_32,lr=0.0004,n_step=5,target_network_update_freq=500,train_batch_2024-08-11_12-55-15/checkpoint_000002)\u001B[32m [repeated 2x across cluster]\u001B[0m\n"
     ]
    },
    {
     "name": "stdout",
     "output_type": "stream",
     "text": [
      "Step #5.00 (0ms ?*RT. ?UPS, TraCI: 582ms, vehicles TOT 8 ACT 8 BUF 4)                     , vehicles TOT 4 ACT 4 BUF 8)      \n",
      "Step #3600.00 (1ms ~= 1000.00*RT, ~190000.00UPS, TraCI: 24ms, vehicles TOT 4194 ACT 190 BU ACT 4 BUF 8)                      \n",
      "\u001B[36m(RolloutWorker pid=29865)\u001B[0m  Retrying in 1 seconds\n"
     ]
    },
    {
     "name": "stderr",
     "output_type": "stream",
     "text": [
      "\u001B[36m(DQN pid=29861)\u001B[0m Checkpoint successfully created at: Checkpoint(filesystem=local, path=/Users/md/Desktop/Traffic_Tune_Project/Outputs/Training/intersection_1/saved_agent/DQN_2024-08-11_12-55-15/DQN_DQN_cf0fb_00001_1_adam_epsilon=0.0000,gamma=0.9079,hiddens=32_32,lr=0.0005,n_step=3,target_network_update_freq=500,train_batch_2024-08-11_12-55-15/checkpoint_000002)\n"
     ]
    },
    {
     "name": "stdout",
     "output_type": "stream",
     "text": [
      "Step #5.00 (0ms ?*RT. ?UPS, TraCI: 703ms, vehicles TOT 8 ACT 8 BUF 4)                      vehicles TOT 4 ACT 4 BUF 8)       \n",
      "Step #3600.00 (1ms ~= 1000.00*RT, ~224000.00UPS, TraCI: 18ms, vehicles TOT 4339 ACT 224 BU vehicles TOT 4 ACT 4 BUF 8)       \n",
      "\u001B[36m(RolloutWorker pid=29863)\u001B[0m  Retrying in 1 seconds\n"
     ]
    },
    {
     "name": "stderr",
     "output_type": "stream",
     "text": [
      "\u001B[36m(DQN pid=29862)\u001B[0m Checkpoint successfully created at: Checkpoint(filesystem=local, path=/Users/md/Desktop/Traffic_Tune_Project/Outputs/Training/intersection_1/saved_agent/DQN_2024-08-11_12-55-15/DQN_DQN_cf0fb_00002_2_adam_epsilon=0.0000,gamma=0.9338,hiddens=128_128,lr=0.0035,n_step=3,target_network_update_freq=500,train_bat_2024-08-11_12-55-15/checkpoint_000002)\n",
      "2024-08-11 12:56:59,043\tINFO tune.py:1009 -- Wrote the latest version of all result files and experiment state to '/Users/md/Desktop/Traffic_Tune_Project/Outputs/Training/intersection_1/saved_agent/DQN_2024-08-11_12-55-15' in 0.0125s.\n",
      "2024-08-11 12:56:59,172\tINFO tune.py:1041 -- Total run time: 103.61 seconds (103.43 seconds for the tuning loop).\n"
     ]
    },
    {
     "name": "stdout",
     "output_type": "stream",
     "text": [
      "Finished training for intersection: 1 with 1 training rounds\n",
      "Step #5.00 (0ms ?*RT. ?UPS, TraCI: 180ms, vehicles TOT 8 ACT 8 BUF 4)                      ACT 4 BUF 8)                      \n"
     ]
    }
   ]
  },
  {
   "metadata": {},
   "cell_type": "code",
   "source": [
    "# Notify when done\n",
    "experiment_date = env_manager.datetime.now().strftime(\"%m.%d-%H:%M:%S\")\n",
    "message = f'Training for intersection {num_intersection_to_train} with {experiment_type} and {num_training_cycles} from {experiment_date} is done!'  # Replace with your message\n",
    "recipient = 'eviatar109@icloud.com'  # Replace with your iCloud email\n",
    "utils.send_imessage(message, recipient)"
   ],
   "id": "94ed8a9c699744d4",
   "outputs": [],
   "execution_count": null
  },
  {
   "metadata": {},
   "cell_type": "code",
   "source": [
    "result = results[-1]\n",
    "from ray.rllib.algorithms.algorithm import Algorithm\n",
    "\n",
    "best_result = result.get_best_result(\"env_runners/episode_reward_max\", \"max\")\n",
    "checkpoint_path = best_result.checkpoint.path\n",
    "print(f'Best checkpoint path: {checkpoint_path}')\n",
    "\n",
    "# Load the Algorithm from the checkpoint\n",
    "algo = Algorithm.from_checkpoint(checkpoint_path)\n",
    "\n",
    "# Retrieve the current configuration\n",
    "new_config = algo.config.copy()\n",
    "new_config[\"evaluation_duration\"] = 2 # Define as many evaluation episodes as you want\n",
    "\n",
    "\n",
    "# Re-create the algorithm instance with the updated configuration\n",
    "algo = Algorithm.from_checkpoint(checkpoint_path)\n",
    "algo.config = new_config\n",
    "\n",
    "# Evaluate the Algorithm\n",
    "eval_results = algo.evaluate()\n",
    "print(eval_results)"
   ],
   "id": "b969ba9404d829af",
   "outputs": [],
   "execution_count": null
  },
  {
   "metadata": {},
   "cell_type": "code",
   "source": "utils.extract_and_write_all_params()",
   "id": "e33b9b0899c29758",
   "outputs": [],
   "execution_count": null
  }
 ],
 "metadata": {
  "kernelspec": {
   "display_name": "Python 3 (ipykernel)",
   "language": "python",
   "name": "python3"
  },
  "language_info": {
   "codemirror_mode": {
    "name": "ipython",
    "version": 3
   },
   "file_extension": ".py",
   "mimetype": "text/x-python",
   "name": "python",
   "nbconvert_exporter": "python",
   "pygments_lexer": "ipython3",
   "version": "3.11.9"
  }
 },
 "nbformat": 4,
 "nbformat_minor": 5
}
