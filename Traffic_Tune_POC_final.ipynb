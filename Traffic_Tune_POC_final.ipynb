{
 "cells": [
  {
   "cell_type": "markdown",
   "id": "98a145c81c2dbf7b",
   "metadata": {
    "collapsed": false
   },
   "source": [
    "# Traffic Tune - Optimizing Traffic Signals with Reinforcement Learning\n",
    "\n",
    "## Introduction\n",
    "\n",
    "Welcome to the Traffic Tune POC notebook. Our project focused on optimizing traffic signal control using reinforcement learning. Traffic congestion is a major problem in urban areas, leading to increased travel times, fuel consumption, and pollution. Traditional traffic signal control systems often struggle to adapt to dynamic traffic conditions, resulting in suboptimal traffic flow.\n",
    "\n",
    "Traffic Tune is a recommendation system that leverages reinforcement learning to dynamically adjust traffic signals at intersections. By learning from traffic patterns in real-time, Traffic Tune aims to improve traffic flow, reduce congestion, and enhance overall transportation efficiency.\n",
    "\n",
    "In this POC, we will demonstrate how to train a reinforcement learning agent to optimize traffic signal control in a simulated environment. We will use the SUMO (Simulation of Urban MObility) traffic simulation tool and the Stable Baselines3 library to train a Deep Q-Network (DQN) agent to learn an optimal traffic signal control policy.\n"
   ]
  },
  {
   "cell_type": "markdown",
   "id": "2476f7866dc519ab",
   "metadata": {
    "collapsed": false
   },
   "source": [
    "# Setup and Installations"
   ]
  },
  {
   "metadata": {
    "ExecuteTime": {
     "end_time": "2024-07-21T09:40:25.157443Z",
     "start_time": "2024-07-21T09:40:23.722291Z"
    }
   },
   "cell_type": "code",
   "source": [
    "import env_manager as env_manager\n",
    "import ppo_trainer as ppo_trainer"
   ],
   "id": "325ce834970de795",
   "outputs": [],
   "execution_count": 1
  },
  {
   "metadata": {},
   "cell_type": "code",
   "outputs": [],
   "execution_count": null,
   "source": [
    "num_intersection_to_train = 3 # Choose which intersection you want to train\n",
    "\n",
    "experiment_type = \"SingleAgent\" # Choose the experiment_type: SingleAgent | MultiAgent"
   ],
   "id": "c1aea9551bb990a7"
  },
  {
   "metadata": {},
   "cell_type": "markdown",
   "source": "env setup",
   "id": "9ca6bdb038bc5642"
  },
  {
   "metadata": {
    "ExecuteTime": {
     "end_time": "2024-07-21T09:40:25.161718Z",
     "start_time": "2024-07-21T09:40:25.158580Z"
    }
   },
   "cell_type": "code",
   "source": [
    "manager = env_manager.EnvManager(\"SingleAgentEnvironment\", \"env_config.json\", json_id=f\"intersection_{num_intersection_to_train}\")\n",
    "generator = manager.env_generator(f\"Nets/intersection_{num_intersection_to_train}/route_xml_path_intersection_{num_intersection_to_train}.txt\")\n",
    "rou , csv = next(generator)\n",
    "env_kwargs = manager.initialize_env(rou, csv)\n",
    "\n",
    "print(f\" Env creat for intersection_{num_intersection_to_train}\", \"\\n Route path:\", rou,\"\\n Csv path:\", csv)"
   ],
   "id": "3dbaca67cce7f5c7",
   "outputs": [
    {
     "name": "stdout",
     "output_type": "stream",
     "text": [
      " Env creat for intersection_3 \n",
      " Route path: Nets/intersection_3/routes_3/intersection_3_random_easy_1.rou.xml \n",
      " Csv path: Outputs/Training/intersection_3/experiments/intersection_3_random_easy_1_07.21-12:40:25\n"
     ]
    }
   ],
   "execution_count": 2
  },
  {
   "metadata": {},
   "cell_type": "markdown",
   "source": "agent setup",
   "id": "b64cd532db18accd"
  },
  {
   "metadata": {
    "ExecuteTime": {
     "end_time": "2024-07-21T09:40:31.943435Z",
     "start_time": "2024-07-21T09:40:29.891926Z"
    }
   },
   "cell_type": "code",
   "source": [
    "ppo_agent = ppo_trainer.PPOTrainer(\"ppo_config.json\", manager, experiment_type=experiment_type)\n",
    "ppo_agent.build_config()"
   ],
   "id": "8309087ffdba4187",
   "outputs": [
    {
     "name": "stderr",
     "output_type": "stream",
     "text": [
      "2024-07-21 12:40:31,455\tINFO worker.py:1771 -- Started a local Ray instance.\n"
     ]
    },
    {
     "data": {
      "text/plain": [
       "<ray.rllib.algorithms.ppo.ppo.PPOConfig at 0x109ed76d0>"
      ]
     },
     "execution_count": 3,
     "metadata": {},
     "output_type": "execute_result"
    }
   ],
   "execution_count": 3
  },
  {
   "metadata": {},
   "cell_type": "markdown",
   "source": "agent training",
   "id": "ffd34e669e6861c5"
  },
  {
   "metadata": {},
   "cell_type": "code",
   "source": "results = ppo_agent.train()",
   "id": "94b0bb667ed4bf91",
   "outputs": [],
   "execution_count": null
  },
  {
   "metadata": {},
   "cell_type": "code",
   "source": [
    "print(results.get_dataframe().get(\"env_runners/episodes_timesteps_total\"))\n",
    "# num_env_runners * num_episode * batch_size = 3600k | 720K"
   ],
   "id": "30f290fd8430f049",
   "outputs": [],
   "execution_count": null
  },
  {
   "metadata": {},
   "cell_type": "markdown",
   "source": "agent prediction",
   "id": "51f4ac4280880d68"
  },
  {
   "metadata": {},
   "cell_type": "code",
   "source": "ppo_agent.evaluate(results=results, kwargs=env_kwargs)",
   "id": "c49972e77b501485",
   "outputs": [],
   "execution_count": null
  },
  {
   "metadata": {},
   "cell_type": "code",
   "source": [
    "best = results.get_best_result(\"env_runners/episode_reward_mean\", \"max\")\n",
    "# print(best)"
   ],
   "id": "106ea8376d47f062",
   "outputs": [],
   "execution_count": null
  },
  {
   "metadata": {},
   "cell_type": "code",
   "source": [
    "rou , csv = next(generator)\n",
    "print(rou)\n",
    "print(csv)\n",
    "env_kwargs = manager.initialize_env(rou, csv)\n",
    "print(env_kwargs)"
   ],
   "id": "3268ffa1ca0a9774",
   "outputs": [],
   "execution_count": null
  },
  {
   "metadata": {},
   "cell_type": "code",
   "source": [
    "ppo_agent.config = best.config\n",
    "ppo_agent.build_config(env_kwargs)"
   ],
   "id": "4c7c2003ddb31e62",
   "outputs": [],
   "execution_count": null
  },
  {
   "metadata": {},
   "cell_type": "code",
   "source": "result_2 = ppo_agent.train()",
   "id": "588eabfc632d79d7",
   "outputs": [],
   "execution_count": null
  }
 ],
 "metadata": {
  "kernelspec": {
   "display_name": "Python 3 (ipykernel)",
   "language": "python",
   "name": "python3"
  },
  "language_info": {
   "codemirror_mode": {
    "name": "ipython",
    "version": 3
   },
   "file_extension": ".py",
   "mimetype": "text/x-python",
   "name": "python",
   "nbconvert_exporter": "python",
   "pygments_lexer": "ipython3",
   "version": "3.11.9"
  }
 },
 "nbformat": 4,
 "nbformat_minor": 5
}
